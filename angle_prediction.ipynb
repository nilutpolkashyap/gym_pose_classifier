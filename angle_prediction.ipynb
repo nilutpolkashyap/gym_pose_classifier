{
 "cells": [
  {
   "cell_type": "code",
   "execution_count": 1,
   "metadata": {},
   "outputs": [],
   "source": [
    "import cv2\n",
    "import mediapipe as mp\n",
    "import numpy as np"
   ]
  },
  {
   "cell_type": "markdown",
   "metadata": {},
   "source": [
    "mp_drawing=mp.solutions.drawing_utils\n",
    "mp_pose=mp.solutions.pose"
   ]
  },
  {
   "cell_type": "code",
   "execution_count": 2,
   "metadata": {},
   "outputs": [],
   "source": [
    "#Skeleton Formation\n",
    "\n",
    "cam= cv2.VideoCapture(\"BC2.mp4\")\n",
    "cam.set(3,1280)\n",
    "cam.set(4,960)\n",
    "\n",
    "with mp.solutions.pose.Pose(min_detection_confidence=0.5, min_tracking_confidence=0.5) as pose:\n",
    "    while cam.isOpened():\n",
    "        ret, frame= cam.read()\n",
    "        \n",
    "        frame=cv2.flip(frame,1);\n",
    "        \n",
    "        #BGR to RGB\n",
    "        image= cv2.cvtColor(frame, cv2.COLOR_BGR2RGB)\n",
    "        image.flags.writeable= False\n",
    "        \n",
    "        #Process the image\n",
    "        results= pose.process(image)\n",
    "        \n",
    "        #RGB to BGR\n",
    "        image.flags.writeable= True\n",
    "        image= cv2.cvtColor(image, cv2.COLOR_RGB2BGR)\n",
    "        \n",
    "        mp.solutions.drawing_utils.draw_landmarks(image, results.pose_landmarks, mp.solutions.pose.POSE_CONNECTIONS)\n",
    "        \n",
    "        cv2.imshow('Almighty Push', image)\n",
    "    \n",
    "        if(cv2.waitKey(10)& 0xFF== ord('q')):\n",
    "            break\n",
    "\n",
    "    cam.release()\n",
    "    cv2.destroyAllWindows()"
   ]
  },
  {
   "cell_type": "code",
   "execution_count": 27,
   "metadata": {},
   "outputs": [],
   "source": [
    "cv2.destroyAllWindows()"
   ]
  },
  {
   "cell_type": "code",
   "execution_count": 29,
   "metadata": {
    "scrolled": true
   },
   "outputs": [
    {
     "name": "stdout",
     "output_type": "stream",
     "text": [
      "PoseLandmark.NOSE\n",
      "PoseLandmark.LEFT_EYE_INNER\n",
      "PoseLandmark.LEFT_EYE\n",
      "PoseLandmark.LEFT_EYE_OUTER\n",
      "PoseLandmark.RIGHT_EYE_INNER\n",
      "PoseLandmark.RIGHT_EYE\n",
      "PoseLandmark.RIGHT_EYE_OUTER\n",
      "PoseLandmark.LEFT_EAR\n",
      "PoseLandmark.RIGHT_EAR\n",
      "PoseLandmark.MOUTH_LEFT\n",
      "PoseLandmark.MOUTH_RIGHT\n",
      "PoseLandmark.LEFT_SHOULDER\n",
      "PoseLandmark.RIGHT_SHOULDER\n",
      "PoseLandmark.LEFT_ELBOW\n",
      "PoseLandmark.RIGHT_ELBOW\n",
      "PoseLandmark.LEFT_WRIST\n",
      "PoseLandmark.RIGHT_WRIST\n",
      "PoseLandmark.LEFT_PINKY\n",
      "PoseLandmark.RIGHT_PINKY\n",
      "PoseLandmark.LEFT_INDEX\n",
      "PoseLandmark.RIGHT_INDEX\n",
      "PoseLandmark.LEFT_THUMB\n",
      "PoseLandmark.RIGHT_THUMB\n",
      "PoseLandmark.LEFT_HIP\n",
      "PoseLandmark.RIGHT_HIP\n",
      "PoseLandmark.LEFT_KNEE\n",
      "PoseLandmark.RIGHT_KNEE\n",
      "PoseLandmark.LEFT_ANKLE\n",
      "PoseLandmark.RIGHT_ANKLE\n",
      "PoseLandmark.LEFT_HEEL\n",
      "PoseLandmark.RIGHT_HEEL\n",
      "PoseLandmark.LEFT_FOOT_INDEX\n",
      "PoseLandmark.RIGHT_FOOT_INDEX\n"
     ]
    }
   ],
   "source": [
    "for i in mp.solutions.pose.PoseLandmark:\n",
    "    print(i)"
   ]
  },
  {
   "cell_type": "code",
   "execution_count": 3,
   "metadata": {},
   "outputs": [],
   "source": [
    "#Coordinates of Joints\n",
    "#Skeleton Formation\n",
    "\n",
    "cam= cv2.VideoCapture(\"BC1.mp4\")\n",
    "\n",
    "with mp.solutions.pose.Pose(min_detection_confidence=0.6, min_tracking_confidence=0.5) as pose:\n",
    "    while cam.isOpened():\n",
    "        ret, frame= cam.read()\n",
    "        \n",
    "        #BGR to RGB\n",
    "        image= cv2.cvtColor(frame, cv2.COLOR_BGR2RGB)\n",
    "        image.flags.writeable= False\n",
    "        \n",
    "        #Process the image\n",
    "        results= pose.process(image)\n",
    "        \n",
    "        #RGB to BGR\n",
    "        image.flags.writeable= True\n",
    "        image= cv2.cvtColor(image, cv2.COLOR_RGB2BGR)\n",
    "        \n",
    "        try:\n",
    "            coordinates=results.pose_landmarks.landmark\n",
    "        except:\n",
    "            pass\n",
    "        \n",
    "        mp.solutions.drawing_utils.draw_landmarks(image, results.pose_landmarks, mp.solutions.pose.POSE_CONNECTIONS)\n",
    "        \n",
    "        cv2.imshow('Almighty Push', image)\n",
    "    \n",
    "        if(cv2.waitKey(10)& 0xFF== ord('q')):\n",
    "            break\n",
    "\n",
    "    cam.release()\n",
    "    cv2.destroyAllWindows()"
   ]
  },
  {
   "cell_type": "code",
   "execution_count": 5,
   "metadata": {
    "scrolled": true
   },
   "outputs": [
    {
     "data": {
      "text/plain": [
       "[x: 0.7358805\n",
       "y: 0.47590706\n",
       "z: -2.4379864\n",
       "visibility: 0.9996648\n",
       ", x: 0.80897295\n",
       "y: 0.33177716\n",
       "z: -2.4181492\n",
       "visibility: 0.99909633\n",
       ", x: 0.8519541\n",
       "y: 0.32938394\n",
       "z: -2.417377\n",
       "visibility: 0.99892515\n",
       ", x: 0.88419706\n",
       "y: 0.32858923\n",
       "z: -2.4169297\n",
       "visibility: 0.9984943\n",
       ", x: 0.6763051\n",
       "y: 0.31969947\n",
       "z: -2.4483705\n",
       "visibility: 0.99935955\n",
       ", x: 0.6358075\n",
       "y: 0.3094243\n",
       "z: -2.4477963\n",
       "visibility: 0.99939215\n",
       ", x: 0.59451866\n",
       "y: 0.30093667\n",
       "z: -2.4475527\n",
       "visibility: 0.9993781\n",
       ", x: 0.92180127\n",
       "y: 0.33060694\n",
       "z: -1.9043303\n",
       "visibility: 0.99813384\n",
       ", x: 0.49551454\n",
       "y: 0.28716436\n",
       "z: -2.0275655\n",
       "visibility: 0.9997002\n",
       ", x: 0.7966644\n",
       "y: 0.58888584\n",
       "z: -2.2080894\n",
       "visibility: 0.9994301\n",
       ", x: 0.66023767\n",
       "y: 0.5815224\n",
       "z: -2.2437654\n",
       "visibility: 0.99976623\n",
       ", x: 0.98189306\n",
       "y: 0.7411672\n",
       "z: -1.3262187\n",
       "visibility: 0.99173766\n",
       ", x: 0.2620962\n",
       "y: 0.7728685\n",
       "z: -1.4904454\n",
       "visibility: 0.9974779\n",
       ", x: 1.1212181\n",
       "y: 1.2388752\n",
       "z: -1.0730487\n",
       "visibility: 0.20176712\n",
       ", x: 0.0797037\n",
       "y: 1.349411\n",
       "z: -1.2559931\n",
       "visibility: 0.6037811\n",
       ", x: 1.085924\n",
       "y: 1.6496179\n",
       "z: -1.3156192\n",
       "visibility: 0.10520919\n",
       ", x: 0.12875238\n",
       "y: 1.8248857\n",
       "z: -1.6481069\n",
       "visibility: 0.19026542\n",
       ", x: 1.1214858\n",
       "y: 1.7865555\n",
       "z: -1.4351836\n",
       "visibility: 0.09957744\n",
       ", x: 0.102921665\n",
       "y: 1.9975774\n",
       "z: -1.7669827\n",
       "visibility: 0.16614908\n",
       ", x: 1.0816975\n",
       "y: 1.7665627\n",
       "z: -1.4858769\n",
       "visibility: 0.1184173\n",
       ", x: 0.16638377\n",
       "y: 1.9467703\n",
       "z: -1.8538444\n",
       "visibility: 0.21662247\n",
       ", x: 1.0397964\n",
       "y: 1.7230339\n",
       "z: -1.3611103\n",
       "visibility: 0.12564994\n",
       ", x: 0.19586274\n",
       "y: 1.8827271\n",
       "z: -1.6963243\n",
       "visibility: 0.22305049\n",
       ", x: 0.8787217\n",
       "y: 1.7472093\n",
       "z: -0.06205129\n",
       "visibility: 0.0011653503\n",
       ", x: 0.4124189\n",
       "y: 1.740858\n",
       "z: 0.06723933\n",
       "visibility: 0.0011876991\n",
       ", x: 0.82551\n",
       "y: 2.621986\n",
       "z: 0.20807633\n",
       "visibility: 0.0019863283\n",
       ", x: 0.44589177\n",
       "y: 2.62696\n",
       "z: 0.11570388\n",
       "visibility: 0.0008546592\n",
       ", x: 0.8167051\n",
       "y: 3.354987\n",
       "z: 1.3114091\n",
       "visibility: 0.00010748271\n",
       ", x: 0.4506549\n",
       "y: 3.3349874\n",
       "z: 0.9799821\n",
       "visibility: 2.6761356e-05\n",
       ", x: 0.80677664\n",
       "y: 3.489443\n",
       "z: 1.3604856\n",
       "visibility: 4.7462527e-05\n",
       ", x: 0.45269075\n",
       "y: 3.4598625\n",
       "z: 1.0284795\n",
       "visibility: 4.8847352e-05\n",
       ", x: 0.7794806\n",
       "y: 3.6521082\n",
       "z: 0.5916085\n",
       "visibility: 0.00012937759\n",
       ", x: 0.52767235\n",
       "y: 3.6362052\n",
       "z: 0.12731214\n",
       "visibility: 0.00016904782\n",
       "]"
      ]
     },
     "execution_count": 5,
     "metadata": {},
     "output_type": "execute_result"
    }
   ],
   "source": [
    "coordinates"
   ]
  },
  {
   "cell_type": "code",
   "execution_count": 6,
   "metadata": {},
   "outputs": [
    {
     "data": {
      "text/plain": [
       "33"
      ]
     },
     "execution_count": 6,
     "metadata": {},
     "output_type": "execute_result"
    }
   ],
   "source": [
    "len(coordinates)"
   ]
  },
  {
   "cell_type": "code",
   "execution_count": 7,
   "metadata": {},
   "outputs": [
    {
     "data": {
      "text/plain": [
       "x: 0.98189306\n",
       "y: 0.7411672\n",
       "z: -1.3262187\n",
       "visibility: 0.99173766"
      ]
     },
     "execution_count": 7,
     "metadata": {},
     "output_type": "execute_result"
    }
   ],
   "source": [
    "#grabbing particular coordinate\n",
    "coordinates[mp.solutions.pose.PoseLandmark.LEFT_SHOULDER]"
   ]
  },
  {
   "cell_type": "code",
   "execution_count": 8,
   "metadata": {},
   "outputs": [
    {
     "data": {
      "text/plain": [
       "<PoseLandmark.LEFT_SHOULDER: 11>"
      ]
     },
     "execution_count": 8,
     "metadata": {},
     "output_type": "execute_result"
    }
   ],
   "source": [
    "mp.solutions.pose.PoseLandmark.LEFT_SHOULDER"
   ]
  },
  {
   "cell_type": "code",
   "execution_count": 9,
   "metadata": {},
   "outputs": [
    {
     "data": {
      "text/plain": [
       "11"
      ]
     },
     "execution_count": 9,
     "metadata": {},
     "output_type": "execute_result"
    }
   ],
   "source": [
    "mp.solutions.pose.PoseLandmark.LEFT_SHOULDER.value"
   ]
  },
  {
   "cell_type": "code",
   "execution_count": 10,
   "metadata": {},
   "outputs": [
    {
     "data": {
      "text/plain": [
       "x: 0.98189306\n",
       "y: 0.7411672\n",
       "z: -1.3262187\n",
       "visibility: 0.99173766"
      ]
     },
     "execution_count": 10,
     "metadata": {},
     "output_type": "execute_result"
    }
   ],
   "source": [
    "coordinates[mp.solutions.pose.PoseLandmark.LEFT_SHOULDER.value]"
   ]
  },
  {
   "cell_type": "code",
   "execution_count": 31,
   "metadata": {},
   "outputs": [],
   "source": [
    "#Calculate Angles\n",
    "def calculateAngle(a,b,c):\n",
    "    a=np.array(a);\n",
    "    b=np.array(b);\n",
    "    c=np.array(c);\n",
    "    \n",
    "    radians= np.arctan2(c[1]-b[1], c[0]-b[0])-np.arctan2(a[1]-b[1], a[0]-b[0])\n",
    "    angle= np.abs(radians*180.0/np.pi)\n",
    "    \n",
    "    if angle> 180.0:\n",
    "        angle=360-angle\n",
    "        \n",
    "    return angle"
   ]
  },
  {
   "cell_type": "code",
   "execution_count": 32,
   "metadata": {},
   "outputs": [],
   "source": [
    "shoulder=[coordinates[mp.solutions.pose.PoseLandmark.LEFT_SHOULDER.value].x, coordinates[mp.solutions.pose.PoseLandmark.LEFT_SHOULDER.value].y]"
   ]
  },
  {
   "cell_type": "code",
   "execution_count": 33,
   "metadata": {},
   "outputs": [
    {
     "data": {
      "text/plain": [
       "[0.5892960429191589, 0.2507196068763733]"
      ]
     },
     "execution_count": 33,
     "metadata": {},
     "output_type": "execute_result"
    }
   ],
   "source": [
    "shoulder"
   ]
  },
  {
   "cell_type": "code",
   "execution_count": 34,
   "metadata": {},
   "outputs": [],
   "source": [
    "elbow=[coordinates[mp.solutions.pose.PoseLandmark.LEFT_ELBOW.value].x, coordinates[mp.solutions.pose.PoseLandmark.LEFT_ELBOW.value].y] "
   ]
  },
  {
   "cell_type": "code",
   "execution_count": 35,
   "metadata": {},
   "outputs": [
    {
     "data": {
      "text/plain": [
       "[0.5851269960403442, 0.4130338132381439]"
      ]
     },
     "execution_count": 35,
     "metadata": {},
     "output_type": "execute_result"
    }
   ],
   "source": [
    "elbow"
   ]
  },
  {
   "cell_type": "code",
   "execution_count": 36,
   "metadata": {},
   "outputs": [],
   "source": [
    "wrist=[coordinates[mp.solutions.pose.PoseLandmark.LEFT_WRIST.value].x, coordinates[mp.solutions.pose.PoseLandmark.LEFT_WRIST.value].y] "
   ]
  },
  {
   "cell_type": "code",
   "execution_count": 37,
   "metadata": {},
   "outputs": [
    {
     "data": {
      "text/plain": [
       "[0.5153993964195251, 0.44086146354675293]"
      ]
     },
     "execution_count": 37,
     "metadata": {},
     "output_type": "execute_result"
    }
   ],
   "source": [
    "wrist"
   ]
  },
  {
   "cell_type": "code",
   "execution_count": 38,
   "metadata": {},
   "outputs": [
    {
     "data": {
      "text/plain": [
       "113.22781308059578"
      ]
     },
     "execution_count": 38,
     "metadata": {},
     "output_type": "execute_result"
    }
   ],
   "source": [
    "calculateAngle(shoulder, elbow, wrist)"
   ]
  },
  {
   "cell_type": "code",
   "execution_count": 4,
   "metadata": {
    "scrolled": true
   },
   "outputs": [],
   "source": [
    "#Coordinates of Joints\n",
    "#Skeleton Formation\n",
    "\n",
    "cam= cv2.VideoCapture(\"BC2.mp4\")\n",
    "\n",
    "with mp.solutions.pose.Pose(min_detection_confidence=0.6, min_tracking_confidence=0.5) as pose:\n",
    "    while cam.isOpened():\n",
    "        ret, frame= cam.read()\n",
    "        \n",
    "        #BGR to RGB\n",
    "        image= cv2.cvtColor(frame, cv2.COLOR_BGR2RGB)\n",
    "        image.flags.writeable= False\n",
    "        \n",
    "        #Process the image\n",
    "        results= pose.process(image)\n",
    "        \n",
    "        #RGB to BGR\n",
    "        image.flags.writeable= True\n",
    "        image= cv2.cvtColor(image, cv2.COLOR_RGB2BGR)\n",
    "        \n",
    "        try:\n",
    "            coordinates=results.pose_landmarks.landmark\n",
    "            \n",
    "            shoulder=[coordinates[mp.solutions.pose.PoseLandmark.LEFT_SHOULDER.value].x, coordinates[mp.solutions.pose.PoseLandmark.LEFT_SHOULDER.value].y]\n",
    "            elbow=[coordinates[mp.solutions.pose.PoseLandmark.LEFT_ELBOW.value].x, coordinates[mp.solutions.pose.PoseLandmark.LEFT_ELBOW.value].y] \n",
    "            wrist=[coordinates[mp.solutions.pose.PoseLandmark.LEFT_WRIST.value].x, coordinates[mp.solutions.pose.PoseLandmark.LEFT_WRIST.value].y]\n",
    "            \n",
    "            angle=calculateAngle(shoulder, elbow, wrist)\n",
    "            \n",
    "            cv2.putText(image, str(angle),\n",
    "                       tuple(np.multiply(elbow,[640,480]).astype(int)),\n",
    "                            cv2.FONT_HERSHEY_SIMPLEX,0.5,(255,255,255),2,cv2.LINE_AA\n",
    "                       )\n",
    "            print(coordinates)\n",
    "        except:\n",
    "            pass\n",
    "        \n",
    "        mp.solutions.drawing_utils.draw_landmarks(image, results.pose_landmarks, mp.solutions.pose.POSE_CONNECTIONS)\n",
    "        \n",
    "        cv2.imshow('Almighty Push', image)\n",
    "    \n",
    "        if(cv2.waitKey(10)& 0xFF== ord('q')):\n",
    "            break\n",
    "\n",
    "    cam.release()\n",
    "    cv2.destroyAllWindows()"
   ]
  },
  {
   "cell_type": "code",
   "execution_count": 8,
   "metadata": {
    "scrolled": true
   },
   "outputs": [],
   "source": [
    "cam= cv2.VideoCapture(\"BC1.mp4\")\n",
    "cam.set(3,1280)\n",
    "cam.set(4,960)\n",
    "with mp.solutions.pose.Pose(min_detection_confidence=0.6, min_tracking_confidence=0.5) as pose:\n",
    "    while cam.isOpened():\n",
    "        ret, frame= cam.read()\n",
    "        \n",
    "        #BGR to RGB\n",
    "        image= cv2.cvtColor(frame, cv2.COLOR_BGR2RGB)\n",
    "        image.flags.writeable= False\n",
    "        \n",
    "        #Process the image\n",
    "        results= pose.process(image)\n",
    "        \n",
    "        #RGB to BGR\n",
    "        image.flags.writeable= True\n",
    "        image= cv2.cvtColor(image, cv2.COLOR_RGB2BGR)\n",
    "        \n",
    "        try:\n",
    "            coordinates=results.pose_landmarks.landmark\n",
    "            \n",
    "            shoulder=[coordinates[mp.solutions.pose.PoseLandmark.LEFT_SHOULDER.value].x, coordinates[mp.solutions.pose.PoseLandmark.LEFT_SHOULDER.value].y]\n",
    "            elbow=[coordinates[mp.solutions.pose.PoseLandmark.LEFT_ELBOW.value].x, coordinates[mp.solutions.pose.PoseLandmark.LEFT_ELBOW.value].y] \n",
    "            wrist=[coordinates[mp.solutions.pose.PoseLandmark.LEFT_WRIST.value].x, coordinates[mp.solutions.pose.PoseLandmark.LEFT_WRIST.value].y]\n",
    "            \n",
    "            angle=calculateAngle(shoulder, elbow, wrist)\n",
    "            \n",
    "            calcAngle= findCords(bodyclass, results.pose_landmarks.landmark)\n",
    "            cv2.putText(image, str(calcAngle),\n",
    "                       tuple(np.multiply(elbow,[1280,850]).astype(int)),\n",
    "                            cv2.FONT_HERSHEY_SIMPLEX,0.5,(255,255,255),2,cv2.LINE_AA\n",
    "                       )\n",
    "            print(coordinates)\n",
    "        except:\n",
    "            pass\n",
    "        \n",
    "        mp.solutions.drawing_utils.draw_landmarks(image, results.pose_landmarks, mp.solutions.pose.POSE_CONNECTIONS)\n",
    "        \n",
    "        cv2.imshow('Almighty Push', image)\n",
    "    \n",
    "        if(cv2.waitKey(10)& 0xFF== ord('q')):\n",
    "            break\n",
    "\n",
    "    cam.release()\n",
    "    cv2.destroyAllWindows()"
   ]
  },
  {
   "cell_type": "code",
   "execution_count": 6,
   "metadata": {},
   "outputs": [],
   "source": [
    "#Calculate Angles\n",
    "def calculateAngle(a,b,c):\n",
    "    a=np.array(a);\n",
    "    b=np.array(b);\n",
    "    c=np.array(c);\n",
    "    \n",
    "    radians= np.arctan2(c[1]-b[1], c[0]-b[0])-np.arctan2(a[1]-b[1], a[0]-b[0])\n",
    "    angle= np.abs(radians*180.0/np.pi)\n",
    "    \n",
    "    if angle> 180.0:\n",
    "        angle=360-angle\n",
    "        \n",
    "    return angle"
   ]
  },
  {
   "cell_type": "code",
   "execution_count": 7,
   "metadata": {},
   "outputs": [
    {
     "ename": "SyntaxError",
     "evalue": "invalid syntax (<ipython-input-7-18afcb8c81f4>, line 8)",
     "output_type": "error",
     "traceback": [
      "\u001b[1;36m  File \u001b[1;32m\"<ipython-input-7-18afcb8c81f4>\"\u001b[1;36m, line \u001b[1;32m8\u001b[0m\n\u001b[1;33m    elif(value)\u001b[0m\n\u001b[1;37m               ^\u001b[0m\n\u001b[1;31mSyntaxError\u001b[0m\u001b[1;31m:\u001b[0m invalid syntax\n"
     ]
    }
   ],
   "source": [
    "def findCords(value, coordinates):\n",
    "    if(value==\"bicep_curls\"):\n",
    "        shoulder=[coordinates[mp.solutions.pose.PoseLandmark.LEFT_SHOULDER.value].x, coordinates[mp.solutions.pose.PoseLandmark.LEFT_SHOULDER.value].y]\n",
    "        elbow=[coordinates[mp.solutions.pose.PoseLandmark.LEFT_ELBOW.value].x, coordinates[mp.solutions.pose.PoseLandmark.LEFT_ELBOW.value].y] \n",
    "        wrist=[coordinates[mp.solutions.pose.PoseLandmark.LEFT_WRIST.value].x, coordinates[mp.solutions.pose.PoseLandmark.LEFT_WRIST.value].y]\n",
    "        angle=calculateAngle(shoulder, elbow, wrist)\n",
    "        return angle\n",
    "    elif(value)\n",
    "        "
   ]
  },
  {
   "cell_type": "code",
   "execution_count": null,
   "metadata": {},
   "outputs": [],
   "source": []
  }
 ],
 "metadata": {
  "kernelspec": {
   "display_name": "tfgpu",
   "language": "python",
   "name": "tfgpu"
  },
  "language_info": {
   "codemirror_mode": {
    "name": "ipython",
    "version": 3
   },
   "file_extension": ".py",
   "mimetype": "text/x-python",
   "name": "python",
   "nbconvert_exporter": "python",
   "pygments_lexer": "ipython3",
   "version": "3.7.11"
  }
 },
 "nbformat": 4,
 "nbformat_minor": 5
}
