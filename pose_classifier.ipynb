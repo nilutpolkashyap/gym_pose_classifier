{
 "cells": [
  {
   "cell_type": "code",
   "execution_count": 1,
   "metadata": {},
   "outputs": [],
   "source": [
    "import mediapipe as mp\n",
    "import cv2\n",
    "import csv\n",
    "import os\n",
    "import numpy as np\n",
    "import pandas as pd\n",
    "from sklearn.model_selection import train_test_split"
   ]
  },
  {
   "cell_type": "code",
   "execution_count": 2,
   "metadata": {},
   "outputs": [],
   "source": [
    "%config Completer.use_jedi = False"
   ]
  },
  {
   "cell_type": "code",
   "execution_count": 3,
   "metadata": {},
   "outputs": [],
   "source": [
    "mp_drawing = mp.solutions.drawing_utils \n",
    "mp_holistic = mp.solutions.holistic"
   ]
  },
  {
   "cell_type": "code",
   "execution_count": 4,
   "metadata": {},
   "outputs": [],
   "source": [
    "cap = cv2.VideoCapture(\"bicep_curls_1.mp4\")\n",
    "# Initiate holistic model\n",
    "with mp_holistic.Holistic(min_detection_confidence=0.5, min_tracking_confidence=0.5) as holistic:\n",
    "    \n",
    "    while cap.isOpened():\n",
    "        ret, frame = cap.read()\n",
    "        \n",
    "        # Recolor Feed\n",
    "        image = cv2.cvtColor(frame, cv2.COLOR_BGR2RGB)\n",
    "        image.flags.writeable = False        \n",
    "        \n",
    "        # Make Detections\n",
    "        results = holistic.process(image)\n",
    "        # print(results.face_landmarks)\n",
    "        \n",
    "        # face_landmarks, pose_landmarks, left_hand_landmarks, right_hand_landmarks\n",
    "        \n",
    "        # Recolor image back to BGR for rendering\n",
    "        image.flags.writeable = True   \n",
    "        image = cv2.cvtColor(image, cv2.COLOR_RGB2BGR)\n",
    "        \n",
    "        # 1. Draw face landmarks\n",
    "#         mp_drawing.draw_landmarks(image, results.face_landmarks, mp_holistic.FACEMESH_TESSELATION, \n",
    "#                                  mp_drawing.DrawingSpec(color=(80,110,10), thickness=1, circle_radius=1),\n",
    "#                                  mp_drawing.DrawingSpec(color=(80,256,121), thickness=1, circle_radius=1)\n",
    "#                                  )\n",
    "        \n",
    "        # 2. Right hand\n",
    "        mp_drawing.draw_landmarks(image, results.right_hand_landmarks, mp_holistic.HAND_CONNECTIONS, \n",
    "                                 mp_drawing.DrawingSpec(color=(80,22,10), thickness=2, circle_radius=4),\n",
    "                                 mp_drawing.DrawingSpec(color=(80,44,121), thickness=2, circle_radius=2)\n",
    "                                 )\n",
    "\n",
    "        # 3. Left Hand\n",
    "        mp_drawing.draw_landmarks(image, results.left_hand_landmarks, mp_holistic.HAND_CONNECTIONS, \n",
    "                                 mp_drawing.DrawingSpec(color=(121,22,76), thickness=2, circle_radius=4),\n",
    "                                 mp_drawing.DrawingSpec(color=(121,44,250), thickness=2, circle_radius=2)\n",
    "                                 )\n",
    "\n",
    "        # 4. Pose Detections\n",
    "        mp_drawing.draw_landmarks(image, results.pose_landmarks, mp_holistic.POSE_CONNECTIONS, \n",
    "                                 mp_drawing.DrawingSpec(color=(245,117,66), thickness=2, circle_radius=4),\n",
    "                                 mp_drawing.DrawingSpec(color=(245,66,230), thickness=2, circle_radius=2)\n",
    "                                 )\n",
    "                        \n",
    "        cv2.imshow('Raw Webcam Feed', image)\n",
    "\n",
    "        if cv2.waitKey(1) & 0xFF == ord('q'):\n",
    "            break\n",
    "\n",
    "cap.release()\n",
    "cv2.destroyAllWindows()"
   ]
  },
  {
   "cell_type": "code",
   "execution_count": 5,
   "metadata": {
    "scrolled": true
   },
   "outputs": [
    {
     "data": {
      "text/plain": [
       "x: 0.6034635305404663\n",
       "y: 0.449518620967865\n",
       "z: -0.050493717193603516\n",
       "visibility: 0.4367929995059967"
      ]
     },
     "execution_count": 5,
     "metadata": {},
     "output_type": "execute_result"
    }
   ],
   "source": [
    "results.pose_landmarks.landmark[19]"
   ]
  },
  {
   "cell_type": "code",
   "execution_count": 6,
   "metadata": {},
   "outputs": [
    {
     "data": {
      "text/plain": [
       "33"
      ]
     },
     "execution_count": 6,
     "metadata": {},
     "output_type": "execute_result"
    }
   ],
   "source": [
    "num_coords = len(results.pose_landmarks.landmark)\n",
    "num_coords"
   ]
  },
  {
   "cell_type": "code",
   "execution_count": 7,
   "metadata": {},
   "outputs": [],
   "source": [
    "landmarks = ['class']\n",
    "for val in range(1, num_coords+1):\n",
    "    landmarks += ['x{}'.format(val), 'y{}'.format(val), 'z{}'.format(val), 'v{}'.format(val)]"
   ]
  },
  {
   "cell_type": "code",
   "execution_count": 8,
   "metadata": {
    "scrolled": true
   },
   "outputs": [
    {
     "data": {
      "text/plain": [
       "['class',\n",
       " 'x1',\n",
       " 'y1',\n",
       " 'z1',\n",
       " 'v1',\n",
       " 'x2',\n",
       " 'y2',\n",
       " 'z2',\n",
       " 'v2',\n",
       " 'x3',\n",
       " 'y3',\n",
       " 'z3',\n",
       " 'v3',\n",
       " 'x4',\n",
       " 'y4',\n",
       " 'z4',\n",
       " 'v4',\n",
       " 'x5',\n",
       " 'y5',\n",
       " 'z5',\n",
       " 'v5',\n",
       " 'x6',\n",
       " 'y6',\n",
       " 'z6',\n",
       " 'v6',\n",
       " 'x7',\n",
       " 'y7',\n",
       " 'z7',\n",
       " 'v7',\n",
       " 'x8',\n",
       " 'y8',\n",
       " 'z8',\n",
       " 'v8',\n",
       " 'x9',\n",
       " 'y9',\n",
       " 'z9',\n",
       " 'v9',\n",
       " 'x10',\n",
       " 'y10',\n",
       " 'z10',\n",
       " 'v10',\n",
       " 'x11',\n",
       " 'y11',\n",
       " 'z11',\n",
       " 'v11',\n",
       " 'x12',\n",
       " 'y12',\n",
       " 'z12',\n",
       " 'v12',\n",
       " 'x13',\n",
       " 'y13',\n",
       " 'z13',\n",
       " 'v13',\n",
       " 'x14',\n",
       " 'y14',\n",
       " 'z14',\n",
       " 'v14',\n",
       " 'x15',\n",
       " 'y15',\n",
       " 'z15',\n",
       " 'v15',\n",
       " 'x16',\n",
       " 'y16',\n",
       " 'z16',\n",
       " 'v16',\n",
       " 'x17',\n",
       " 'y17',\n",
       " 'z17',\n",
       " 'v17',\n",
       " 'x18',\n",
       " 'y18',\n",
       " 'z18',\n",
       " 'v18',\n",
       " 'x19',\n",
       " 'y19',\n",
       " 'z19',\n",
       " 'v19',\n",
       " 'x20',\n",
       " 'y20',\n",
       " 'z20',\n",
       " 'v20',\n",
       " 'x21',\n",
       " 'y21',\n",
       " 'z21',\n",
       " 'v21',\n",
       " 'x22',\n",
       " 'y22',\n",
       " 'z22',\n",
       " 'v22',\n",
       " 'x23',\n",
       " 'y23',\n",
       " 'z23',\n",
       " 'v23',\n",
       " 'x24',\n",
       " 'y24',\n",
       " 'z24',\n",
       " 'v24',\n",
       " 'x25',\n",
       " 'y25',\n",
       " 'z25',\n",
       " 'v25',\n",
       " 'x26',\n",
       " 'y26',\n",
       " 'z26',\n",
       " 'v26',\n",
       " 'x27',\n",
       " 'y27',\n",
       " 'z27',\n",
       " 'v27',\n",
       " 'x28',\n",
       " 'y28',\n",
       " 'z28',\n",
       " 'v28',\n",
       " 'x29',\n",
       " 'y29',\n",
       " 'z29',\n",
       " 'v29',\n",
       " 'x30',\n",
       " 'y30',\n",
       " 'z30',\n",
       " 'v30',\n",
       " 'x31',\n",
       " 'y31',\n",
       " 'z31',\n",
       " 'v31',\n",
       " 'x32',\n",
       " 'y32',\n",
       " 'z32',\n",
       " 'v32',\n",
       " 'x33',\n",
       " 'y33',\n",
       " 'z33',\n",
       " 'v33']"
      ]
     },
     "execution_count": 8,
     "metadata": {},
     "output_type": "execute_result"
    }
   ],
   "source": [
    "landmarks"
   ]
  },
  {
   "cell_type": "code",
   "execution_count": 9,
   "metadata": {},
   "outputs": [],
   "source": [
    "with open('coords.csv', mode='w', newline='') as f:\n",
    "    csv_writer = csv.writer(f, delimiter=',', quotechar='\"', quoting=csv.QUOTE_MINIMAL)\n",
    "    csv_writer.writerow(landmarks)"
   ]
  },
  {
   "cell_type": "code",
   "execution_count": 10,
   "metadata": {},
   "outputs": [],
   "source": [
    "class_name = \"bicep_curls\""
   ]
  },
  {
   "cell_type": "code",
   "execution_count": null,
   "metadata": {},
   "outputs": [],
   "source": [
    "cap = cv2.VideoCapture(\"bicep_curls_2.mp4\")\n",
    "# Initiate holistic model\n",
    "with mp_holistic.Holistic(min_detection_confidence=0.5, min_tracking_confidence=0.5) as holistic:\n",
    "    \n",
    "    while cap.isOpened():\n",
    "        ret, frame = cap.read()\n",
    "        \n",
    "        # Recolor Feed\n",
    "        image = cv2.cvtColor(frame, cv2.COLOR_BGR2RGB)\n",
    "        image.flags.writeable = False        \n",
    "        \n",
    "        # Make Detections\n",
    "        results = holistic.process(image)\n",
    "        # print(results.face_landmarks)\n",
    "        \n",
    "        # face_landmarks, pose_landmarks, left_hand_landmarks, right_hand_landmarks\n",
    "        \n",
    "        # Recolor image back to BGR for rendering\n",
    "        image.flags.writeable = True   \n",
    "        image = cv2.cvtColor(image, cv2.COLOR_RGB2BGR)\n",
    "        \n",
    "        # 1. Draw face landmarks\n",
    "#         mp_drawing.draw_landmarks(image, results.face_landmarks, mp_holistic.FACE_CONNECTIONS, \n",
    "#                                  mp_drawing.DrawingSpec(color=(80,110,10), thickness=1, circle_radius=1),\n",
    "#                                  mp_drawing.DrawingSpec(color=(80,256,121), thickness=1, circle_radius=1)\n",
    "#                                  )\n",
    "        \n",
    "        # 2. Right hand\n",
    "        mp_drawing.draw_landmarks(image, results.right_hand_landmarks, mp_holistic.HAND_CONNECTIONS, \n",
    "                                 mp_drawing.DrawingSpec(color=(80,22,10), thickness=2, circle_radius=4),\n",
    "                                 mp_drawing.DrawingSpec(color=(80,44,121), thickness=2, circle_radius=2)\n",
    "                                 )\n",
    "\n",
    "        # 3. Left Hand\n",
    "        mp_drawing.draw_landmarks(image, results.left_hand_landmarks, mp_holistic.HAND_CONNECTIONS, \n",
    "                                 mp_drawing.DrawingSpec(color=(121,22,76), thickness=2, circle_radius=4),\n",
    "                                 mp_drawing.DrawingSpec(color=(121,44,250), thickness=2, circle_radius=2)\n",
    "                                 )\n",
    "\n",
    "        # 4. Pose Detections\n",
    "        mp_drawing.draw_landmarks(image, results.pose_landmarks, mp_holistic.POSE_CONNECTIONS, \n",
    "                                 mp_drawing.DrawingSpec(color=(245,117,66), thickness=2, circle_radius=4),\n",
    "                                 mp_drawing.DrawingSpec(color=(245,66,230), thickness=2, circle_radius=2)\n",
    "                                 )\n",
    "        # Export coordinates\n",
    "        try:\n",
    "            # Extract Pose landmarks\n",
    "            pose = results.pose_landmarks.landmark\n",
    "            pose_row = list(np.array([[landmark.x, landmark.y, landmark.z, landmark.visibility] for landmark in pose]).flatten())\n",
    "            \n",
    "            # Extract Face landmarks\n",
    "#             face = results.face_landmarks.landmark\n",
    "#             face_row = list(np.array([[landmark.x, landmark.y, landmark.z, landmark.visibility] for landmark in face]).flatten())\n",
    "            \n",
    "            # Concate rows\n",
    "#             row = pose_row+face_row\n",
    "            row = pose_row\n",
    "            \n",
    "            # Append class name \n",
    "            row.insert(0, class_name)\n",
    "            \n",
    "            # Export to CSV\n",
    "            with open('coords.csv', mode='a', newline='') as f:\n",
    "                csv_writer = csv.writer(f, delimiter=',', quotechar='\"', quoting=csv.QUOTE_MINIMAL)\n",
    "                csv_writer.writerow(row) \n",
    "            \n",
    "        except:\n",
    "            pass\n",
    "                        \n",
    "        cv2.imshow('Raw Webcam Feed', image)\n",
    "\n",
    "        if cv2.waitKey(10) & 0xFF == ord('q'):\n",
    "            break\n",
    "\n",
    "cap.release()\n",
    "cv2.destroyAllWindows()"
   ]
  },
  {
   "cell_type": "code",
   "execution_count": 12,
   "metadata": {},
   "outputs": [],
   "source": [
    "cap.release()\n",
    "cv2.destroyAllWindows()"
   ]
  },
  {
   "cell_type": "code",
   "execution_count": 81,
   "metadata": {},
   "outputs": [],
   "source": [
    "df = pd.read_csv('coords.csv')"
   ]
  },
  {
   "cell_type": "code",
   "execution_count": 82,
   "metadata": {},
   "outputs": [
    {
     "data": {
      "text/html": [
       "<div>\n",
       "<style scoped>\n",
       "    .dataframe tbody tr th:only-of-type {\n",
       "        vertical-align: middle;\n",
       "    }\n",
       "\n",
       "    .dataframe tbody tr th {\n",
       "        vertical-align: top;\n",
       "    }\n",
       "\n",
       "    .dataframe thead th {\n",
       "        text-align: right;\n",
       "    }\n",
       "</style>\n",
       "<table border=\"1\" class=\"dataframe\">\n",
       "  <thead>\n",
       "    <tr style=\"text-align: right;\">\n",
       "      <th></th>\n",
       "      <th>class</th>\n",
       "      <th>x1</th>\n",
       "      <th>y1</th>\n",
       "      <th>z1</th>\n",
       "      <th>v1</th>\n",
       "      <th>x2</th>\n",
       "      <th>y2</th>\n",
       "      <th>z2</th>\n",
       "      <th>v2</th>\n",
       "      <th>x3</th>\n",
       "      <th>...</th>\n",
       "      <th>z31</th>\n",
       "      <th>v31</th>\n",
       "      <th>x32</th>\n",
       "      <th>y32</th>\n",
       "      <th>z32</th>\n",
       "      <th>v32</th>\n",
       "      <th>x33</th>\n",
       "      <th>y33</th>\n",
       "      <th>z33</th>\n",
       "      <th>v33</th>\n",
       "    </tr>\n",
       "  </thead>\n",
       "  <tbody>\n",
       "    <tr>\n",
       "      <th>0</th>\n",
       "      <td>open_wave</td>\n",
       "      <td>0.663168</td>\n",
       "      <td>0.387557</td>\n",
       "      <td>-0.809280</td>\n",
       "      <td>0.999265</td>\n",
       "      <td>0.680467</td>\n",
       "      <td>0.325824</td>\n",
       "      <td>-0.775894</td>\n",
       "      <td>0.998222</td>\n",
       "      <td>0.693669</td>\n",
       "      <td>...</td>\n",
       "      <td>1.074070</td>\n",
       "      <td>0.000019</td>\n",
       "      <td>0.785112</td>\n",
       "      <td>2.903667</td>\n",
       "      <td>0.465996</td>\n",
       "      <td>0.000018</td>\n",
       "      <td>0.617825</td>\n",
       "      <td>2.948442</td>\n",
       "      <td>0.568841</td>\n",
       "      <td>0.000025</td>\n",
       "    </tr>\n",
       "    <tr>\n",
       "      <th>1</th>\n",
       "      <td>open_wave</td>\n",
       "      <td>0.668292</td>\n",
       "      <td>0.386051</td>\n",
       "      <td>-0.756407</td>\n",
       "      <td>0.999319</td>\n",
       "      <td>0.684855</td>\n",
       "      <td>0.320218</td>\n",
       "      <td>-0.726552</td>\n",
       "      <td>0.998336</td>\n",
       "      <td>0.696664</td>\n",
       "      <td>...</td>\n",
       "      <td>0.882801</td>\n",
       "      <td>0.000018</td>\n",
       "      <td>0.785769</td>\n",
       "      <td>2.932818</td>\n",
       "      <td>0.190629</td>\n",
       "      <td>0.000018</td>\n",
       "      <td>0.617635</td>\n",
       "      <td>2.974762</td>\n",
       "      <td>0.377745</td>\n",
       "      <td>0.000025</td>\n",
       "    </tr>\n",
       "    <tr>\n",
       "      <th>2</th>\n",
       "      <td>open_wave</td>\n",
       "      <td>0.670044</td>\n",
       "      <td>0.383200</td>\n",
       "      <td>-0.739258</td>\n",
       "      <td>0.999323</td>\n",
       "      <td>0.686871</td>\n",
       "      <td>0.315524</td>\n",
       "      <td>-0.709811</td>\n",
       "      <td>0.998324</td>\n",
       "      <td>0.698228</td>\n",
       "      <td>...</td>\n",
       "      <td>0.953324</td>\n",
       "      <td>0.000018</td>\n",
       "      <td>0.785286</td>\n",
       "      <td>2.944501</td>\n",
       "      <td>0.234856</td>\n",
       "      <td>0.000020</td>\n",
       "      <td>0.612295</td>\n",
       "      <td>2.990304</td>\n",
       "      <td>0.450983</td>\n",
       "      <td>0.000026</td>\n",
       "    </tr>\n",
       "    <tr>\n",
       "      <th>3</th>\n",
       "      <td>open_wave</td>\n",
       "      <td>0.673270</td>\n",
       "      <td>0.383194</td>\n",
       "      <td>-0.723064</td>\n",
       "      <td>0.999359</td>\n",
       "      <td>0.689459</td>\n",
       "      <td>0.315453</td>\n",
       "      <td>-0.693005</td>\n",
       "      <td>0.998400</td>\n",
       "      <td>0.700259</td>\n",
       "      <td>...</td>\n",
       "      <td>0.980803</td>\n",
       "      <td>0.000017</td>\n",
       "      <td>0.790574</td>\n",
       "      <td>2.946949</td>\n",
       "      <td>0.227999</td>\n",
       "      <td>0.000020</td>\n",
       "      <td>0.612602</td>\n",
       "      <td>2.992018</td>\n",
       "      <td>0.475200</td>\n",
       "      <td>0.000027</td>\n",
       "    </tr>\n",
       "    <tr>\n",
       "      <th>4</th>\n",
       "      <td>open_wave</td>\n",
       "      <td>0.673232</td>\n",
       "      <td>0.382828</td>\n",
       "      <td>-0.732542</td>\n",
       "      <td>0.999394</td>\n",
       "      <td>0.689820</td>\n",
       "      <td>0.314692</td>\n",
       "      <td>-0.701756</td>\n",
       "      <td>0.998479</td>\n",
       "      <td>0.700532</td>\n",
       "      <td>...</td>\n",
       "      <td>1.021752</td>\n",
       "      <td>0.000017</td>\n",
       "      <td>0.789529</td>\n",
       "      <td>2.960156</td>\n",
       "      <td>0.184516</td>\n",
       "      <td>0.000020</td>\n",
       "      <td>0.609096</td>\n",
       "      <td>3.003415</td>\n",
       "      <td>0.509594</td>\n",
       "      <td>0.000026</td>\n",
       "    </tr>\n",
       "  </tbody>\n",
       "</table>\n",
       "<p>5 rows × 133 columns</p>\n",
       "</div>"
      ],
      "text/plain": [
       "       class        x1        y1        z1        v1        x2        y2  \\\n",
       "0  open_wave  0.663168  0.387557 -0.809280  0.999265  0.680467  0.325824   \n",
       "1  open_wave  0.668292  0.386051 -0.756407  0.999319  0.684855  0.320218   \n",
       "2  open_wave  0.670044  0.383200 -0.739258  0.999323  0.686871  0.315524   \n",
       "3  open_wave  0.673270  0.383194 -0.723064  0.999359  0.689459  0.315453   \n",
       "4  open_wave  0.673232  0.382828 -0.732542  0.999394  0.689820  0.314692   \n",
       "\n",
       "         z2        v2        x3  ...       z31       v31       x32       y32  \\\n",
       "0 -0.775894  0.998222  0.693669  ...  1.074070  0.000019  0.785112  2.903667   \n",
       "1 -0.726552  0.998336  0.696664  ...  0.882801  0.000018  0.785769  2.932818   \n",
       "2 -0.709811  0.998324  0.698228  ...  0.953324  0.000018  0.785286  2.944501   \n",
       "3 -0.693005  0.998400  0.700259  ...  0.980803  0.000017  0.790574  2.946949   \n",
       "4 -0.701756  0.998479  0.700532  ...  1.021752  0.000017  0.789529  2.960156   \n",
       "\n",
       "        z32       v32       x33       y33       z33       v33  \n",
       "0  0.465996  0.000018  0.617825  2.948442  0.568841  0.000025  \n",
       "1  0.190629  0.000018  0.617635  2.974762  0.377745  0.000025  \n",
       "2  0.234856  0.000020  0.612295  2.990304  0.450983  0.000026  \n",
       "3  0.227999  0.000020  0.612602  2.992018  0.475200  0.000027  \n",
       "4  0.184516  0.000020  0.609096  3.003415  0.509594  0.000026  \n",
       "\n",
       "[5 rows x 133 columns]"
      ]
     },
     "execution_count": 82,
     "metadata": {},
     "output_type": "execute_result"
    }
   ],
   "source": [
    "df.head()"
   ]
  },
  {
   "cell_type": "code",
   "execution_count": 83,
   "metadata": {},
   "outputs": [
    {
     "data": {
      "text/html": [
       "<div>\n",
       "<style scoped>\n",
       "    .dataframe tbody tr th:only-of-type {\n",
       "        vertical-align: middle;\n",
       "    }\n",
       "\n",
       "    .dataframe tbody tr th {\n",
       "        vertical-align: top;\n",
       "    }\n",
       "\n",
       "    .dataframe thead th {\n",
       "        text-align: right;\n",
       "    }\n",
       "</style>\n",
       "<table border=\"1\" class=\"dataframe\">\n",
       "  <thead>\n",
       "    <tr style=\"text-align: right;\">\n",
       "      <th></th>\n",
       "      <th>class</th>\n",
       "      <th>x1</th>\n",
       "      <th>y1</th>\n",
       "      <th>z1</th>\n",
       "      <th>v1</th>\n",
       "      <th>x2</th>\n",
       "      <th>y2</th>\n",
       "      <th>z2</th>\n",
       "      <th>v2</th>\n",
       "      <th>x3</th>\n",
       "      <th>...</th>\n",
       "      <th>z31</th>\n",
       "      <th>v31</th>\n",
       "      <th>x32</th>\n",
       "      <th>y32</th>\n",
       "      <th>z32</th>\n",
       "      <th>v32</th>\n",
       "      <th>x33</th>\n",
       "      <th>y33</th>\n",
       "      <th>z33</th>\n",
       "      <th>v33</th>\n",
       "    </tr>\n",
       "  </thead>\n",
       "  <tbody>\n",
       "    <tr>\n",
       "      <th>957</th>\n",
       "      <td>fist_wave</td>\n",
       "      <td>0.694228</td>\n",
       "      <td>0.367638</td>\n",
       "      <td>-0.717476</td>\n",
       "      <td>0.999802</td>\n",
       "      <td>0.712043</td>\n",
       "      <td>0.299276</td>\n",
       "      <td>-0.680381</td>\n",
       "      <td>0.999526</td>\n",
       "      <td>0.723598</td>\n",
       "      <td>...</td>\n",
       "      <td>0.726271</td>\n",
       "      <td>0.000047</td>\n",
       "      <td>0.801439</td>\n",
       "      <td>3.131895</td>\n",
       "      <td>-0.186329</td>\n",
       "      <td>0.000056</td>\n",
       "      <td>0.633782</td>\n",
       "      <td>3.173638</td>\n",
       "      <td>0.183414</td>\n",
       "      <td>0.000053</td>\n",
       "    </tr>\n",
       "    <tr>\n",
       "      <th>958</th>\n",
       "      <td>fist_wave</td>\n",
       "      <td>0.694469</td>\n",
       "      <td>0.367711</td>\n",
       "      <td>-0.716810</td>\n",
       "      <td>0.999798</td>\n",
       "      <td>0.712148</td>\n",
       "      <td>0.299180</td>\n",
       "      <td>-0.676914</td>\n",
       "      <td>0.999513</td>\n",
       "      <td>0.723673</td>\n",
       "      <td>...</td>\n",
       "      <td>0.745691</td>\n",
       "      <td>0.000045</td>\n",
       "      <td>0.804173</td>\n",
       "      <td>3.128687</td>\n",
       "      <td>-0.179096</td>\n",
       "      <td>0.000055</td>\n",
       "      <td>0.636335</td>\n",
       "      <td>3.170710</td>\n",
       "      <td>0.206414</td>\n",
       "      <td>0.000052</td>\n",
       "    </tr>\n",
       "    <tr>\n",
       "      <th>959</th>\n",
       "      <td>fist_wave</td>\n",
       "      <td>0.694498</td>\n",
       "      <td>0.367745</td>\n",
       "      <td>-0.698912</td>\n",
       "      <td>0.999805</td>\n",
       "      <td>0.712196</td>\n",
       "      <td>0.299410</td>\n",
       "      <td>-0.657707</td>\n",
       "      <td>0.999527</td>\n",
       "      <td>0.723704</td>\n",
       "      <td>...</td>\n",
       "      <td>0.652927</td>\n",
       "      <td>0.000042</td>\n",
       "      <td>0.804338</td>\n",
       "      <td>3.128110</td>\n",
       "      <td>-0.202398</td>\n",
       "      <td>0.000053</td>\n",
       "      <td>0.635553</td>\n",
       "      <td>3.170287</td>\n",
       "      <td>0.123100</td>\n",
       "      <td>0.000051</td>\n",
       "    </tr>\n",
       "    <tr>\n",
       "      <th>960</th>\n",
       "      <td>fist_wave</td>\n",
       "      <td>0.694640</td>\n",
       "      <td>0.368214</td>\n",
       "      <td>-0.683450</td>\n",
       "      <td>0.999818</td>\n",
       "      <td>0.712295</td>\n",
       "      <td>0.299922</td>\n",
       "      <td>-0.643405</td>\n",
       "      <td>0.999556</td>\n",
       "      <td>0.723776</td>\n",
       "      <td>...</td>\n",
       "      <td>0.624371</td>\n",
       "      <td>0.000039</td>\n",
       "      <td>0.804239</td>\n",
       "      <td>3.127660</td>\n",
       "      <td>-0.271945</td>\n",
       "      <td>0.000051</td>\n",
       "      <td>0.634976</td>\n",
       "      <td>3.169992</td>\n",
       "      <td>0.088362</td>\n",
       "      <td>0.000049</td>\n",
       "    </tr>\n",
       "    <tr>\n",
       "      <th>961</th>\n",
       "      <td>fist_wave</td>\n",
       "      <td>0.696196</td>\n",
       "      <td>0.366347</td>\n",
       "      <td>-0.739507</td>\n",
       "      <td>0.999823</td>\n",
       "      <td>0.713030</td>\n",
       "      <td>0.299381</td>\n",
       "      <td>-0.692620</td>\n",
       "      <td>0.999570</td>\n",
       "      <td>0.724546</td>\n",
       "      <td>...</td>\n",
       "      <td>0.631910</td>\n",
       "      <td>0.000039</td>\n",
       "      <td>0.808784</td>\n",
       "      <td>3.122953</td>\n",
       "      <td>-0.315068</td>\n",
       "      <td>0.000051</td>\n",
       "      <td>0.641046</td>\n",
       "      <td>3.163900</td>\n",
       "      <td>0.087583</td>\n",
       "      <td>0.000050</td>\n",
       "    </tr>\n",
       "  </tbody>\n",
       "</table>\n",
       "<p>5 rows × 133 columns</p>\n",
       "</div>"
      ],
      "text/plain": [
       "         class        x1        y1        z1        v1        x2        y2  \\\n",
       "957  fist_wave  0.694228  0.367638 -0.717476  0.999802  0.712043  0.299276   \n",
       "958  fist_wave  0.694469  0.367711 -0.716810  0.999798  0.712148  0.299180   \n",
       "959  fist_wave  0.694498  0.367745 -0.698912  0.999805  0.712196  0.299410   \n",
       "960  fist_wave  0.694640  0.368214 -0.683450  0.999818  0.712295  0.299922   \n",
       "961  fist_wave  0.696196  0.366347 -0.739507  0.999823  0.713030  0.299381   \n",
       "\n",
       "           z2        v2        x3  ...       z31       v31       x32  \\\n",
       "957 -0.680381  0.999526  0.723598  ...  0.726271  0.000047  0.801439   \n",
       "958 -0.676914  0.999513  0.723673  ...  0.745691  0.000045  0.804173   \n",
       "959 -0.657707  0.999527  0.723704  ...  0.652927  0.000042  0.804338   \n",
       "960 -0.643405  0.999556  0.723776  ...  0.624371  0.000039  0.804239   \n",
       "961 -0.692620  0.999570  0.724546  ...  0.631910  0.000039  0.808784   \n",
       "\n",
       "          y32       z32       v32       x33       y33       z33       v33  \n",
       "957  3.131895 -0.186329  0.000056  0.633782  3.173638  0.183414  0.000053  \n",
       "958  3.128687 -0.179096  0.000055  0.636335  3.170710  0.206414  0.000052  \n",
       "959  3.128110 -0.202398  0.000053  0.635553  3.170287  0.123100  0.000051  \n",
       "960  3.127660 -0.271945  0.000051  0.634976  3.169992  0.088362  0.000049  \n",
       "961  3.122953 -0.315068  0.000051  0.641046  3.163900  0.087583  0.000050  \n",
       "\n",
       "[5 rows x 133 columns]"
      ]
     },
     "execution_count": 83,
     "metadata": {},
     "output_type": "execute_result"
    }
   ],
   "source": [
    "df.tail()"
   ]
  },
  {
   "cell_type": "code",
   "execution_count": 84,
   "metadata": {},
   "outputs": [
    {
     "data": {
      "text/html": [
       "<div>\n",
       "<style scoped>\n",
       "    .dataframe tbody tr th:only-of-type {\n",
       "        vertical-align: middle;\n",
       "    }\n",
       "\n",
       "    .dataframe tbody tr th {\n",
       "        vertical-align: top;\n",
       "    }\n",
       "\n",
       "    .dataframe thead th {\n",
       "        text-align: right;\n",
       "    }\n",
       "</style>\n",
       "<table border=\"1\" class=\"dataframe\">\n",
       "  <thead>\n",
       "    <tr style=\"text-align: right;\">\n",
       "      <th></th>\n",
       "      <th>class</th>\n",
       "      <th>x1</th>\n",
       "      <th>y1</th>\n",
       "      <th>z1</th>\n",
       "      <th>v1</th>\n",
       "      <th>x2</th>\n",
       "      <th>y2</th>\n",
       "      <th>z2</th>\n",
       "      <th>v2</th>\n",
       "      <th>x3</th>\n",
       "      <th>...</th>\n",
       "      <th>z31</th>\n",
       "      <th>v31</th>\n",
       "      <th>x32</th>\n",
       "      <th>y32</th>\n",
       "      <th>z32</th>\n",
       "      <th>v32</th>\n",
       "      <th>x33</th>\n",
       "      <th>y33</th>\n",
       "      <th>z33</th>\n",
       "      <th>v33</th>\n",
       "    </tr>\n",
       "  </thead>\n",
       "  <tbody>\n",
       "    <tr>\n",
       "      <th>0</th>\n",
       "      <td>open_wave</td>\n",
       "      <td>0.663168</td>\n",
       "      <td>0.387557</td>\n",
       "      <td>-0.809280</td>\n",
       "      <td>0.999265</td>\n",
       "      <td>0.680467</td>\n",
       "      <td>0.325824</td>\n",
       "      <td>-0.775894</td>\n",
       "      <td>0.998222</td>\n",
       "      <td>0.693669</td>\n",
       "      <td>...</td>\n",
       "      <td>1.074070</td>\n",
       "      <td>0.000019</td>\n",
       "      <td>0.785112</td>\n",
       "      <td>2.903667</td>\n",
       "      <td>0.465996</td>\n",
       "      <td>0.000018</td>\n",
       "      <td>0.617825</td>\n",
       "      <td>2.948442</td>\n",
       "      <td>0.568841</td>\n",
       "      <td>0.000025</td>\n",
       "    </tr>\n",
       "    <tr>\n",
       "      <th>1</th>\n",
       "      <td>open_wave</td>\n",
       "      <td>0.668292</td>\n",
       "      <td>0.386051</td>\n",
       "      <td>-0.756407</td>\n",
       "      <td>0.999319</td>\n",
       "      <td>0.684855</td>\n",
       "      <td>0.320218</td>\n",
       "      <td>-0.726552</td>\n",
       "      <td>0.998336</td>\n",
       "      <td>0.696664</td>\n",
       "      <td>...</td>\n",
       "      <td>0.882801</td>\n",
       "      <td>0.000018</td>\n",
       "      <td>0.785769</td>\n",
       "      <td>2.932818</td>\n",
       "      <td>0.190629</td>\n",
       "      <td>0.000018</td>\n",
       "      <td>0.617635</td>\n",
       "      <td>2.974762</td>\n",
       "      <td>0.377745</td>\n",
       "      <td>0.000025</td>\n",
       "    </tr>\n",
       "    <tr>\n",
       "      <th>2</th>\n",
       "      <td>open_wave</td>\n",
       "      <td>0.670044</td>\n",
       "      <td>0.383200</td>\n",
       "      <td>-0.739258</td>\n",
       "      <td>0.999323</td>\n",
       "      <td>0.686871</td>\n",
       "      <td>0.315524</td>\n",
       "      <td>-0.709811</td>\n",
       "      <td>0.998324</td>\n",
       "      <td>0.698228</td>\n",
       "      <td>...</td>\n",
       "      <td>0.953324</td>\n",
       "      <td>0.000018</td>\n",
       "      <td>0.785286</td>\n",
       "      <td>2.944501</td>\n",
       "      <td>0.234856</td>\n",
       "      <td>0.000020</td>\n",
       "      <td>0.612295</td>\n",
       "      <td>2.990304</td>\n",
       "      <td>0.450983</td>\n",
       "      <td>0.000026</td>\n",
       "    </tr>\n",
       "    <tr>\n",
       "      <th>3</th>\n",
       "      <td>open_wave</td>\n",
       "      <td>0.673270</td>\n",
       "      <td>0.383194</td>\n",
       "      <td>-0.723064</td>\n",
       "      <td>0.999359</td>\n",
       "      <td>0.689459</td>\n",
       "      <td>0.315453</td>\n",
       "      <td>-0.693005</td>\n",
       "      <td>0.998400</td>\n",
       "      <td>0.700259</td>\n",
       "      <td>...</td>\n",
       "      <td>0.980803</td>\n",
       "      <td>0.000017</td>\n",
       "      <td>0.790574</td>\n",
       "      <td>2.946949</td>\n",
       "      <td>0.227999</td>\n",
       "      <td>0.000020</td>\n",
       "      <td>0.612602</td>\n",
       "      <td>2.992018</td>\n",
       "      <td>0.475200</td>\n",
       "      <td>0.000027</td>\n",
       "    </tr>\n",
       "    <tr>\n",
       "      <th>4</th>\n",
       "      <td>open_wave</td>\n",
       "      <td>0.673232</td>\n",
       "      <td>0.382828</td>\n",
       "      <td>-0.732542</td>\n",
       "      <td>0.999394</td>\n",
       "      <td>0.689820</td>\n",
       "      <td>0.314692</td>\n",
       "      <td>-0.701756</td>\n",
       "      <td>0.998479</td>\n",
       "      <td>0.700532</td>\n",
       "      <td>...</td>\n",
       "      <td>1.021752</td>\n",
       "      <td>0.000017</td>\n",
       "      <td>0.789529</td>\n",
       "      <td>2.960156</td>\n",
       "      <td>0.184516</td>\n",
       "      <td>0.000020</td>\n",
       "      <td>0.609096</td>\n",
       "      <td>3.003415</td>\n",
       "      <td>0.509594</td>\n",
       "      <td>0.000026</td>\n",
       "    </tr>\n",
       "    <tr>\n",
       "      <th>...</th>\n",
       "      <td>...</td>\n",
       "      <td>...</td>\n",
       "      <td>...</td>\n",
       "      <td>...</td>\n",
       "      <td>...</td>\n",
       "      <td>...</td>\n",
       "      <td>...</td>\n",
       "      <td>...</td>\n",
       "      <td>...</td>\n",
       "      <td>...</td>\n",
       "      <td>...</td>\n",
       "      <td>...</td>\n",
       "      <td>...</td>\n",
       "      <td>...</td>\n",
       "      <td>...</td>\n",
       "      <td>...</td>\n",
       "      <td>...</td>\n",
       "      <td>...</td>\n",
       "      <td>...</td>\n",
       "      <td>...</td>\n",
       "      <td>...</td>\n",
       "    </tr>\n",
       "    <tr>\n",
       "      <th>468</th>\n",
       "      <td>open_wave</td>\n",
       "      <td>0.685178</td>\n",
       "      <td>0.389229</td>\n",
       "      <td>-0.627403</td>\n",
       "      <td>0.999912</td>\n",
       "      <td>0.703479</td>\n",
       "      <td>0.319625</td>\n",
       "      <td>-0.590419</td>\n",
       "      <td>0.999809</td>\n",
       "      <td>0.715311</td>\n",
       "      <td>...</td>\n",
       "      <td>0.603886</td>\n",
       "      <td>0.000010</td>\n",
       "      <td>0.839948</td>\n",
       "      <td>3.207883</td>\n",
       "      <td>-0.325268</td>\n",
       "      <td>0.000026</td>\n",
       "      <td>0.666590</td>\n",
       "      <td>3.266760</td>\n",
       "      <td>0.076362</td>\n",
       "      <td>0.000018</td>\n",
       "    </tr>\n",
       "    <tr>\n",
       "      <th>469</th>\n",
       "      <td>open_wave</td>\n",
       "      <td>0.686427</td>\n",
       "      <td>0.389186</td>\n",
       "      <td>-0.627741</td>\n",
       "      <td>0.999917</td>\n",
       "      <td>0.703738</td>\n",
       "      <td>0.319604</td>\n",
       "      <td>-0.590618</td>\n",
       "      <td>0.999820</td>\n",
       "      <td>0.715470</td>\n",
       "      <td>...</td>\n",
       "      <td>0.458798</td>\n",
       "      <td>0.000011</td>\n",
       "      <td>0.837677</td>\n",
       "      <td>3.205717</td>\n",
       "      <td>-0.340120</td>\n",
       "      <td>0.000026</td>\n",
       "      <td>0.664363</td>\n",
       "      <td>3.264507</td>\n",
       "      <td>-0.074301</td>\n",
       "      <td>0.000018</td>\n",
       "    </tr>\n",
       "    <tr>\n",
       "      <th>470</th>\n",
       "      <td>open_wave</td>\n",
       "      <td>0.686516</td>\n",
       "      <td>0.388806</td>\n",
       "      <td>-0.613719</td>\n",
       "      <td>0.999916</td>\n",
       "      <td>0.703757</td>\n",
       "      <td>0.319552</td>\n",
       "      <td>-0.580278</td>\n",
       "      <td>0.999815</td>\n",
       "      <td>0.715482</td>\n",
       "      <td>...</td>\n",
       "      <td>0.502763</td>\n",
       "      <td>0.000017</td>\n",
       "      <td>0.838615</td>\n",
       "      <td>3.201513</td>\n",
       "      <td>-0.336158</td>\n",
       "      <td>0.000032</td>\n",
       "      <td>0.665604</td>\n",
       "      <td>3.261399</td>\n",
       "      <td>-0.026232</td>\n",
       "      <td>0.000022</td>\n",
       "    </tr>\n",
       "    <tr>\n",
       "      <th>471</th>\n",
       "      <td>open_wave</td>\n",
       "      <td>0.686530</td>\n",
       "      <td>0.388437</td>\n",
       "      <td>-0.612607</td>\n",
       "      <td>0.999913</td>\n",
       "      <td>0.703756</td>\n",
       "      <td>0.319403</td>\n",
       "      <td>-0.580487</td>\n",
       "      <td>0.999804</td>\n",
       "      <td>0.715482</td>\n",
       "      <td>...</td>\n",
       "      <td>0.601388</td>\n",
       "      <td>0.000021</td>\n",
       "      <td>0.838914</td>\n",
       "      <td>3.200433</td>\n",
       "      <td>-0.322212</td>\n",
       "      <td>0.000035</td>\n",
       "      <td>0.665310</td>\n",
       "      <td>3.260765</td>\n",
       "      <td>0.079154</td>\n",
       "      <td>0.000024</td>\n",
       "    </tr>\n",
       "    <tr>\n",
       "      <th>472</th>\n",
       "      <td>open_wave</td>\n",
       "      <td>0.683997</td>\n",
       "      <td>0.388236</td>\n",
       "      <td>-0.599904</td>\n",
       "      <td>0.999907</td>\n",
       "      <td>0.701841</td>\n",
       "      <td>0.319288</td>\n",
       "      <td>-0.571993</td>\n",
       "      <td>0.999790</td>\n",
       "      <td>0.713758</td>\n",
       "      <td>...</td>\n",
       "      <td>0.599446</td>\n",
       "      <td>0.000022</td>\n",
       "      <td>0.838517</td>\n",
       "      <td>3.189271</td>\n",
       "      <td>-0.273438</td>\n",
       "      <td>0.000036</td>\n",
       "      <td>0.666746</td>\n",
       "      <td>3.248583</td>\n",
       "      <td>0.073475</td>\n",
       "      <td>0.000024</td>\n",
       "    </tr>\n",
       "  </tbody>\n",
       "</table>\n",
       "<p>473 rows × 133 columns</p>\n",
       "</div>"
      ],
      "text/plain": [
       "         class        x1        y1        z1        v1        x2        y2  \\\n",
       "0    open_wave  0.663168  0.387557 -0.809280  0.999265  0.680467  0.325824   \n",
       "1    open_wave  0.668292  0.386051 -0.756407  0.999319  0.684855  0.320218   \n",
       "2    open_wave  0.670044  0.383200 -0.739258  0.999323  0.686871  0.315524   \n",
       "3    open_wave  0.673270  0.383194 -0.723064  0.999359  0.689459  0.315453   \n",
       "4    open_wave  0.673232  0.382828 -0.732542  0.999394  0.689820  0.314692   \n",
       "..         ...       ...       ...       ...       ...       ...       ...   \n",
       "468  open_wave  0.685178  0.389229 -0.627403  0.999912  0.703479  0.319625   \n",
       "469  open_wave  0.686427  0.389186 -0.627741  0.999917  0.703738  0.319604   \n",
       "470  open_wave  0.686516  0.388806 -0.613719  0.999916  0.703757  0.319552   \n",
       "471  open_wave  0.686530  0.388437 -0.612607  0.999913  0.703756  0.319403   \n",
       "472  open_wave  0.683997  0.388236 -0.599904  0.999907  0.701841  0.319288   \n",
       "\n",
       "           z2        v2        x3  ...       z31       v31       x32  \\\n",
       "0   -0.775894  0.998222  0.693669  ...  1.074070  0.000019  0.785112   \n",
       "1   -0.726552  0.998336  0.696664  ...  0.882801  0.000018  0.785769   \n",
       "2   -0.709811  0.998324  0.698228  ...  0.953324  0.000018  0.785286   \n",
       "3   -0.693005  0.998400  0.700259  ...  0.980803  0.000017  0.790574   \n",
       "4   -0.701756  0.998479  0.700532  ...  1.021752  0.000017  0.789529   \n",
       "..        ...       ...       ...  ...       ...       ...       ...   \n",
       "468 -0.590419  0.999809  0.715311  ...  0.603886  0.000010  0.839948   \n",
       "469 -0.590618  0.999820  0.715470  ...  0.458798  0.000011  0.837677   \n",
       "470 -0.580278  0.999815  0.715482  ...  0.502763  0.000017  0.838615   \n",
       "471 -0.580487  0.999804  0.715482  ...  0.601388  0.000021  0.838914   \n",
       "472 -0.571993  0.999790  0.713758  ...  0.599446  0.000022  0.838517   \n",
       "\n",
       "          y32       z32       v32       x33       y33       z33       v33  \n",
       "0    2.903667  0.465996  0.000018  0.617825  2.948442  0.568841  0.000025  \n",
       "1    2.932818  0.190629  0.000018  0.617635  2.974762  0.377745  0.000025  \n",
       "2    2.944501  0.234856  0.000020  0.612295  2.990304  0.450983  0.000026  \n",
       "3    2.946949  0.227999  0.000020  0.612602  2.992018  0.475200  0.000027  \n",
       "4    2.960156  0.184516  0.000020  0.609096  3.003415  0.509594  0.000026  \n",
       "..        ...       ...       ...       ...       ...       ...       ...  \n",
       "468  3.207883 -0.325268  0.000026  0.666590  3.266760  0.076362  0.000018  \n",
       "469  3.205717 -0.340120  0.000026  0.664363  3.264507 -0.074301  0.000018  \n",
       "470  3.201513 -0.336158  0.000032  0.665604  3.261399 -0.026232  0.000022  \n",
       "471  3.200433 -0.322212  0.000035  0.665310  3.260765  0.079154  0.000024  \n",
       "472  3.189271 -0.273438  0.000036  0.666746  3.248583  0.073475  0.000024  \n",
       "\n",
       "[473 rows x 133 columns]"
      ]
     },
     "execution_count": 84,
     "metadata": {},
     "output_type": "execute_result"
    }
   ],
   "source": [
    "df[df['class']=='open_wave']"
   ]
  },
  {
   "cell_type": "code",
   "execution_count": 85,
   "metadata": {},
   "outputs": [
    {
     "data": {
      "text/html": [
       "<div>\n",
       "<style scoped>\n",
       "    .dataframe tbody tr th:only-of-type {\n",
       "        vertical-align: middle;\n",
       "    }\n",
       "\n",
       "    .dataframe tbody tr th {\n",
       "        vertical-align: top;\n",
       "    }\n",
       "\n",
       "    .dataframe thead th {\n",
       "        text-align: right;\n",
       "    }\n",
       "</style>\n",
       "<table border=\"1\" class=\"dataframe\">\n",
       "  <thead>\n",
       "    <tr style=\"text-align: right;\">\n",
       "      <th></th>\n",
       "      <th>class</th>\n",
       "      <th>x1</th>\n",
       "      <th>y1</th>\n",
       "      <th>z1</th>\n",
       "      <th>v1</th>\n",
       "      <th>x2</th>\n",
       "      <th>y2</th>\n",
       "      <th>z2</th>\n",
       "      <th>v2</th>\n",
       "      <th>x3</th>\n",
       "      <th>...</th>\n",
       "      <th>z31</th>\n",
       "      <th>v31</th>\n",
       "      <th>x32</th>\n",
       "      <th>y32</th>\n",
       "      <th>z32</th>\n",
       "      <th>v32</th>\n",
       "      <th>x33</th>\n",
       "      <th>y33</th>\n",
       "      <th>z33</th>\n",
       "      <th>v33</th>\n",
       "    </tr>\n",
       "  </thead>\n",
       "  <tbody>\n",
       "    <tr>\n",
       "      <th>473</th>\n",
       "      <td>fist_wave</td>\n",
       "      <td>0.681015</td>\n",
       "      <td>0.361149</td>\n",
       "      <td>-0.924307</td>\n",
       "      <td>0.999932</td>\n",
       "      <td>0.698659</td>\n",
       "      <td>0.294856</td>\n",
       "      <td>-0.883813</td>\n",
       "      <td>0.999734</td>\n",
       "      <td>0.711597</td>\n",
       "      <td>...</td>\n",
       "      <td>1.371131</td>\n",
       "      <td>0.000018</td>\n",
       "      <td>0.817875</td>\n",
       "      <td>2.722301</td>\n",
       "      <td>0.365573</td>\n",
       "      <td>0.000029</td>\n",
       "      <td>0.644088</td>\n",
       "      <td>2.772351</td>\n",
       "      <td>0.892995</td>\n",
       "      <td>0.000089</td>\n",
       "    </tr>\n",
       "    <tr>\n",
       "      <th>474</th>\n",
       "      <td>fist_wave</td>\n",
       "      <td>0.682120</td>\n",
       "      <td>0.361200</td>\n",
       "      <td>-0.714839</td>\n",
       "      <td>0.999903</td>\n",
       "      <td>0.699545</td>\n",
       "      <td>0.294599</td>\n",
       "      <td>-0.673465</td>\n",
       "      <td>0.999652</td>\n",
       "      <td>0.711877</td>\n",
       "      <td>...</td>\n",
       "      <td>1.206610</td>\n",
       "      <td>0.000020</td>\n",
       "      <td>0.813640</td>\n",
       "      <td>2.809947</td>\n",
       "      <td>0.297753</td>\n",
       "      <td>0.000030</td>\n",
       "      <td>0.632218</td>\n",
       "      <td>2.859630</td>\n",
       "      <td>0.702474</td>\n",
       "      <td>0.000087</td>\n",
       "    </tr>\n",
       "    <tr>\n",
       "      <th>475</th>\n",
       "      <td>fist_wave</td>\n",
       "      <td>0.682411</td>\n",
       "      <td>0.361082</td>\n",
       "      <td>-0.757391</td>\n",
       "      <td>0.999825</td>\n",
       "      <td>0.700066</td>\n",
       "      <td>0.294185</td>\n",
       "      <td>-0.716831</td>\n",
       "      <td>0.999422</td>\n",
       "      <td>0.712084</td>\n",
       "      <td>...</td>\n",
       "      <td>1.153695</td>\n",
       "      <td>0.000022</td>\n",
       "      <td>0.813685</td>\n",
       "      <td>2.851484</td>\n",
       "      <td>0.289371</td>\n",
       "      <td>0.000030</td>\n",
       "      <td>0.631552</td>\n",
       "      <td>2.895453</td>\n",
       "      <td>0.648633</td>\n",
       "      <td>0.000087</td>\n",
       "    </tr>\n",
       "    <tr>\n",
       "      <th>476</th>\n",
       "      <td>fist_wave</td>\n",
       "      <td>0.682930</td>\n",
       "      <td>0.360837</td>\n",
       "      <td>-0.727944</td>\n",
       "      <td>0.999829</td>\n",
       "      <td>0.700698</td>\n",
       "      <td>0.293817</td>\n",
       "      <td>-0.686938</td>\n",
       "      <td>0.999438</td>\n",
       "      <td>0.712502</td>\n",
       "      <td>...</td>\n",
       "      <td>1.227047</td>\n",
       "      <td>0.000024</td>\n",
       "      <td>0.813418</td>\n",
       "      <td>2.873765</td>\n",
       "      <td>0.228327</td>\n",
       "      <td>0.000030</td>\n",
       "      <td>0.631055</td>\n",
       "      <td>2.920184</td>\n",
       "      <td>0.725380</td>\n",
       "      <td>0.000087</td>\n",
       "    </tr>\n",
       "    <tr>\n",
       "      <th>477</th>\n",
       "      <td>fist_wave</td>\n",
       "      <td>0.684242</td>\n",
       "      <td>0.360429</td>\n",
       "      <td>-0.753238</td>\n",
       "      <td>0.999804</td>\n",
       "      <td>0.701864</td>\n",
       "      <td>0.292424</td>\n",
       "      <td>-0.714910</td>\n",
       "      <td>0.999374</td>\n",
       "      <td>0.713373</td>\n",
       "      <td>...</td>\n",
       "      <td>1.087907</td>\n",
       "      <td>0.000023</td>\n",
       "      <td>0.814804</td>\n",
       "      <td>2.898395</td>\n",
       "      <td>0.265266</td>\n",
       "      <td>0.000029</td>\n",
       "      <td>0.631386</td>\n",
       "      <td>2.940897</td>\n",
       "      <td>0.577753</td>\n",
       "      <td>0.000082</td>\n",
       "    </tr>\n",
       "    <tr>\n",
       "      <th>...</th>\n",
       "      <td>...</td>\n",
       "      <td>...</td>\n",
       "      <td>...</td>\n",
       "      <td>...</td>\n",
       "      <td>...</td>\n",
       "      <td>...</td>\n",
       "      <td>...</td>\n",
       "      <td>...</td>\n",
       "      <td>...</td>\n",
       "      <td>...</td>\n",
       "      <td>...</td>\n",
       "      <td>...</td>\n",
       "      <td>...</td>\n",
       "      <td>...</td>\n",
       "      <td>...</td>\n",
       "      <td>...</td>\n",
       "      <td>...</td>\n",
       "      <td>...</td>\n",
       "      <td>...</td>\n",
       "      <td>...</td>\n",
       "      <td>...</td>\n",
       "    </tr>\n",
       "    <tr>\n",
       "      <th>957</th>\n",
       "      <td>fist_wave</td>\n",
       "      <td>0.694228</td>\n",
       "      <td>0.367638</td>\n",
       "      <td>-0.717476</td>\n",
       "      <td>0.999802</td>\n",
       "      <td>0.712043</td>\n",
       "      <td>0.299276</td>\n",
       "      <td>-0.680381</td>\n",
       "      <td>0.999526</td>\n",
       "      <td>0.723598</td>\n",
       "      <td>...</td>\n",
       "      <td>0.726271</td>\n",
       "      <td>0.000047</td>\n",
       "      <td>0.801439</td>\n",
       "      <td>3.131895</td>\n",
       "      <td>-0.186329</td>\n",
       "      <td>0.000056</td>\n",
       "      <td>0.633782</td>\n",
       "      <td>3.173638</td>\n",
       "      <td>0.183414</td>\n",
       "      <td>0.000053</td>\n",
       "    </tr>\n",
       "    <tr>\n",
       "      <th>958</th>\n",
       "      <td>fist_wave</td>\n",
       "      <td>0.694469</td>\n",
       "      <td>0.367711</td>\n",
       "      <td>-0.716810</td>\n",
       "      <td>0.999798</td>\n",
       "      <td>0.712148</td>\n",
       "      <td>0.299180</td>\n",
       "      <td>-0.676914</td>\n",
       "      <td>0.999513</td>\n",
       "      <td>0.723673</td>\n",
       "      <td>...</td>\n",
       "      <td>0.745691</td>\n",
       "      <td>0.000045</td>\n",
       "      <td>0.804173</td>\n",
       "      <td>3.128687</td>\n",
       "      <td>-0.179096</td>\n",
       "      <td>0.000055</td>\n",
       "      <td>0.636335</td>\n",
       "      <td>3.170710</td>\n",
       "      <td>0.206414</td>\n",
       "      <td>0.000052</td>\n",
       "    </tr>\n",
       "    <tr>\n",
       "      <th>959</th>\n",
       "      <td>fist_wave</td>\n",
       "      <td>0.694498</td>\n",
       "      <td>0.367745</td>\n",
       "      <td>-0.698912</td>\n",
       "      <td>0.999805</td>\n",
       "      <td>0.712196</td>\n",
       "      <td>0.299410</td>\n",
       "      <td>-0.657707</td>\n",
       "      <td>0.999527</td>\n",
       "      <td>0.723704</td>\n",
       "      <td>...</td>\n",
       "      <td>0.652927</td>\n",
       "      <td>0.000042</td>\n",
       "      <td>0.804338</td>\n",
       "      <td>3.128110</td>\n",
       "      <td>-0.202398</td>\n",
       "      <td>0.000053</td>\n",
       "      <td>0.635553</td>\n",
       "      <td>3.170287</td>\n",
       "      <td>0.123100</td>\n",
       "      <td>0.000051</td>\n",
       "    </tr>\n",
       "    <tr>\n",
       "      <th>960</th>\n",
       "      <td>fist_wave</td>\n",
       "      <td>0.694640</td>\n",
       "      <td>0.368214</td>\n",
       "      <td>-0.683450</td>\n",
       "      <td>0.999818</td>\n",
       "      <td>0.712295</td>\n",
       "      <td>0.299922</td>\n",
       "      <td>-0.643405</td>\n",
       "      <td>0.999556</td>\n",
       "      <td>0.723776</td>\n",
       "      <td>...</td>\n",
       "      <td>0.624371</td>\n",
       "      <td>0.000039</td>\n",
       "      <td>0.804239</td>\n",
       "      <td>3.127660</td>\n",
       "      <td>-0.271945</td>\n",
       "      <td>0.000051</td>\n",
       "      <td>0.634976</td>\n",
       "      <td>3.169992</td>\n",
       "      <td>0.088362</td>\n",
       "      <td>0.000049</td>\n",
       "    </tr>\n",
       "    <tr>\n",
       "      <th>961</th>\n",
       "      <td>fist_wave</td>\n",
       "      <td>0.696196</td>\n",
       "      <td>0.366347</td>\n",
       "      <td>-0.739507</td>\n",
       "      <td>0.999823</td>\n",
       "      <td>0.713030</td>\n",
       "      <td>0.299381</td>\n",
       "      <td>-0.692620</td>\n",
       "      <td>0.999570</td>\n",
       "      <td>0.724546</td>\n",
       "      <td>...</td>\n",
       "      <td>0.631910</td>\n",
       "      <td>0.000039</td>\n",
       "      <td>0.808784</td>\n",
       "      <td>3.122953</td>\n",
       "      <td>-0.315068</td>\n",
       "      <td>0.000051</td>\n",
       "      <td>0.641046</td>\n",
       "      <td>3.163900</td>\n",
       "      <td>0.087583</td>\n",
       "      <td>0.000050</td>\n",
       "    </tr>\n",
       "  </tbody>\n",
       "</table>\n",
       "<p>489 rows × 133 columns</p>\n",
       "</div>"
      ],
      "text/plain": [
       "         class        x1        y1        z1        v1        x2        y2  \\\n",
       "473  fist_wave  0.681015  0.361149 -0.924307  0.999932  0.698659  0.294856   \n",
       "474  fist_wave  0.682120  0.361200 -0.714839  0.999903  0.699545  0.294599   \n",
       "475  fist_wave  0.682411  0.361082 -0.757391  0.999825  0.700066  0.294185   \n",
       "476  fist_wave  0.682930  0.360837 -0.727944  0.999829  0.700698  0.293817   \n",
       "477  fist_wave  0.684242  0.360429 -0.753238  0.999804  0.701864  0.292424   \n",
       "..         ...       ...       ...       ...       ...       ...       ...   \n",
       "957  fist_wave  0.694228  0.367638 -0.717476  0.999802  0.712043  0.299276   \n",
       "958  fist_wave  0.694469  0.367711 -0.716810  0.999798  0.712148  0.299180   \n",
       "959  fist_wave  0.694498  0.367745 -0.698912  0.999805  0.712196  0.299410   \n",
       "960  fist_wave  0.694640  0.368214 -0.683450  0.999818  0.712295  0.299922   \n",
       "961  fist_wave  0.696196  0.366347 -0.739507  0.999823  0.713030  0.299381   \n",
       "\n",
       "           z2        v2        x3  ...       z31       v31       x32  \\\n",
       "473 -0.883813  0.999734  0.711597  ...  1.371131  0.000018  0.817875   \n",
       "474 -0.673465  0.999652  0.711877  ...  1.206610  0.000020  0.813640   \n",
       "475 -0.716831  0.999422  0.712084  ...  1.153695  0.000022  0.813685   \n",
       "476 -0.686938  0.999438  0.712502  ...  1.227047  0.000024  0.813418   \n",
       "477 -0.714910  0.999374  0.713373  ...  1.087907  0.000023  0.814804   \n",
       "..        ...       ...       ...  ...       ...       ...       ...   \n",
       "957 -0.680381  0.999526  0.723598  ...  0.726271  0.000047  0.801439   \n",
       "958 -0.676914  0.999513  0.723673  ...  0.745691  0.000045  0.804173   \n",
       "959 -0.657707  0.999527  0.723704  ...  0.652927  0.000042  0.804338   \n",
       "960 -0.643405  0.999556  0.723776  ...  0.624371  0.000039  0.804239   \n",
       "961 -0.692620  0.999570  0.724546  ...  0.631910  0.000039  0.808784   \n",
       "\n",
       "          y32       z32       v32       x33       y33       z33       v33  \n",
       "473  2.722301  0.365573  0.000029  0.644088  2.772351  0.892995  0.000089  \n",
       "474  2.809947  0.297753  0.000030  0.632218  2.859630  0.702474  0.000087  \n",
       "475  2.851484  0.289371  0.000030  0.631552  2.895453  0.648633  0.000087  \n",
       "476  2.873765  0.228327  0.000030  0.631055  2.920184  0.725380  0.000087  \n",
       "477  2.898395  0.265266  0.000029  0.631386  2.940897  0.577753  0.000082  \n",
       "..        ...       ...       ...       ...       ...       ...       ...  \n",
       "957  3.131895 -0.186329  0.000056  0.633782  3.173638  0.183414  0.000053  \n",
       "958  3.128687 -0.179096  0.000055  0.636335  3.170710  0.206414  0.000052  \n",
       "959  3.128110 -0.202398  0.000053  0.635553  3.170287  0.123100  0.000051  \n",
       "960  3.127660 -0.271945  0.000051  0.634976  3.169992  0.088362  0.000049  \n",
       "961  3.122953 -0.315068  0.000051  0.641046  3.163900  0.087583  0.000050  \n",
       "\n",
       "[489 rows x 133 columns]"
      ]
     },
     "execution_count": 85,
     "metadata": {},
     "output_type": "execute_result"
    }
   ],
   "source": [
    "df[df['class']=='fist_wave']"
   ]
  },
  {
   "cell_type": "code",
   "execution_count": 86,
   "metadata": {},
   "outputs": [],
   "source": [
    "X = df.drop('class', axis=1) # features\n",
    "y = df['class'] # target value"
   ]
  },
  {
   "cell_type": "code",
   "execution_count": 87,
   "metadata": {},
   "outputs": [],
   "source": [
    "X_train, X_test, y_train, y_test = train_test_split(X, y, test_size=0.3, random_state=1234)"
   ]
  },
  {
   "cell_type": "code",
   "execution_count": 88,
   "metadata": {},
   "outputs": [],
   "source": [
    "from sklearn.pipeline import make_pipeline \n",
    "from sklearn.preprocessing import StandardScaler \n",
    "\n",
    "from sklearn.linear_model import LogisticRegression, RidgeClassifier\n",
    "from sklearn.ensemble import RandomForestClassifier, GradientBoostingClassifier"
   ]
  },
  {
   "cell_type": "code",
   "execution_count": 89,
   "metadata": {},
   "outputs": [],
   "source": [
    "pipelines = {\n",
    "    'lr':make_pipeline(StandardScaler(), LogisticRegression()),\n",
    "    'rc':make_pipeline(StandardScaler(), RidgeClassifier()),\n",
    "    'rf':make_pipeline(StandardScaler(), RandomForestClassifier()),\n",
    "    'gb':make_pipeline(StandardScaler(), GradientBoostingClassifier()),\n",
    "}"
   ]
  },
  {
   "cell_type": "code",
   "execution_count": 90,
   "metadata": {},
   "outputs": [],
   "source": [
    "fit_models = {}\n",
    "for algo, pipeline in pipelines.items():\n",
    "    model = pipeline.fit(X_train, y_train)\n",
    "    fit_models[algo] = model"
   ]
  },
  {
   "cell_type": "code",
   "execution_count": 91,
   "metadata": {},
   "outputs": [
    {
     "data": {
      "text/plain": [
       "{'lr': Pipeline(steps=[('standardscaler', StandardScaler()),\n",
       "                 ('logisticregression', LogisticRegression())]),\n",
       " 'rc': Pipeline(steps=[('standardscaler', StandardScaler()),\n",
       "                 ('ridgeclassifier', RidgeClassifier())]),\n",
       " 'rf': Pipeline(steps=[('standardscaler', StandardScaler()),\n",
       "                 ('randomforestclassifier', RandomForestClassifier())]),\n",
       " 'gb': Pipeline(steps=[('standardscaler', StandardScaler()),\n",
       "                 ('gradientboostingclassifier', GradientBoostingClassifier())])}"
      ]
     },
     "execution_count": 91,
     "metadata": {},
     "output_type": "execute_result"
    }
   ],
   "source": [
    "fit_models"
   ]
  },
  {
   "cell_type": "code",
   "execution_count": 92,
   "metadata": {
    "scrolled": true
   },
   "outputs": [
    {
     "data": {
      "text/plain": [
       "array(['open_wave', 'open_wave', 'fist_wave', 'open_wave', 'fist_wave',\n",
       "       'open_wave', 'fist_wave', 'fist_wave', 'fist_wave', 'fist_wave',\n",
       "       'open_wave', 'fist_wave', 'open_wave', 'fist_wave', 'fist_wave',\n",
       "       'fist_wave', 'fist_wave', 'open_wave', 'open_wave', 'open_wave',\n",
       "       'fist_wave', 'fist_wave', 'open_wave', 'open_wave', 'fist_wave',\n",
       "       'open_wave', 'fist_wave', 'fist_wave', 'fist_wave', 'open_wave',\n",
       "       'fist_wave', 'fist_wave', 'fist_wave', 'fist_wave', 'open_wave',\n",
       "       'open_wave', 'fist_wave', 'fist_wave', 'open_wave', 'open_wave',\n",
       "       'open_wave', 'fist_wave', 'open_wave', 'fist_wave', 'fist_wave',\n",
       "       'open_wave', 'open_wave', 'fist_wave', 'open_wave', 'fist_wave',\n",
       "       'fist_wave', 'open_wave', 'fist_wave', 'fist_wave', 'open_wave',\n",
       "       'open_wave', 'fist_wave', 'fist_wave', 'fist_wave', 'open_wave',\n",
       "       'open_wave', 'open_wave', 'fist_wave', 'fist_wave', 'open_wave',\n",
       "       'open_wave', 'open_wave', 'open_wave', 'fist_wave', 'fist_wave',\n",
       "       'fist_wave', 'fist_wave', 'fist_wave', 'fist_wave', 'open_wave',\n",
       "       'open_wave', 'open_wave', 'fist_wave', 'fist_wave', 'open_wave',\n",
       "       'open_wave', 'open_wave', 'open_wave', 'fist_wave', 'open_wave',\n",
       "       'open_wave', 'fist_wave', 'fist_wave', 'open_wave', 'fist_wave',\n",
       "       'fist_wave', 'open_wave', 'fist_wave', 'open_wave', 'open_wave',\n",
       "       'open_wave', 'fist_wave', 'open_wave', 'fist_wave', 'open_wave',\n",
       "       'open_wave', 'open_wave', 'open_wave', 'open_wave', 'fist_wave',\n",
       "       'fist_wave', 'fist_wave', 'open_wave', 'fist_wave', 'open_wave',\n",
       "       'fist_wave', 'open_wave', 'fist_wave', 'fist_wave', 'open_wave',\n",
       "       'open_wave', 'fist_wave', 'open_wave', 'fist_wave', 'open_wave',\n",
       "       'fist_wave', 'fist_wave', 'fist_wave', 'fist_wave', 'open_wave',\n",
       "       'fist_wave', 'fist_wave', 'open_wave', 'fist_wave', 'fist_wave',\n",
       "       'fist_wave', 'open_wave', 'open_wave', 'open_wave', 'open_wave',\n",
       "       'open_wave', 'fist_wave', 'fist_wave', 'fist_wave', 'open_wave',\n",
       "       'fist_wave', 'fist_wave', 'fist_wave', 'open_wave', 'open_wave',\n",
       "       'open_wave', 'fist_wave', 'open_wave', 'open_wave', 'open_wave',\n",
       "       'fist_wave', 'open_wave', 'open_wave', 'open_wave', 'open_wave',\n",
       "       'fist_wave', 'fist_wave', 'fist_wave', 'fist_wave', 'open_wave',\n",
       "       'open_wave', 'open_wave', 'fist_wave', 'fist_wave', 'fist_wave',\n",
       "       'open_wave', 'fist_wave', 'fist_wave', 'open_wave', 'open_wave',\n",
       "       'open_wave', 'open_wave', 'open_wave', 'open_wave', 'fist_wave',\n",
       "       'open_wave', 'open_wave', 'open_wave', 'open_wave', 'fist_wave',\n",
       "       'open_wave', 'open_wave', 'fist_wave', 'open_wave', 'fist_wave',\n",
       "       'fist_wave', 'fist_wave', 'open_wave', 'open_wave', 'open_wave',\n",
       "       'fist_wave', 'fist_wave', 'fist_wave', 'fist_wave', 'open_wave',\n",
       "       'fist_wave', 'fist_wave', 'open_wave', 'fist_wave', 'fist_wave',\n",
       "       'fist_wave', 'open_wave', 'fist_wave', 'open_wave', 'open_wave',\n",
       "       'fist_wave', 'fist_wave', 'fist_wave', 'open_wave', 'fist_wave',\n",
       "       'open_wave', 'open_wave', 'open_wave', 'open_wave', 'open_wave',\n",
       "       'open_wave', 'open_wave', 'fist_wave', 'open_wave', 'open_wave',\n",
       "       'open_wave', 'open_wave', 'fist_wave', 'fist_wave', 'open_wave',\n",
       "       'fist_wave', 'open_wave', 'open_wave', 'open_wave', 'fist_wave',\n",
       "       'fist_wave', 'open_wave', 'fist_wave', 'fist_wave', 'fist_wave',\n",
       "       'open_wave', 'open_wave', 'open_wave', 'open_wave', 'open_wave',\n",
       "       'open_wave', 'fist_wave', 'fist_wave', 'fist_wave', 'open_wave',\n",
       "       'open_wave', 'open_wave', 'open_wave', 'open_wave', 'fist_wave',\n",
       "       'open_wave', 'fist_wave', 'open_wave', 'fist_wave', 'open_wave',\n",
       "       'fist_wave', 'fist_wave', 'open_wave', 'fist_wave', 'open_wave',\n",
       "       'open_wave', 'open_wave', 'fist_wave', 'fist_wave', 'open_wave',\n",
       "       'fist_wave', 'fist_wave', 'fist_wave', 'fist_wave', 'fist_wave',\n",
       "       'fist_wave', 'open_wave', 'fist_wave', 'open_wave', 'open_wave',\n",
       "       'open_wave', 'open_wave', 'fist_wave', 'open_wave', 'open_wave',\n",
       "       'open_wave', 'fist_wave', 'open_wave', 'fist_wave', 'open_wave',\n",
       "       'fist_wave', 'open_wave', 'fist_wave', 'fist_wave'], dtype='<U9')"
      ]
     },
     "execution_count": 92,
     "metadata": {},
     "output_type": "execute_result"
    }
   ],
   "source": [
    "fit_models['rc'].predict(X_test)"
   ]
  },
  {
   "cell_type": "code",
   "execution_count": 58,
   "metadata": {},
   "outputs": [],
   "source": [
    "from sklearn.metrics import accuracy_score # Accuracy metrics \n",
    "import pickle"
   ]
  },
  {
   "cell_type": "code",
   "execution_count": 60,
   "metadata": {},
   "outputs": [
    {
     "name": "stdout",
     "output_type": "stream",
     "text": [
      "lr 1.0\n",
      "rc 1.0\n",
      "rf 1.0\n",
      "gb 1.0\n"
     ]
    }
   ],
   "source": [
    "for algo, model in fit_models.items():\n",
    "    yhat = model.predict(X_test)\n",
    "    print(algo, accuracy_score(y_test, yhat))"
   ]
  },
  {
   "cell_type": "code",
   "execution_count": 61,
   "metadata": {},
   "outputs": [
    {
     "data": {
      "text/plain": [
       "array(['wave', 'wave', 'wave', 'updown', 'wave', 'updown', 'updown',\n",
       "       'wave', 'wave', 'updown', 'wave', 'wave', 'updown', 'updown',\n",
       "       'updown', 'updown', 'updown', 'updown', 'wave', 'updown', 'wave',\n",
       "       'wave', 'wave', 'updown', 'updown', 'updown', 'wave', 'updown',\n",
       "       'wave', 'wave', 'updown', 'updown', 'updown', 'wave', 'updown',\n",
       "       'wave', 'updown', 'updown', 'wave', 'updown', 'wave', 'wave',\n",
       "       'updown', 'updown', 'updown', 'wave', 'wave', 'updown', 'updown',\n",
       "       'updown', 'wave', 'updown', 'wave', 'updown', 'wave', 'wave',\n",
       "       'wave', 'updown', 'updown', 'updown', 'wave', 'updown', 'updown',\n",
       "       'wave', 'updown', 'wave', 'updown', 'wave', 'wave', 'updown',\n",
       "       'updown', 'updown', 'wave', 'updown', 'wave', 'updown', 'updown',\n",
       "       'updown', 'updown', 'wave', 'wave', 'updown', 'wave', 'updown',\n",
       "       'updown', 'updown', 'updown', 'wave', 'wave', 'updown', 'updown',\n",
       "       'updown', 'wave', 'updown', 'updown', 'wave', 'updown', 'wave',\n",
       "       'updown', 'updown', 'updown', 'updown', 'updown', 'wave', 'wave',\n",
       "       'wave', 'wave', 'wave', 'updown', 'wave', 'wave', 'updown',\n",
       "       'updown', 'updown', 'updown', 'wave', 'updown', 'wave', 'updown',\n",
       "       'wave', 'updown', 'updown', 'wave', 'updown', 'wave', 'updown',\n",
       "       'wave', 'wave', 'updown', 'wave', 'wave', 'updown', 'wave',\n",
       "       'updown', 'updown', 'wave', 'updown', 'wave', 'updown', 'updown',\n",
       "       'updown', 'wave', 'updown', 'updown', 'updown', 'wave', 'updown',\n",
       "       'wave', 'updown', 'updown', 'wave', 'wave', 'updown', 'updown',\n",
       "       'updown', 'updown', 'wave', 'updown', 'wave', 'updown', 'updown',\n",
       "       'updown', 'wave', 'wave', 'wave'], dtype=object)"
      ]
     },
     "execution_count": 61,
     "metadata": {},
     "output_type": "execute_result"
    }
   ],
   "source": [
    "fit_models['rf'].predict(X_test)"
   ]
  },
  {
   "cell_type": "code",
   "execution_count": 93,
   "metadata": {},
   "outputs": [
    {
     "data": {
      "text/plain": [
       "445    open_wave\n",
       "382    open_wave\n",
       "499    fist_wave\n",
       "230    open_wave\n",
       "639    fist_wave\n",
       "         ...    \n",
       "218    open_wave\n",
       "557    fist_wave\n",
       "170    open_wave\n",
       "679    fist_wave\n",
       "764    fist_wave\n",
       "Name: class, Length: 289, dtype: object"
      ]
     },
     "execution_count": 93,
     "metadata": {},
     "output_type": "execute_result"
    }
   ],
   "source": [
    "y_test"
   ]
  },
  {
   "cell_type": "code",
   "execution_count": 94,
   "metadata": {},
   "outputs": [],
   "source": [
    "with open('body_language.pkl', 'wb') as f:\n",
    "    pickle.dump(fit_models['rf'], f)"
   ]
  },
  {
   "cell_type": "code",
   "execution_count": 95,
   "metadata": {},
   "outputs": [],
   "source": [
    "with open('body_language.pkl', 'rb') as f:\n",
    "    model = pickle.load(f)"
   ]
  },
  {
   "cell_type": "code",
   "execution_count": 96,
   "metadata": {},
   "outputs": [
    {
     "data": {
      "text/plain": [
       "Pipeline(steps=[('standardscaler', StandardScaler()),\n",
       "                ('randomforestclassifier', RandomForestClassifier())])"
      ]
     },
     "execution_count": 96,
     "metadata": {},
     "output_type": "execute_result"
    }
   ],
   "source": [
    "model"
   ]
  },
  {
   "cell_type": "code",
   "execution_count": 104,
   "metadata": {
    "scrolled": true
   },
   "outputs": [
    {
     "name": "stderr",
     "output_type": "stream",
     "text": [
      "C:\\Users\\nkele\\.conda\\envs\\tfgpu\\lib\\site-packages\\sklearn\\base.py:446: UserWarning: X does not have valid feature names, but StandardScaler was fitted with feature names\n",
      "  \"X does not have valid feature names, but\"\n",
      "C:\\Users\\nkele\\.conda\\envs\\tfgpu\\lib\\site-packages\\sklearn\\base.py:446: UserWarning: X does not have valid feature names, but StandardScaler was fitted with feature names\n",
      "  \"X does not have valid feature names, but\"\n"
     ]
    },
    {
     "name": "stdout",
     "output_type": "stream",
     "text": [
      "fist_wave [0.81 0.19]\n"
     ]
    },
    {
     "name": "stderr",
     "output_type": "stream",
     "text": [
      "C:\\Users\\nkele\\.conda\\envs\\tfgpu\\lib\\site-packages\\sklearn\\base.py:446: UserWarning: X does not have valid feature names, but StandardScaler was fitted with feature names\n",
      "  \"X does not have valid feature names, but\"\n",
      "C:\\Users\\nkele\\.conda\\envs\\tfgpu\\lib\\site-packages\\sklearn\\base.py:446: UserWarning: X does not have valid feature names, but StandardScaler was fitted with feature names\n",
      "  \"X does not have valid feature names, but\"\n",
      "C:\\Users\\nkele\\.conda\\envs\\tfgpu\\lib\\site-packages\\sklearn\\base.py:446: UserWarning: X does not have valid feature names, but StandardScaler was fitted with feature names\n",
      "  \"X does not have valid feature names, but\"\n",
      "C:\\Users\\nkele\\.conda\\envs\\tfgpu\\lib\\site-packages\\sklearn\\base.py:446: UserWarning: X does not have valid feature names, but StandardScaler was fitted with feature names\n",
      "  \"X does not have valid feature names, but\"\n"
     ]
    },
    {
     "name": "stdout",
     "output_type": "stream",
     "text": [
      "fist_wave [0.81 0.19]\n",
      "fist_wave [0.81 0.19]\n"
     ]
    },
    {
     "name": "stderr",
     "output_type": "stream",
     "text": [
      "C:\\Users\\nkele\\.conda\\envs\\tfgpu\\lib\\site-packages\\sklearn\\base.py:446: UserWarning: X does not have valid feature names, but StandardScaler was fitted with feature names\n",
      "  \"X does not have valid feature names, but\"\n",
      "C:\\Users\\nkele\\.conda\\envs\\tfgpu\\lib\\site-packages\\sklearn\\base.py:446: UserWarning: X does not have valid feature names, but StandardScaler was fitted with feature names\n",
      "  \"X does not have valid feature names, but\"\n",
      "C:\\Users\\nkele\\.conda\\envs\\tfgpu\\lib\\site-packages\\sklearn\\base.py:446: UserWarning: X does not have valid feature names, but StandardScaler was fitted with feature names\n",
      "  \"X does not have valid feature names, but\"\n",
      "C:\\Users\\nkele\\.conda\\envs\\tfgpu\\lib\\site-packages\\sklearn\\base.py:446: UserWarning: X does not have valid feature names, but StandardScaler was fitted with feature names\n",
      "  \"X does not have valid feature names, but\"\n"
     ]
    },
    {
     "name": "stdout",
     "output_type": "stream",
     "text": [
      "fist_wave [0.81 0.19]\n",
      "fist_wave [0.8 0.2]\n"
     ]
    },
    {
     "name": "stderr",
     "output_type": "stream",
     "text": [
      "C:\\Users\\nkele\\.conda\\envs\\tfgpu\\lib\\site-packages\\sklearn\\base.py:446: UserWarning: X does not have valid feature names, but StandardScaler was fitted with feature names\n",
      "  \"X does not have valid feature names, but\"\n",
      "C:\\Users\\nkele\\.conda\\envs\\tfgpu\\lib\\site-packages\\sklearn\\base.py:446: UserWarning: X does not have valid feature names, but StandardScaler was fitted with feature names\n",
      "  \"X does not have valid feature names, but\"\n",
      "C:\\Users\\nkele\\.conda\\envs\\tfgpu\\lib\\site-packages\\sklearn\\base.py:446: UserWarning: X does not have valid feature names, but StandardScaler was fitted with feature names\n",
      "  \"X does not have valid feature names, but\"\n",
      "C:\\Users\\nkele\\.conda\\envs\\tfgpu\\lib\\site-packages\\sklearn\\base.py:446: UserWarning: X does not have valid feature names, but StandardScaler was fitted with feature names\n",
      "  \"X does not have valid feature names, but\"\n",
      "C:\\Users\\nkele\\.conda\\envs\\tfgpu\\lib\\site-packages\\sklearn\\base.py:446: UserWarning: X does not have valid feature names, but StandardScaler was fitted with feature names\n",
      "  \"X does not have valid feature names, but\"\n",
      "C:\\Users\\nkele\\.conda\\envs\\tfgpu\\lib\\site-packages\\sklearn\\base.py:446: UserWarning: X does not have valid feature names, but StandardScaler was fitted with feature names\n",
      "  \"X does not have valid feature names, but\"\n"
     ]
    },
    {
     "name": "stdout",
     "output_type": "stream",
     "text": [
      "fist_wave [0.8 0.2]\n",
      "fist_wave [0.81 0.19]\n"
     ]
    },
    {
     "name": "stderr",
     "output_type": "stream",
     "text": [
      "C:\\Users\\nkele\\.conda\\envs\\tfgpu\\lib\\site-packages\\sklearn\\base.py:446: UserWarning: X does not have valid feature names, but StandardScaler was fitted with feature names\n",
      "  \"X does not have valid feature names, but\"\n",
      "C:\\Users\\nkele\\.conda\\envs\\tfgpu\\lib\\site-packages\\sklearn\\base.py:446: UserWarning: X does not have valid feature names, but StandardScaler was fitted with feature names\n",
      "  \"X does not have valid feature names, but\"\n",
      "C:\\Users\\nkele\\.conda\\envs\\tfgpu\\lib\\site-packages\\sklearn\\base.py:446: UserWarning: X does not have valid feature names, but StandardScaler was fitted with feature names\n",
      "  \"X does not have valid feature names, but\"\n",
      "C:\\Users\\nkele\\.conda\\envs\\tfgpu\\lib\\site-packages\\sklearn\\base.py:446: UserWarning: X does not have valid feature names, but StandardScaler was fitted with feature names\n",
      "  \"X does not have valid feature names, but\"\n"
     ]
    },
    {
     "name": "stdout",
     "output_type": "stream",
     "text": [
      "fist_wave [0.82 0.18]\n",
      "fist_wave [0.82 0.18]\n",
      "fist_wave [0.82 0.18]\n",
      "fist_wave"
     ]
    },
    {
     "name": "stderr",
     "output_type": "stream",
     "text": [
      "C:\\Users\\nkele\\.conda\\envs\\tfgpu\\lib\\site-packages\\sklearn\\base.py:446: UserWarning: X does not have valid feature names, but StandardScaler was fitted with feature names\n",
      "  \"X does not have valid feature names, but\"\n",
      "C:\\Users\\nkele\\.conda\\envs\\tfgpu\\lib\\site-packages\\sklearn\\base.py:446: UserWarning: X does not have valid feature names, but StandardScaler was fitted with feature names\n",
      "  \"X does not have valid feature names, but\"\n",
      "C:\\Users\\nkele\\.conda\\envs\\tfgpu\\lib\\site-packages\\sklearn\\base.py:446: UserWarning: X does not have valid feature names, but StandardScaler was fitted with feature names\n",
      "  \"X does not have valid feature names, but\"\n",
      "C:\\Users\\nkele\\.conda\\envs\\tfgpu\\lib\\site-packages\\sklearn\\base.py:446: UserWarning: X does not have valid feature names, but StandardScaler was fitted with feature names\n",
      "  \"X does not have valid feature names, but\"\n"
     ]
    },
    {
     "name": "stdout",
     "output_type": "stream",
     "text": [
      " [0.83 0.17]\n",
      "fist_wave [0.85 0.15]\n"
     ]
    },
    {
     "name": "stderr",
     "output_type": "stream",
     "text": [
      "C:\\Users\\nkele\\.conda\\envs\\tfgpu\\lib\\site-packages\\sklearn\\base.py:446: UserWarning: X does not have valid feature names, but StandardScaler was fitted with feature names\n",
      "  \"X does not have valid feature names, but\"\n",
      "C:\\Users\\nkele\\.conda\\envs\\tfgpu\\lib\\site-packages\\sklearn\\base.py:446: UserWarning: X does not have valid feature names, but StandardScaler was fitted with feature names\n",
      "  \"X does not have valid feature names, but\"\n",
      "C:\\Users\\nkele\\.conda\\envs\\tfgpu\\lib\\site-packages\\sklearn\\base.py:446: UserWarning: X does not have valid feature names, but StandardScaler was fitted with feature names\n",
      "  \"X does not have valid feature names, but\"\n",
      "C:\\Users\\nkele\\.conda\\envs\\tfgpu\\lib\\site-packages\\sklearn\\base.py:446: UserWarning: X does not have valid feature names, but StandardScaler was fitted with feature names\n",
      "  \"X does not have valid feature names, but\"\n",
      "C:\\Users\\nkele\\.conda\\envs\\tfgpu\\lib\\site-packages\\sklearn\\base.py:446: UserWarning: X does not have valid feature names, but StandardScaler was fitted with feature names\n",
      "  \"X does not have valid feature names, but\"\n",
      "C:\\Users\\nkele\\.conda\\envs\\tfgpu\\lib\\site-packages\\sklearn\\base.py:446: UserWarning: X does not have valid feature names, but StandardScaler was fitted with feature names\n",
      "  \"X does not have valid feature names, but\"\n"
     ]
    },
    {
     "name": "stdout",
     "output_type": "stream",
     "text": [
      "fist_wave [0.85 0.15]\n",
      "fist_wave [0.85 0.15]\n"
     ]
    },
    {
     "name": "stderr",
     "output_type": "stream",
     "text": [
      "C:\\Users\\nkele\\.conda\\envs\\tfgpu\\lib\\site-packages\\sklearn\\base.py:446: UserWarning: X does not have valid feature names, but StandardScaler was fitted with feature names\n",
      "  \"X does not have valid feature names, but\"\n",
      "C:\\Users\\nkele\\.conda\\envs\\tfgpu\\lib\\site-packages\\sklearn\\base.py:446: UserWarning: X does not have valid feature names, but StandardScaler was fitted with feature names\n",
      "  \"X does not have valid feature names, but\"\n",
      "C:\\Users\\nkele\\.conda\\envs\\tfgpu\\lib\\site-packages\\sklearn\\base.py:446: UserWarning: X does not have valid feature names, but StandardScaler was fitted with feature names\n",
      "  \"X does not have valid feature names, but\"\n"
     ]
    },
    {
     "name": "stdout",
     "output_type": "stream",
     "text": [
      "fist_wave [0.87 0.13]\n",
      "fist_wave [0.87 0.13]\n"
     ]
    },
    {
     "name": "stderr",
     "output_type": "stream",
     "text": [
      "C:\\Users\\nkele\\.conda\\envs\\tfgpu\\lib\\site-packages\\sklearn\\base.py:446: UserWarning: X does not have valid feature names, but StandardScaler was fitted with feature names\n",
      "  \"X does not have valid feature names, but\"\n",
      "C:\\Users\\nkele\\.conda\\envs\\tfgpu\\lib\\site-packages\\sklearn\\base.py:446: UserWarning: X does not have valid feature names, but StandardScaler was fitted with feature names\n",
      "  \"X does not have valid feature names, but\"\n",
      "C:\\Users\\nkele\\.conda\\envs\\tfgpu\\lib\\site-packages\\sklearn\\base.py:446: UserWarning: X does not have valid feature names, but StandardScaler was fitted with feature names\n",
      "  \"X does not have valid feature names, but\"\n",
      "C:\\Users\\nkele\\.conda\\envs\\tfgpu\\lib\\site-packages\\sklearn\\base.py:446: UserWarning: X does not have valid feature names, but StandardScaler was fitted with feature names\n",
      "  \"X does not have valid feature names, but\"\n",
      "C:\\Users\\nkele\\.conda\\envs\\tfgpu\\lib\\site-packages\\sklearn\\base.py:446: UserWarning: X does not have valid feature names, but StandardScaler was fitted with feature names\n",
      "  \"X does not have valid feature names, but\"\n"
     ]
    },
    {
     "name": "stdout",
     "output_type": "stream",
     "text": [
      "fist_wave [0.88 0.12]\n",
      "fist_wave [0.86 0.14]\n",
      "fist_wave [0.86 0.14]\n",
      "fist_wave [0.87 0.13]\n"
     ]
    },
    {
     "name": "stderr",
     "output_type": "stream",
     "text": [
      "C:\\Users\\nkele\\.conda\\envs\\tfgpu\\lib\\site-packages\\sklearn\\base.py:446: UserWarning: X does not have valid feature names, but StandardScaler was fitted with feature names\n",
      "  \"X does not have valid feature names, but\"\n",
      "C:\\Users\\nkele\\.conda\\envs\\tfgpu\\lib\\site-packages\\sklearn\\base.py:446: UserWarning: X does not have valid feature names, but StandardScaler was fitted with feature names\n",
      "  \"X does not have valid feature names, but\"\n",
      "C:\\Users\\nkele\\.conda\\envs\\tfgpu\\lib\\site-packages\\sklearn\\base.py:446: UserWarning: X does not have valid feature names, but StandardScaler was fitted with feature names\n",
      "  \"X does not have valid feature names, but\"\n",
      "C:\\Users\\nkele\\.conda\\envs\\tfgpu\\lib\\site-packages\\sklearn\\base.py:446: UserWarning: X does not have valid feature names, but StandardScaler was fitted with feature names\n",
      "  \"X does not have valid feature names, but\"\n",
      "C:\\Users\\nkele\\.conda\\envs\\tfgpu\\lib\\site-packages\\sklearn\\base.py:446: UserWarning: X does not have valid feature names, but StandardScaler was fitted with feature names\n",
      "  \"X does not have valid feature names, but\"\n",
      "C:\\Users\\nkele\\.conda\\envs\\tfgpu\\lib\\site-packages\\sklearn\\base.py:446: UserWarning: X does not have valid feature names, but StandardScaler was fitted with feature names\n",
      "  \"X does not have valid feature names, but\"\n"
     ]
    },
    {
     "name": "stdout",
     "output_type": "stream",
     "text": [
      "fist_wave [0.87 0.13]\n",
      "fist_wave [0.87 0.13]\n"
     ]
    },
    {
     "name": "stderr",
     "output_type": "stream",
     "text": [
      "C:\\Users\\nkele\\.conda\\envs\\tfgpu\\lib\\site-packages\\sklearn\\base.py:446: UserWarning: X does not have valid feature names, but StandardScaler was fitted with feature names\n",
      "  \"X does not have valid feature names, but\"\n",
      "C:\\Users\\nkele\\.conda\\envs\\tfgpu\\lib\\site-packages\\sklearn\\base.py:446: UserWarning: X does not have valid feature names, but StandardScaler was fitted with feature names\n",
      "  \"X does not have valid feature names, but\"\n",
      "C:\\Users\\nkele\\.conda\\envs\\tfgpu\\lib\\site-packages\\sklearn\\base.py:446: UserWarning: X does not have valid feature names, but StandardScaler was fitted with feature names\n",
      "  \"X does not have valid feature names, but\"\n"
     ]
    },
    {
     "name": "stdout",
     "output_type": "stream",
     "text": [
      "fist_wave [0.88 0.12]\n",
      "fist_wave [0.88 0.12]\n"
     ]
    },
    {
     "name": "stderr",
     "output_type": "stream",
     "text": [
      "C:\\Users\\nkele\\.conda\\envs\\tfgpu\\lib\\site-packages\\sklearn\\base.py:446: UserWarning: X does not have valid feature names, but StandardScaler was fitted with feature names\n",
      "  \"X does not have valid feature names, but\"\n",
      "C:\\Users\\nkele\\.conda\\envs\\tfgpu\\lib\\site-packages\\sklearn\\base.py:446: UserWarning: X does not have valid feature names, but StandardScaler was fitted with feature names\n",
      "  \"X does not have valid feature names, but\"\n",
      "C:\\Users\\nkele\\.conda\\envs\\tfgpu\\lib\\site-packages\\sklearn\\base.py:446: UserWarning: X does not have valid feature names, but StandardScaler was fitted with feature names\n",
      "  \"X does not have valid feature names, but\"\n",
      "C:\\Users\\nkele\\.conda\\envs\\tfgpu\\lib\\site-packages\\sklearn\\base.py:446: UserWarning: X does not have valid feature names, but StandardScaler was fitted with feature names\n",
      "  \"X does not have valid feature names, but\"\n"
     ]
    },
    {
     "name": "stdout",
     "output_type": "stream",
     "text": [
      "fist_wave [0.89 0.11]\n",
      "fist_wave [0.88 0.12]\n"
     ]
    },
    {
     "name": "stderr",
     "output_type": "stream",
     "text": [
      "C:\\Users\\nkele\\.conda\\envs\\tfgpu\\lib\\site-packages\\sklearn\\base.py:446: UserWarning: X does not have valid feature names, but StandardScaler was fitted with feature names\n",
      "  \"X does not have valid feature names, but\"\n",
      "C:\\Users\\nkele\\.conda\\envs\\tfgpu\\lib\\site-packages\\sklearn\\base.py:446: UserWarning: X does not have valid feature names, but StandardScaler was fitted with feature names\n",
      "  \"X does not have valid feature names, but\"\n",
      "C:\\Users\\nkele\\.conda\\envs\\tfgpu\\lib\\site-packages\\sklearn\\base.py:446: UserWarning: X does not have valid feature names, but StandardScaler was fitted with feature names\n",
      "  \"X does not have valid feature names, but\"\n"
     ]
    },
    {
     "name": "stdout",
     "output_type": "stream",
     "text": [
      "fist_wave [0.88 0.12]\n",
      "fist_wave [0.89 0.11]\n"
     ]
    },
    {
     "name": "stderr",
     "output_type": "stream",
     "text": [
      "C:\\Users\\nkele\\.conda\\envs\\tfgpu\\lib\\site-packages\\sklearn\\base.py:446: UserWarning: X does not have valid feature names, but StandardScaler was fitted with feature names\n",
      "  \"X does not have valid feature names, but\"\n",
      "C:\\Users\\nkele\\.conda\\envs\\tfgpu\\lib\\site-packages\\sklearn\\base.py:446: UserWarning: X does not have valid feature names, but StandardScaler was fitted with feature names\n",
      "  \"X does not have valid feature names, but\"\n",
      "C:\\Users\\nkele\\.conda\\envs\\tfgpu\\lib\\site-packages\\sklearn\\base.py:446: UserWarning: X does not have valid feature names, but StandardScaler was fitted with feature names\n",
      "  \"X does not have valid feature names, but\"\n",
      "C:\\Users\\nkele\\.conda\\envs\\tfgpu\\lib\\site-packages\\sklearn\\base.py:446: UserWarning: X does not have valid feature names, but StandardScaler was fitted with feature names\n",
      "  \"X does not have valid feature names, but\"\n"
     ]
    },
    {
     "name": "stdout",
     "output_type": "stream",
     "text": [
      "fist_wave [0.87 0.13]\n",
      "fist_wave [0.87 0.13]\n"
     ]
    },
    {
     "name": "stderr",
     "output_type": "stream",
     "text": [
      "C:\\Users\\nkele\\.conda\\envs\\tfgpu\\lib\\site-packages\\sklearn\\base.py:446: UserWarning: X does not have valid feature names, but StandardScaler was fitted with feature names\n",
      "  \"X does not have valid feature names, but\"\n",
      "C:\\Users\\nkele\\.conda\\envs\\tfgpu\\lib\\site-packages\\sklearn\\base.py:446: UserWarning: X does not have valid feature names, but StandardScaler was fitted with feature names\n",
      "  \"X does not have valid feature names, but\"\n",
      "C:\\Users\\nkele\\.conda\\envs\\tfgpu\\lib\\site-packages\\sklearn\\base.py:446: UserWarning: X does not have valid feature names, but StandardScaler was fitted with feature names\n",
      "  \"X does not have valid feature names, but\"\n",
      "C:\\Users\\nkele\\.conda\\envs\\tfgpu\\lib\\site-packages\\sklearn\\base.py:446: UserWarning: X does not have valid feature names, but StandardScaler was fitted with feature names\n",
      "  \"X does not have valid feature names, but\"\n"
     ]
    },
    {
     "name": "stdout",
     "output_type": "stream",
     "text": [
      "fist_wave [0.85 0.15]\n",
      "fist_wave [0.87 0.13]\n"
     ]
    },
    {
     "name": "stderr",
     "output_type": "stream",
     "text": [
      "C:\\Users\\nkele\\.conda\\envs\\tfgpu\\lib\\site-packages\\sklearn\\base.py:446: UserWarning: X does not have valid feature names, but StandardScaler was fitted with feature names\n",
      "  \"X does not have valid feature names, but\"\n",
      "C:\\Users\\nkele\\.conda\\envs\\tfgpu\\lib\\site-packages\\sklearn\\base.py:446: UserWarning: X does not have valid feature names, but StandardScaler was fitted with feature names\n",
      "  \"X does not have valid feature names, but\"\n",
      "C:\\Users\\nkele\\.conda\\envs\\tfgpu\\lib\\site-packages\\sklearn\\base.py:446: UserWarning: X does not have valid feature names, but StandardScaler was fitted with feature names\n",
      "  \"X does not have valid feature names, but\"\n",
      "C:\\Users\\nkele\\.conda\\envs\\tfgpu\\lib\\site-packages\\sklearn\\base.py:446: UserWarning: X does not have valid feature names, but StandardScaler was fitted with feature names\n",
      "  \"X does not have valid feature names, but\"\n"
     ]
    },
    {
     "name": "stdout",
     "output_type": "stream",
     "text": [
      "fist_wave [0.88 0.12]\n",
      "fist_wave [0.88 0.12]\n"
     ]
    },
    {
     "name": "stderr",
     "output_type": "stream",
     "text": [
      "C:\\Users\\nkele\\.conda\\envs\\tfgpu\\lib\\site-packages\\sklearn\\base.py:446: UserWarning: X does not have valid feature names, but StandardScaler was fitted with feature names\n",
      "  \"X does not have valid feature names, but\"\n",
      "C:\\Users\\nkele\\.conda\\envs\\tfgpu\\lib\\site-packages\\sklearn\\base.py:446: UserWarning: X does not have valid feature names, but StandardScaler was fitted with feature names\n",
      "  \"X does not have valid feature names, but\"\n",
      "C:\\Users\\nkele\\.conda\\envs\\tfgpu\\lib\\site-packages\\sklearn\\base.py:446: UserWarning: X does not have valid feature names, but StandardScaler was fitted with feature names\n",
      "  \"X does not have valid feature names, but\"\n",
      "C:\\Users\\nkele\\.conda\\envs\\tfgpu\\lib\\site-packages\\sklearn\\base.py:446: UserWarning: X does not have valid feature names, but StandardScaler was fitted with feature names\n",
      "  \"X does not have valid feature names, but\"\n",
      "C:\\Users\\nkele\\.conda\\envs\\tfgpu\\lib\\site-packages\\sklearn\\base.py:446: UserWarning: X does not have valid feature names, but StandardScaler was fitted with feature names\n",
      "  \"X does not have valid feature names, but\"\n",
      "C:\\Users\\nkele\\.conda\\envs\\tfgpu\\lib\\site-packages\\sklearn\\base.py:446: UserWarning: X does not have valid feature names, but StandardScaler was fitted with feature names\n",
      "  \"X does not have valid feature names, but\"\n"
     ]
    },
    {
     "name": "stdout",
     "output_type": "stream",
     "text": [
      "fist_wave [0.88 0.12]\n",
      "fist_wave "
     ]
    },
    {
     "name": "stderr",
     "output_type": "stream",
     "text": [
      "C:\\Users\\nkele\\.conda\\envs\\tfgpu\\lib\\site-packages\\sklearn\\base.py:446: UserWarning: X does not have valid feature names, but StandardScaler was fitted with feature names\n",
      "  \"X does not have valid feature names, but\"\n",
      "C:\\Users\\nkele\\.conda\\envs\\tfgpu\\lib\\site-packages\\sklearn\\base.py:446: UserWarning: X does not have valid feature names, but StandardScaler was fitted with feature names\n",
      "  \"X does not have valid feature names, but\"\n",
      "C:\\Users\\nkele\\.conda\\envs\\tfgpu\\lib\\site-packages\\sklearn\\base.py:446: UserWarning: X does not have valid feature names, but StandardScaler was fitted with feature names\n",
      "  \"X does not have valid feature names, but\"\n",
      "C:\\Users\\nkele\\.conda\\envs\\tfgpu\\lib\\site-packages\\sklearn\\base.py:446: UserWarning: X does not have valid feature names, but StandardScaler was fitted with feature names\n",
      "  \"X does not have valid feature names, but\"\n",
      "C:\\Users\\nkele\\.conda\\envs\\tfgpu\\lib\\site-packages\\sklearn\\base.py:446: UserWarning: X does not have valid feature names, but StandardScaler was fitted with feature names\n",
      "  \"X does not have valid feature names, but\"\n",
      "C:\\Users\\nkele\\.conda\\envs\\tfgpu\\lib\\site-packages\\sklearn\\base.py:446: UserWarning: X does not have valid feature names, but StandardScaler was fitted with feature names\n",
      "  \"X does not have valid feature names, but\"\n"
     ]
    },
    {
     "name": "stdout",
     "output_type": "stream",
     "text": [
      "[0.89 0.11]\n",
      "fist_wave [0.9 0.1]\n",
      "fist_wave [0.9 0.1]\n"
     ]
    },
    {
     "name": "stderr",
     "output_type": "stream",
     "text": [
      "C:\\Users\\nkele\\.conda\\envs\\tfgpu\\lib\\site-packages\\sklearn\\base.py:446: UserWarning: X does not have valid feature names, but StandardScaler was fitted with feature names\n",
      "  \"X does not have valid feature names, but\"\n",
      "C:\\Users\\nkele\\.conda\\envs\\tfgpu\\lib\\site-packages\\sklearn\\base.py:446: UserWarning: X does not have valid feature names, but StandardScaler was fitted with feature names\n",
      "  \"X does not have valid feature names, but\"\n",
      "C:\\Users\\nkele\\.conda\\envs\\tfgpu\\lib\\site-packages\\sklearn\\base.py:446: UserWarning: X does not have valid feature names, but StandardScaler was fitted with feature names\n",
      "  \"X does not have valid feature names, but\"\n",
      "C:\\Users\\nkele\\.conda\\envs\\tfgpu\\lib\\site-packages\\sklearn\\base.py:446: UserWarning: X does not have valid feature names, but StandardScaler was fitted with feature names\n",
      "  \"X does not have valid feature names, but\"\n"
     ]
    },
    {
     "name": "stdout",
     "output_type": "stream",
     "text": [
      "fist_wave [0.89 0.11]\n",
      "fist_wave [0.89 0.11]\n",
      "fist_wave [0.89 0.11]\n"
     ]
    },
    {
     "name": "stderr",
     "output_type": "stream",
     "text": [
      "C:\\Users\\nkele\\.conda\\envs\\tfgpu\\lib\\site-packages\\sklearn\\base.py:446: UserWarning: X does not have valid feature names, but StandardScaler was fitted with feature names\n",
      "  \"X does not have valid feature names, but\"\n",
      "C:\\Users\\nkele\\.conda\\envs\\tfgpu\\lib\\site-packages\\sklearn\\base.py:446: UserWarning: X does not have valid feature names, but StandardScaler was fitted with feature names\n",
      "  \"X does not have valid feature names, but\"\n",
      "C:\\Users\\nkele\\.conda\\envs\\tfgpu\\lib\\site-packages\\sklearn\\base.py:446: UserWarning: X does not have valid feature names, but StandardScaler was fitted with feature names\n",
      "  \"X does not have valid feature names, but\"\n",
      "C:\\Users\\nkele\\.conda\\envs\\tfgpu\\lib\\site-packages\\sklearn\\base.py:446: UserWarning: X does not have valid feature names, but StandardScaler was fitted with feature names\n",
      "  \"X does not have valid feature names, but\"\n"
     ]
    },
    {
     "name": "stdout",
     "output_type": "stream",
     "text": [
      "fist_wave [0.88 0.12]\n",
      "fist_wave [0.87 0.13]\n"
     ]
    },
    {
     "name": "stderr",
     "output_type": "stream",
     "text": [
      "C:\\Users\\nkele\\.conda\\envs\\tfgpu\\lib\\site-packages\\sklearn\\base.py:446: UserWarning: X does not have valid feature names, but StandardScaler was fitted with feature names\n",
      "  \"X does not have valid feature names, but\"\n",
      "C:\\Users\\nkele\\.conda\\envs\\tfgpu\\lib\\site-packages\\sklearn\\base.py:446: UserWarning: X does not have valid feature names, but StandardScaler was fitted with feature names\n",
      "  \"X does not have valid feature names, but\"\n",
      "C:\\Users\\nkele\\.conda\\envs\\tfgpu\\lib\\site-packages\\sklearn\\base.py:446: UserWarning: X does not have valid feature names, but StandardScaler was fitted with feature names\n",
      "  \"X does not have valid feature names, but\"\n",
      "C:\\Users\\nkele\\.conda\\envs\\tfgpu\\lib\\site-packages\\sklearn\\base.py:446: UserWarning: X does not have valid feature names, but StandardScaler was fitted with feature names\n",
      "  \"X does not have valid feature names, but\"\n",
      "C:\\Users\\nkele\\.conda\\envs\\tfgpu\\lib\\site-packages\\sklearn\\base.py:446: UserWarning: X does not have valid feature names, but StandardScaler was fitted with feature names\n",
      "  \"X does not have valid feature names, but\"\n",
      "C:\\Users\\nkele\\.conda\\envs\\tfgpu\\lib\\site-packages\\sklearn\\base.py:446: UserWarning: X does not have valid feature names, but StandardScaler was fitted with feature names\n",
      "  \"X does not have valid feature names, but\"\n"
     ]
    },
    {
     "name": "stdout",
     "output_type": "stream",
     "text": [
      "fist_wave [0.87 0.13]\n",
      "fist_wave [0.87 0.13]\n"
     ]
    },
    {
     "name": "stderr",
     "output_type": "stream",
     "text": [
      "C:\\Users\\nkele\\.conda\\envs\\tfgpu\\lib\\site-packages\\sklearn\\base.py:446: UserWarning: X does not have valid feature names, but StandardScaler was fitted with feature names\n",
      "  \"X does not have valid feature names, but\"\n",
      "C:\\Users\\nkele\\.conda\\envs\\tfgpu\\lib\\site-packages\\sklearn\\base.py:446: UserWarning: X does not have valid feature names, but StandardScaler was fitted with feature names\n",
      "  \"X does not have valid feature names, but\"\n",
      "C:\\Users\\nkele\\.conda\\envs\\tfgpu\\lib\\site-packages\\sklearn\\base.py:446: UserWarning: X does not have valid feature names, but StandardScaler was fitted with feature names\n",
      "  \"X does not have valid feature names, but\"\n",
      "C:\\Users\\nkele\\.conda\\envs\\tfgpu\\lib\\site-packages\\sklearn\\base.py:446: UserWarning: X does not have valid feature names, but StandardScaler was fitted with feature names\n",
      "  \"X does not have valid feature names, but\"\n"
     ]
    },
    {
     "name": "stdout",
     "output_type": "stream",
     "text": [
      "fist_wave [0.87 0.13]\n",
      "fist_wave [0.87 0.13]\n"
     ]
    },
    {
     "name": "stderr",
     "output_type": "stream",
     "text": [
      "C:\\Users\\nkele\\.conda\\envs\\tfgpu\\lib\\site-packages\\sklearn\\base.py:446: UserWarning: X does not have valid feature names, but StandardScaler was fitted with feature names\n",
      "  \"X does not have valid feature names, but\"\n",
      "C:\\Users\\nkele\\.conda\\envs\\tfgpu\\lib\\site-packages\\sklearn\\base.py:446: UserWarning: X does not have valid feature names, but StandardScaler was fitted with feature names\n",
      "  \"X does not have valid feature names, but\"\n"
     ]
    },
    {
     "name": "stdout",
     "output_type": "stream",
     "text": [
      "fist_wave [0.86 0.14]\n",
      "fist_wave [0.86 0.14]\n"
     ]
    },
    {
     "name": "stderr",
     "output_type": "stream",
     "text": [
      "C:\\Users\\nkele\\.conda\\envs\\tfgpu\\lib\\site-packages\\sklearn\\base.py:446: UserWarning: X does not have valid feature names, but StandardScaler was fitted with feature names\n",
      "  \"X does not have valid feature names, but\"\n",
      "C:\\Users\\nkele\\.conda\\envs\\tfgpu\\lib\\site-packages\\sklearn\\base.py:446: UserWarning: X does not have valid feature names, but StandardScaler was fitted with feature names\n",
      "  \"X does not have valid feature names, but\"\n",
      "C:\\Users\\nkele\\.conda\\envs\\tfgpu\\lib\\site-packages\\sklearn\\base.py:446: UserWarning: X does not have valid feature names, but StandardScaler was fitted with feature names\n",
      "  \"X does not have valid feature names, but\"\n",
      "C:\\Users\\nkele\\.conda\\envs\\tfgpu\\lib\\site-packages\\sklearn\\base.py:446: UserWarning: X does not have valid feature names, but StandardScaler was fitted with feature names\n",
      "  \"X does not have valid feature names, but\"\n"
     ]
    },
    {
     "name": "stdout",
     "output_type": "stream",
     "text": [
      "fist_wave [0.86 0.14]\n",
      "fist_wave [0.86 0.14]\n"
     ]
    },
    {
     "name": "stderr",
     "output_type": "stream",
     "text": [
      "C:\\Users\\nkele\\.conda\\envs\\tfgpu\\lib\\site-packages\\sklearn\\base.py:446: UserWarning: X does not have valid feature names, but StandardScaler was fitted with feature names\n",
      "  \"X does not have valid feature names, but\"\n",
      "C:\\Users\\nkele\\.conda\\envs\\tfgpu\\lib\\site-packages\\sklearn\\base.py:446: UserWarning: X does not have valid feature names, but StandardScaler was fitted with feature names\n",
      "  \"X does not have valid feature names, but\"\n",
      "C:\\Users\\nkele\\.conda\\envs\\tfgpu\\lib\\site-packages\\sklearn\\base.py:446: UserWarning: X does not have valid feature names, but StandardScaler was fitted with feature names\n",
      "  \"X does not have valid feature names, but\"\n",
      "C:\\Users\\nkele\\.conda\\envs\\tfgpu\\lib\\site-packages\\sklearn\\base.py:446: UserWarning: X does not have valid feature names, but StandardScaler was fitted with feature names\n",
      "  \"X does not have valid feature names, but\"\n"
     ]
    },
    {
     "name": "stdout",
     "output_type": "stream",
     "text": [
      "fist_wave [0.85 0.15]\n",
      "fist_wave [0.83 0.17]\n"
     ]
    },
    {
     "name": "stderr",
     "output_type": "stream",
     "text": [
      "C:\\Users\\nkele\\.conda\\envs\\tfgpu\\lib\\site-packages\\sklearn\\base.py:446: UserWarning: X does not have valid feature names, but StandardScaler was fitted with feature names\n",
      "  \"X does not have valid feature names, but\"\n",
      "C:\\Users\\nkele\\.conda\\envs\\tfgpu\\lib\\site-packages\\sklearn\\base.py:446: UserWarning: X does not have valid feature names, but StandardScaler was fitted with feature names\n",
      "  \"X does not have valid feature names, but\"\n",
      "C:\\Users\\nkele\\.conda\\envs\\tfgpu\\lib\\site-packages\\sklearn\\base.py:446: UserWarning: X does not have valid feature names, but StandardScaler was fitted with feature names\n",
      "  \"X does not have valid feature names, but\"\n",
      "C:\\Users\\nkele\\.conda\\envs\\tfgpu\\lib\\site-packages\\sklearn\\base.py:446: UserWarning: X does not have valid feature names, but StandardScaler was fitted with feature names\n",
      "  \"X does not have valid feature names, but\"\n"
     ]
    },
    {
     "name": "stdout",
     "output_type": "stream",
     "text": [
      "fist_wave [0.83 0.17]\n",
      "fist_wave [0.84 0.16]\n"
     ]
    },
    {
     "name": "stderr",
     "output_type": "stream",
     "text": [
      "C:\\Users\\nkele\\.conda\\envs\\tfgpu\\lib\\site-packages\\sklearn\\base.py:446: UserWarning: X does not have valid feature names, but StandardScaler was fitted with feature names\n",
      "  \"X does not have valid feature names, but\"\n",
      "C:\\Users\\nkele\\.conda\\envs\\tfgpu\\lib\\site-packages\\sklearn\\base.py:446: UserWarning: X does not have valid feature names, but StandardScaler was fitted with feature names\n",
      "  \"X does not have valid feature names, but\"\n",
      "C:\\Users\\nkele\\.conda\\envs\\tfgpu\\lib\\site-packages\\sklearn\\base.py:446: UserWarning: X does not have valid feature names, but StandardScaler was fitted with feature names\n",
      "  \"X does not have valid feature names, but\"\n",
      "C:\\Users\\nkele\\.conda\\envs\\tfgpu\\lib\\site-packages\\sklearn\\base.py:446: UserWarning: X does not have valid feature names, but StandardScaler was fitted with feature names\n",
      "  \"X does not have valid feature names, but\"\n",
      "C:\\Users\\nkele\\.conda\\envs\\tfgpu\\lib\\site-packages\\sklearn\\base.py:446: UserWarning: X does not have valid feature names, but StandardScaler was fitted with feature names\n",
      "  \"X does not have valid feature names, but\"\n",
      "C:\\Users\\nkele\\.conda\\envs\\tfgpu\\lib\\site-packages\\sklearn\\base.py:446: UserWarning: X does not have valid feature names, but StandardScaler was fitted with feature names\n",
      "  \"X does not have valid feature names, but\"\n"
     ]
    },
    {
     "name": "stdout",
     "output_type": "stream",
     "text": [
      "fist_wave [0.84 0.16]\n",
      "fist_wave [0.84 0.16]\n"
     ]
    },
    {
     "name": "stderr",
     "output_type": "stream",
     "text": [
      "C:\\Users\\nkele\\.conda\\envs\\tfgpu\\lib\\site-packages\\sklearn\\base.py:446: UserWarning: X does not have valid feature names, but StandardScaler was fitted with feature names\n",
      "  \"X does not have valid feature names, but\"\n",
      "C:\\Users\\nkele\\.conda\\envs\\tfgpu\\lib\\site-packages\\sklearn\\base.py:446: UserWarning: X does not have valid feature names, but StandardScaler was fitted with feature names\n",
      "  \"X does not have valid feature names, but\"\n"
     ]
    },
    {
     "name": "stdout",
     "output_type": "stream",
     "text": [
      "fist_wave [0.83 0.17]\n",
      "fist_wave [0.84 0.16]\n"
     ]
    },
    {
     "name": "stderr",
     "output_type": "stream",
     "text": [
      "C:\\Users\\nkele\\.conda\\envs\\tfgpu\\lib\\site-packages\\sklearn\\base.py:446: UserWarning: X does not have valid feature names, but StandardScaler was fitted with feature names\n",
      "  \"X does not have valid feature names, but\"\n",
      "C:\\Users\\nkele\\.conda\\envs\\tfgpu\\lib\\site-packages\\sklearn\\base.py:446: UserWarning: X does not have valid feature names, but StandardScaler was fitted with feature names\n",
      "  \"X does not have valid feature names, but\"\n",
      "C:\\Users\\nkele\\.conda\\envs\\tfgpu\\lib\\site-packages\\sklearn\\base.py:446: UserWarning: X does not have valid feature names, but StandardScaler was fitted with feature names\n",
      "  \"X does not have valid feature names, but\"\n",
      "C:\\Users\\nkele\\.conda\\envs\\tfgpu\\lib\\site-packages\\sklearn\\base.py:446: UserWarning: X does not have valid feature names, but StandardScaler was fitted with feature names\n",
      "  \"X does not have valid feature names, but\"\n"
     ]
    },
    {
     "name": "stdout",
     "output_type": "stream",
     "text": [
      "fist_wave [0.82 0.18]\n",
      "fist_wave [0.83 0.17]\n"
     ]
    },
    {
     "name": "stderr",
     "output_type": "stream",
     "text": [
      "C:\\Users\\nkele\\.conda\\envs\\tfgpu\\lib\\site-packages\\sklearn\\base.py:446: UserWarning: X does not have valid feature names, but StandardScaler was fitted with feature names\n",
      "  \"X does not have valid feature names, but\"\n",
      "C:\\Users\\nkele\\.conda\\envs\\tfgpu\\lib\\site-packages\\sklearn\\base.py:446: UserWarning: X does not have valid feature names, but StandardScaler was fitted with feature names\n",
      "  \"X does not have valid feature names, but\"\n"
     ]
    },
    {
     "name": "stdout",
     "output_type": "stream",
     "text": [
      "fist_wave [0.83 0.17]\n"
     ]
    },
    {
     "name": "stderr",
     "output_type": "stream",
     "text": [
      "C:\\Users\\nkele\\.conda\\envs\\tfgpu\\lib\\site-packages\\sklearn\\base.py:446: UserWarning: X does not have valid feature names, but StandardScaler was fitted with feature names\n",
      "  \"X does not have valid feature names, but\"\n",
      "C:\\Users\\nkele\\.conda\\envs\\tfgpu\\lib\\site-packages\\sklearn\\base.py:446: UserWarning: X does not have valid feature names, but StandardScaler was fitted with feature names\n",
      "  \"X does not have valid feature names, but\"\n"
     ]
    },
    {
     "name": "stdout",
     "output_type": "stream",
     "text": [
      "fist_wave [0.83 0.17]\n"
     ]
    },
    {
     "name": "stderr",
     "output_type": "stream",
     "text": [
      "C:\\Users\\nkele\\.conda\\envs\\tfgpu\\lib\\site-packages\\sklearn\\base.py:446: UserWarning: X does not have valid feature names, but StandardScaler was fitted with feature names\n",
      "  \"X does not have valid feature names, but\"\n",
      "C:\\Users\\nkele\\.conda\\envs\\tfgpu\\lib\\site-packages\\sklearn\\base.py:446: UserWarning: X does not have valid feature names, but StandardScaler was fitted with feature names\n",
      "  \"X does not have valid feature names, but\"\n",
      "C:\\Users\\nkele\\.conda\\envs\\tfgpu\\lib\\site-packages\\sklearn\\base.py:446: UserWarning: X does not have valid feature names, but StandardScaler was fitted with feature names\n",
      "  \"X does not have valid feature names, but\"\n",
      "C:\\Users\\nkele\\.conda\\envs\\tfgpu\\lib\\site-packages\\sklearn\\base.py:446: UserWarning: X does not have valid feature names, but StandardScaler was fitted with feature names\n",
      "  \"X does not have valid feature names, but\"\n"
     ]
    },
    {
     "name": "stdout",
     "output_type": "stream",
     "text": [
      "fist_wave [0.83 0.17]\n",
      "fist_wave [0.85 0.15]\n"
     ]
    },
    {
     "name": "stderr",
     "output_type": "stream",
     "text": [
      "C:\\Users\\nkele\\.conda\\envs\\tfgpu\\lib\\site-packages\\sklearn\\base.py:446: UserWarning: X does not have valid feature names, but StandardScaler was fitted with feature names\n",
      "  \"X does not have valid feature names, but\"\n",
      "C:\\Users\\nkele\\.conda\\envs\\tfgpu\\lib\\site-packages\\sklearn\\base.py:446: UserWarning: X does not have valid feature names, but StandardScaler was fitted with feature names\n",
      "  \"X does not have valid feature names, but\"\n",
      "C:\\Users\\nkele\\.conda\\envs\\tfgpu\\lib\\site-packages\\sklearn\\base.py:446: UserWarning: X does not have valid feature names, but StandardScaler was fitted with feature names\n",
      "  \"X does not have valid feature names, but\"\n",
      "C:\\Users\\nkele\\.conda\\envs\\tfgpu\\lib\\site-packages\\sklearn\\base.py:446: UserWarning: X does not have valid feature names, but StandardScaler was fitted with feature names\n",
      "  \"X does not have valid feature names, but\"\n"
     ]
    },
    {
     "name": "stdout",
     "output_type": "stream",
     "text": [
      "fist_wave [0.84 0.16]\n",
      "fist_wave [0.84 0.16]\n"
     ]
    },
    {
     "name": "stderr",
     "output_type": "stream",
     "text": [
      "C:\\Users\\nkele\\.conda\\envs\\tfgpu\\lib\\site-packages\\sklearn\\base.py:446: UserWarning: X does not have valid feature names, but StandardScaler was fitted with feature names\n",
      "  \"X does not have valid feature names, but\"\n",
      "C:\\Users\\nkele\\.conda\\envs\\tfgpu\\lib\\site-packages\\sklearn\\base.py:446: UserWarning: X does not have valid feature names, but StandardScaler was fitted with feature names\n",
      "  \"X does not have valid feature names, but\"\n",
      "C:\\Users\\nkele\\.conda\\envs\\tfgpu\\lib\\site-packages\\sklearn\\base.py:446: UserWarning: X does not have valid feature names, but StandardScaler was fitted with feature names\n",
      "  \"X does not have valid feature names, but\"\n",
      "C:\\Users\\nkele\\.conda\\envs\\tfgpu\\lib\\site-packages\\sklearn\\base.py:446: UserWarning: X does not have valid feature names, but StandardScaler was fitted with feature names\n",
      "  \"X does not have valid feature names, but\"\n"
     ]
    },
    {
     "name": "stdout",
     "output_type": "stream",
     "text": [
      "fist_wave [0.85 0.15]\n"
     ]
    },
    {
     "name": "stderr",
     "output_type": "stream",
     "text": [
      "C:\\Users\\nkele\\.conda\\envs\\tfgpu\\lib\\site-packages\\sklearn\\base.py:446: UserWarning: X does not have valid feature names, but StandardScaler was fitted with feature names\n",
      "  \"X does not have valid feature names, but\"\n",
      "C:\\Users\\nkele\\.conda\\envs\\tfgpu\\lib\\site-packages\\sklearn\\base.py:446: UserWarning: X does not have valid feature names, but StandardScaler was fitted with feature names\n",
      "  \"X does not have valid feature names, but\"\n"
     ]
    },
    {
     "name": "stdout",
     "output_type": "stream",
     "text": [
      "fist_wave [0.88 0.12]\n"
     ]
    },
    {
     "name": "stderr",
     "output_type": "stream",
     "text": [
      "C:\\Users\\nkele\\.conda\\envs\\tfgpu\\lib\\site-packages\\sklearn\\base.py:446: UserWarning: X does not have valid feature names, but StandardScaler was fitted with feature names\n",
      "  \"X does not have valid feature names, but\"\n",
      "C:\\Users\\nkele\\.conda\\envs\\tfgpu\\lib\\site-packages\\sklearn\\base.py:446: UserWarning: X does not have valid feature names, but StandardScaler was fitted with feature names\n",
      "  \"X does not have valid feature names, but\"\n"
     ]
    },
    {
     "name": "stdout",
     "output_type": "stream",
     "text": [
      "fist_wave [0.89 0.11]\n",
      "fist_wave [0.89 0.11]\n"
     ]
    },
    {
     "name": "stderr",
     "output_type": "stream",
     "text": [
      "C:\\Users\\nkele\\.conda\\envs\\tfgpu\\lib\\site-packages\\sklearn\\base.py:446: UserWarning: X does not have valid feature names, but StandardScaler was fitted with feature names\n",
      "  \"X does not have valid feature names, but\"\n",
      "C:\\Users\\nkele\\.conda\\envs\\tfgpu\\lib\\site-packages\\sklearn\\base.py:446: UserWarning: X does not have valid feature names, but StandardScaler was fitted with feature names\n",
      "  \"X does not have valid feature names, but\"\n",
      "C:\\Users\\nkele\\.conda\\envs\\tfgpu\\lib\\site-packages\\sklearn\\base.py:446: UserWarning: X does not have valid feature names, but StandardScaler was fitted with feature names\n",
      "  \"X does not have valid feature names, but\"\n",
      "C:\\Users\\nkele\\.conda\\envs\\tfgpu\\lib\\site-packages\\sklearn\\base.py:446: UserWarning: X does not have valid feature names, but StandardScaler was fitted with feature names\n",
      "  \"X does not have valid feature names, but\"\n"
     ]
    },
    {
     "name": "stdout",
     "output_type": "stream",
     "text": [
      "fist_wave [0.88 0.12]\n",
      "fist_wave [0.89 0.11]\n"
     ]
    },
    {
     "name": "stderr",
     "output_type": "stream",
     "text": [
      "C:\\Users\\nkele\\.conda\\envs\\tfgpu\\lib\\site-packages\\sklearn\\base.py:446: UserWarning: X does not have valid feature names, but StandardScaler was fitted with feature names\n",
      "  \"X does not have valid feature names, but\"\n",
      "C:\\Users\\nkele\\.conda\\envs\\tfgpu\\lib\\site-packages\\sklearn\\base.py:446: UserWarning: X does not have valid feature names, but StandardScaler was fitted with feature names\n",
      "  \"X does not have valid feature names, but\"\n"
     ]
    },
    {
     "name": "stdout",
     "output_type": "stream",
     "text": [
      "fist_wave [0.91 0.09]\n",
      "fist_wave [0.89 0.11]\n"
     ]
    },
    {
     "name": "stderr",
     "output_type": "stream",
     "text": [
      "C:\\Users\\nkele\\.conda\\envs\\tfgpu\\lib\\site-packages\\sklearn\\base.py:446: UserWarning: X does not have valid feature names, but StandardScaler was fitted with feature names\n",
      "  \"X does not have valid feature names, but\"\n",
      "C:\\Users\\nkele\\.conda\\envs\\tfgpu\\lib\\site-packages\\sklearn\\base.py:446: UserWarning: X does not have valid feature names, but StandardScaler was fitted with feature names\n",
      "  \"X does not have valid feature names, but\"\n",
      "C:\\Users\\nkele\\.conda\\envs\\tfgpu\\lib\\site-packages\\sklearn\\base.py:446: UserWarning: X does not have valid feature names, but StandardScaler was fitted with feature names\n",
      "  \"X does not have valid feature names, but\"\n",
      "C:\\Users\\nkele\\.conda\\envs\\tfgpu\\lib\\site-packages\\sklearn\\base.py:446: UserWarning: X does not have valid feature names, but StandardScaler was fitted with feature names\n",
      "  \"X does not have valid feature names, but\"\n"
     ]
    },
    {
     "name": "stdout",
     "output_type": "stream",
     "text": [
      "fist_wave [0.89 0.11]\n",
      "fist_wave [0.9 0.1]\n"
     ]
    },
    {
     "name": "stderr",
     "output_type": "stream",
     "text": [
      "C:\\Users\\nkele\\.conda\\envs\\tfgpu\\lib\\site-packages\\sklearn\\base.py:446: UserWarning: X does not have valid feature names, but StandardScaler was fitted with feature names\n",
      "  \"X does not have valid feature names, but\"\n",
      "C:\\Users\\nkele\\.conda\\envs\\tfgpu\\lib\\site-packages\\sklearn\\base.py:446: UserWarning: X does not have valid feature names, but StandardScaler was fitted with feature names\n",
      "  \"X does not have valid feature names, but\"\n",
      "C:\\Users\\nkele\\.conda\\envs\\tfgpu\\lib\\site-packages\\sklearn\\base.py:446: UserWarning: X does not have valid feature names, but StandardScaler was fitted with feature names\n",
      "  \"X does not have valid feature names, but\"\n",
      "C:\\Users\\nkele\\.conda\\envs\\tfgpu\\lib\\site-packages\\sklearn\\base.py:446: UserWarning: X does not have valid feature names, but StandardScaler was fitted with feature names\n",
      "  \"X does not have valid feature names, but\"\n",
      "C:\\Users\\nkele\\.conda\\envs\\tfgpu\\lib\\site-packages\\sklearn\\base.py:446: UserWarning: X does not have valid feature names, but StandardScaler was fitted with feature names\n",
      "  \"X does not have valid feature names, but\"\n"
     ]
    },
    {
     "name": "stdout",
     "output_type": "stream",
     "text": [
      "fist_wave [0.9 0.1]\n",
      "fist_wave [0.9 0.1]\n"
     ]
    },
    {
     "name": "stderr",
     "output_type": "stream",
     "text": [
      "C:\\Users\\nkele\\.conda\\envs\\tfgpu\\lib\\site-packages\\sklearn\\base.py:446: UserWarning: X does not have valid feature names, but StandardScaler was fitted with feature names\n",
      "  \"X does not have valid feature names, but\"\n",
      "C:\\Users\\nkele\\.conda\\envs\\tfgpu\\lib\\site-packages\\sklearn\\base.py:446: UserWarning: X does not have valid feature names, but StandardScaler was fitted with feature names\n",
      "  \"X does not have valid feature names, but\"\n",
      "C:\\Users\\nkele\\.conda\\envs\\tfgpu\\lib\\site-packages\\sklearn\\base.py:446: UserWarning: X does not have valid feature names, but StandardScaler was fitted with feature names\n",
      "  \"X does not have valid feature names, but\"\n",
      "C:\\Users\\nkele\\.conda\\envs\\tfgpu\\lib\\site-packages\\sklearn\\base.py:446: UserWarning: X does not have valid feature names, but StandardScaler was fitted with feature names\n",
      "  \"X does not have valid feature names, but\"\n",
      "C:\\Users\\nkele\\.conda\\envs\\tfgpu\\lib\\site-packages\\sklearn\\base.py:446: UserWarning: X does not have valid feature names, but StandardScaler was fitted with feature names\n",
      "  \"X does not have valid feature names, but\"\n"
     ]
    },
    {
     "name": "stdout",
     "output_type": "stream",
     "text": [
      "fist_wave [0.9 0.1]\n",
      "fist_wave [0.9 0.1]\n"
     ]
    },
    {
     "name": "stderr",
     "output_type": "stream",
     "text": [
      "C:\\Users\\nkele\\.conda\\envs\\tfgpu\\lib\\site-packages\\sklearn\\base.py:446: UserWarning: X does not have valid feature names, but StandardScaler was fitted with feature names\n",
      "  \"X does not have valid feature names, but\"\n",
      "C:\\Users\\nkele\\.conda\\envs\\tfgpu\\lib\\site-packages\\sklearn\\base.py:446: UserWarning: X does not have valid feature names, but StandardScaler was fitted with feature names\n",
      "  \"X does not have valid feature names, but\"\n",
      "C:\\Users\\nkele\\.conda\\envs\\tfgpu\\lib\\site-packages\\sklearn\\base.py:446: UserWarning: X does not have valid feature names, but StandardScaler was fitted with feature names\n",
      "  \"X does not have valid feature names, but\"\n",
      "C:\\Users\\nkele\\.conda\\envs\\tfgpu\\lib\\site-packages\\sklearn\\base.py:446: UserWarning: X does not have valid feature names, but StandardScaler was fitted with feature names\n",
      "  \"X does not have valid feature names, but\"\n"
     ]
    },
    {
     "name": "stdout",
     "output_type": "stream",
     "text": [
      "fist_wave [0.91 0.09]\n",
      "fist_wave [0.91 0.09]\n"
     ]
    },
    {
     "name": "stderr",
     "output_type": "stream",
     "text": [
      "C:\\Users\\nkele\\.conda\\envs\\tfgpu\\lib\\site-packages\\sklearn\\base.py:446: UserWarning: X does not have valid feature names, but StandardScaler was fitted with feature names\n",
      "  \"X does not have valid feature names, but\"\n",
      "C:\\Users\\nkele\\.conda\\envs\\tfgpu\\lib\\site-packages\\sklearn\\base.py:446: UserWarning: X does not have valid feature names, but StandardScaler was fitted with feature names\n",
      "  \"X does not have valid feature names, but\"\n",
      "C:\\Users\\nkele\\.conda\\envs\\tfgpu\\lib\\site-packages\\sklearn\\base.py:446: UserWarning: X does not have valid feature names, but StandardScaler was fitted with feature names\n",
      "  \"X does not have valid feature names, but\"\n",
      "C:\\Users\\nkele\\.conda\\envs\\tfgpu\\lib\\site-packages\\sklearn\\base.py:446: UserWarning: X does not have valid feature names, but StandardScaler was fitted with feature names\n",
      "  \"X does not have valid feature names, but\"\n"
     ]
    },
    {
     "name": "stdout",
     "output_type": "stream",
     "text": [
      "fist_wave [0.91 0.09]\n",
      "fist_wave [0.91 0.09]\n"
     ]
    },
    {
     "name": "stderr",
     "output_type": "stream",
     "text": [
      "C:\\Users\\nkele\\.conda\\envs\\tfgpu\\lib\\site-packages\\sklearn\\base.py:446: UserWarning: X does not have valid feature names, but StandardScaler was fitted with feature names\n",
      "  \"X does not have valid feature names, but\"\n",
      "C:\\Users\\nkele\\.conda\\envs\\tfgpu\\lib\\site-packages\\sklearn\\base.py:446: UserWarning: X does not have valid feature names, but StandardScaler was fitted with feature names\n",
      "  \"X does not have valid feature names, but\"\n",
      "C:\\Users\\nkele\\.conda\\envs\\tfgpu\\lib\\site-packages\\sklearn\\base.py:446: UserWarning: X does not have valid feature names, but StandardScaler was fitted with feature names\n",
      "  \"X does not have valid feature names, but\"\n",
      "C:\\Users\\nkele\\.conda\\envs\\tfgpu\\lib\\site-packages\\sklearn\\base.py:446: UserWarning: X does not have valid feature names, but StandardScaler was fitted with feature names\n",
      "  \"X does not have valid feature names, but\"\n"
     ]
    },
    {
     "name": "stdout",
     "output_type": "stream",
     "text": [
      "fist_wave [0.91 0.09]\n"
     ]
    },
    {
     "name": "stderr",
     "output_type": "stream",
     "text": [
      "C:\\Users\\nkele\\.conda\\envs\\tfgpu\\lib\\site-packages\\sklearn\\base.py:446: UserWarning: X does not have valid feature names, but StandardScaler was fitted with feature names\n",
      "  \"X does not have valid feature names, but\"\n",
      "C:\\Users\\nkele\\.conda\\envs\\tfgpu\\lib\\site-packages\\sklearn\\base.py:446: UserWarning: X does not have valid feature names, but StandardScaler was fitted with feature names\n",
      "  \"X does not have valid feature names, but\"\n"
     ]
    },
    {
     "name": "stdout",
     "output_type": "stream",
     "text": [
      "fist_wave [0.91 0.09]\n",
      "fist_wave [0.9 0.1]\n"
     ]
    },
    {
     "name": "stderr",
     "output_type": "stream",
     "text": [
      "C:\\Users\\nkele\\.conda\\envs\\tfgpu\\lib\\site-packages\\sklearn\\base.py:446: UserWarning: X does not have valid feature names, but StandardScaler was fitted with feature names\n",
      "  \"X does not have valid feature names, but\"\n",
      "C:\\Users\\nkele\\.conda\\envs\\tfgpu\\lib\\site-packages\\sklearn\\base.py:446: UserWarning: X does not have valid feature names, but StandardScaler was fitted with feature names\n",
      "  \"X does not have valid feature names, but\"\n",
      "C:\\Users\\nkele\\.conda\\envs\\tfgpu\\lib\\site-packages\\sklearn\\base.py:446: UserWarning: X does not have valid feature names, but StandardScaler was fitted with feature names\n",
      "  \"X does not have valid feature names, but\"\n"
     ]
    },
    {
     "name": "stdout",
     "output_type": "stream",
     "text": [
      "fist_wave [0.91 0.09]\n"
     ]
    },
    {
     "name": "stderr",
     "output_type": "stream",
     "text": [
      "C:\\Users\\nkele\\.conda\\envs\\tfgpu\\lib\\site-packages\\sklearn\\base.py:446: UserWarning: X does not have valid feature names, but StandardScaler was fitted with feature names\n",
      "  \"X does not have valid feature names, but\"\n",
      "C:\\Users\\nkele\\.conda\\envs\\tfgpu\\lib\\site-packages\\sklearn\\base.py:446: UserWarning: X does not have valid feature names, but StandardScaler was fitted with feature names\n",
      "  \"X does not have valid feature names, but\"\n",
      "C:\\Users\\nkele\\.conda\\envs\\tfgpu\\lib\\site-packages\\sklearn\\base.py:446: UserWarning: X does not have valid feature names, but StandardScaler was fitted with feature names\n",
      "  \"X does not have valid feature names, but\"\n"
     ]
    },
    {
     "name": "stdout",
     "output_type": "stream",
     "text": [
      "fist_wave [0.89 0.11]\n",
      "fist_wave [0.89 0.11]\n"
     ]
    },
    {
     "name": "stderr",
     "output_type": "stream",
     "text": [
      "C:\\Users\\nkele\\.conda\\envs\\tfgpu\\lib\\site-packages\\sklearn\\base.py:446: UserWarning: X does not have valid feature names, but StandardScaler was fitted with feature names\n",
      "  \"X does not have valid feature names, but\"\n",
      "C:\\Users\\nkele\\.conda\\envs\\tfgpu\\lib\\site-packages\\sklearn\\base.py:446: UserWarning: X does not have valid feature names, but StandardScaler was fitted with feature names\n",
      "  \"X does not have valid feature names, but\"\n"
     ]
    },
    {
     "name": "stdout",
     "output_type": "stream",
     "text": [
      "fist_wave [0.9 0.1]\n",
      "fist_wave"
     ]
    },
    {
     "name": "stderr",
     "output_type": "stream",
     "text": [
      "C:\\Users\\nkele\\.conda\\envs\\tfgpu\\lib\\site-packages\\sklearn\\base.py:446: UserWarning: X does not have valid feature names, but StandardScaler was fitted with feature names\n",
      "  \"X does not have valid feature names, but\"\n",
      "C:\\Users\\nkele\\.conda\\envs\\tfgpu\\lib\\site-packages\\sklearn\\base.py:446: UserWarning: X does not have valid feature names, but StandardScaler was fitted with feature names\n",
      "  \"X does not have valid feature names, but\"\n",
      "C:\\Users\\nkele\\.conda\\envs\\tfgpu\\lib\\site-packages\\sklearn\\base.py:446: UserWarning: X does not have valid feature names, but StandardScaler was fitted with feature names\n",
      "  \"X does not have valid feature names, but\"\n",
      "C:\\Users\\nkele\\.conda\\envs\\tfgpu\\lib\\site-packages\\sklearn\\base.py:446: UserWarning: X does not have valid feature names, but StandardScaler was fitted with feature names\n",
      "  \"X does not have valid feature names, but\"\n"
     ]
    },
    {
     "name": "stdout",
     "output_type": "stream",
     "text": [
      " [0.88 0.12]\n",
      "fist_wave [0.9 0.1]\n"
     ]
    },
    {
     "name": "stderr",
     "output_type": "stream",
     "text": [
      "C:\\Users\\nkele\\.conda\\envs\\tfgpu\\lib\\site-packages\\sklearn\\base.py:446: UserWarning: X does not have valid feature names, but StandardScaler was fitted with feature names\n",
      "  \"X does not have valid feature names, but\"\n",
      "C:\\Users\\nkele\\.conda\\envs\\tfgpu\\lib\\site-packages\\sklearn\\base.py:446: UserWarning: X does not have valid feature names, but StandardScaler was fitted with feature names\n",
      "  \"X does not have valid feature names, but\"\n",
      "C:\\Users\\nkele\\.conda\\envs\\tfgpu\\lib\\site-packages\\sklearn\\base.py:446: UserWarning: X does not have valid feature names, but StandardScaler was fitted with feature names\n",
      "  \"X does not have valid feature names, but\"\n",
      "C:\\Users\\nkele\\.conda\\envs\\tfgpu\\lib\\site-packages\\sklearn\\base.py:446: UserWarning: X does not have valid feature names, but StandardScaler was fitted with feature names\n",
      "  \"X does not have valid feature names, but\"\n"
     ]
    },
    {
     "name": "stdout",
     "output_type": "stream",
     "text": [
      "fist_wave [0.88 0.12]\n",
      "fist_wave [0.88 0.12]\n"
     ]
    },
    {
     "name": "stderr",
     "output_type": "stream",
     "text": [
      "C:\\Users\\nkele\\.conda\\envs\\tfgpu\\lib\\site-packages\\sklearn\\base.py:446: UserWarning: X does not have valid feature names, but StandardScaler was fitted with feature names\n",
      "  \"X does not have valid feature names, but\"\n",
      "C:\\Users\\nkele\\.conda\\envs\\tfgpu\\lib\\site-packages\\sklearn\\base.py:446: UserWarning: X does not have valid feature names, but StandardScaler was fitted with feature names\n",
      "  \"X does not have valid feature names, but\"\n",
      "C:\\Users\\nkele\\.conda\\envs\\tfgpu\\lib\\site-packages\\sklearn\\base.py:446: UserWarning: X does not have valid feature names, but StandardScaler was fitted with feature names\n",
      "  \"X does not have valid feature names, but\"\n",
      "C:\\Users\\nkele\\.conda\\envs\\tfgpu\\lib\\site-packages\\sklearn\\base.py:446: UserWarning: X does not have valid feature names, but StandardScaler was fitted with feature names\n",
      "  \"X does not have valid feature names, but\"\n"
     ]
    },
    {
     "name": "stdout",
     "output_type": "stream",
     "text": [
      "fist_wave [0.86 0.14]\n",
      "fist_wave [0.84 0.16]\n"
     ]
    },
    {
     "name": "stderr",
     "output_type": "stream",
     "text": [
      "C:\\Users\\nkele\\.conda\\envs\\tfgpu\\lib\\site-packages\\sklearn\\base.py:446: UserWarning: X does not have valid feature names, but StandardScaler was fitted with feature names\n",
      "  \"X does not have valid feature names, but\"\n",
      "C:\\Users\\nkele\\.conda\\envs\\tfgpu\\lib\\site-packages\\sklearn\\base.py:446: UserWarning: X does not have valid feature names, but StandardScaler was fitted with feature names\n",
      "  \"X does not have valid feature names, but\"\n",
      "C:\\Users\\nkele\\.conda\\envs\\tfgpu\\lib\\site-packages\\sklearn\\base.py:446: UserWarning: X does not have valid feature names, but StandardScaler was fitted with feature names\n",
      "  \"X does not have valid feature names, but\"\n"
     ]
    },
    {
     "name": "stdout",
     "output_type": "stream",
     "text": [
      "fist_wave [0.85 0.15]\n",
      "fist_wave [0.85 0.15]\n"
     ]
    },
    {
     "name": "stderr",
     "output_type": "stream",
     "text": [
      "C:\\Users\\nkele\\.conda\\envs\\tfgpu\\lib\\site-packages\\sklearn\\base.py:446: UserWarning: X does not have valid feature names, but StandardScaler was fitted with feature names\n",
      "  \"X does not have valid feature names, but\"\n",
      "C:\\Users\\nkele\\.conda\\envs\\tfgpu\\lib\\site-packages\\sklearn\\base.py:446: UserWarning: X does not have valid feature names, but StandardScaler was fitted with feature names\n",
      "  \"X does not have valid feature names, but\"\n",
      "C:\\Users\\nkele\\.conda\\envs\\tfgpu\\lib\\site-packages\\sklearn\\base.py:446: UserWarning: X does not have valid feature names, but StandardScaler was fitted with feature names\n",
      "  \"X does not have valid feature names, but\"\n"
     ]
    },
    {
     "name": "stdout",
     "output_type": "stream",
     "text": [
      "fist_wave [0.84 0.16]\n",
      "fist_wave [0.84 0.16]\n"
     ]
    },
    {
     "name": "stderr",
     "output_type": "stream",
     "text": [
      "C:\\Users\\nkele\\.conda\\envs\\tfgpu\\lib\\site-packages\\sklearn\\base.py:446: UserWarning: X does not have valid feature names, but StandardScaler was fitted with feature names\n",
      "  \"X does not have valid feature names, but\"\n",
      "C:\\Users\\nkele\\.conda\\envs\\tfgpu\\lib\\site-packages\\sklearn\\base.py:446: UserWarning: X does not have valid feature names, but StandardScaler was fitted with feature names\n",
      "  \"X does not have valid feature names, but\"\n",
      "C:\\Users\\nkele\\.conda\\envs\\tfgpu\\lib\\site-packages\\sklearn\\base.py:446: UserWarning: X does not have valid feature names, but StandardScaler was fitted with feature names\n",
      "  \"X does not have valid feature names, but\"\n",
      "C:\\Users\\nkele\\.conda\\envs\\tfgpu\\lib\\site-packages\\sklearn\\base.py:446: UserWarning: X does not have valid feature names, but StandardScaler was fitted with feature names\n",
      "  \"X does not have valid feature names, but\"\n"
     ]
    },
    {
     "name": "stdout",
     "output_type": "stream",
     "text": [
      "fist_wave [0.84 0.16]\n",
      "fist_wave [0.84 0.16]\n"
     ]
    },
    {
     "name": "stderr",
     "output_type": "stream",
     "text": [
      "C:\\Users\\nkele\\.conda\\envs\\tfgpu\\lib\\site-packages\\sklearn\\base.py:446: UserWarning: X does not have valid feature names, but StandardScaler was fitted with feature names\n",
      "  \"X does not have valid feature names, but\"\n",
      "C:\\Users\\nkele\\.conda\\envs\\tfgpu\\lib\\site-packages\\sklearn\\base.py:446: UserWarning: X does not have valid feature names, but StandardScaler was fitted with feature names\n",
      "  \"X does not have valid feature names, but\"\n",
      "C:\\Users\\nkele\\.conda\\envs\\tfgpu\\lib\\site-packages\\sklearn\\base.py:446: UserWarning: X does not have valid feature names, but StandardScaler was fitted with feature names\n",
      "  \"X does not have valid feature names, but\"\n",
      "C:\\Users\\nkele\\.conda\\envs\\tfgpu\\lib\\site-packages\\sklearn\\base.py:446: UserWarning: X does not have valid feature names, but StandardScaler was fitted with feature names\n",
      "  \"X does not have valid feature names, but\"\n"
     ]
    },
    {
     "name": "stdout",
     "output_type": "stream",
     "text": [
      "fist_wave [0.83 0.17]\n",
      "fist_wave"
     ]
    },
    {
     "name": "stderr",
     "output_type": "stream",
     "text": [
      "C:\\Users\\nkele\\.conda\\envs\\tfgpu\\lib\\site-packages\\sklearn\\base.py:446: UserWarning: X does not have valid feature names, but StandardScaler was fitted with feature names\n",
      "  \"X does not have valid feature names, but\"\n",
      "C:\\Users\\nkele\\.conda\\envs\\tfgpu\\lib\\site-packages\\sklearn\\base.py:446: UserWarning: X does not have valid feature names, but StandardScaler was fitted with feature names\n",
      "  \"X does not have valid feature names, but\"\n",
      "C:\\Users\\nkele\\.conda\\envs\\tfgpu\\lib\\site-packages\\sklearn\\base.py:446: UserWarning: X does not have valid feature names, but StandardScaler was fitted with feature names\n",
      "  \"X does not have valid feature names, but\"\n",
      "C:\\Users\\nkele\\.conda\\envs\\tfgpu\\lib\\site-packages\\sklearn\\base.py:446: UserWarning: X does not have valid feature names, but StandardScaler was fitted with feature names\n",
      "  \"X does not have valid feature names, but\"\n"
     ]
    },
    {
     "name": "stdout",
     "output_type": "stream",
     "text": [
      " [0.83 0.17]\n",
      "fist_wave [0.82 0.18]\n"
     ]
    },
    {
     "name": "stderr",
     "output_type": "stream",
     "text": [
      "C:\\Users\\nkele\\.conda\\envs\\tfgpu\\lib\\site-packages\\sklearn\\base.py:446: UserWarning: X does not have valid feature names, but StandardScaler was fitted with feature names\n",
      "  \"X does not have valid feature names, but\"\n",
      "C:\\Users\\nkele\\.conda\\envs\\tfgpu\\lib\\site-packages\\sklearn\\base.py:446: UserWarning: X does not have valid feature names, but StandardScaler was fitted with feature names\n",
      "  \"X does not have valid feature names, but\"\n",
      "C:\\Users\\nkele\\.conda\\envs\\tfgpu\\lib\\site-packages\\sklearn\\base.py:446: UserWarning: X does not have valid feature names, but StandardScaler was fitted with feature names\n",
      "  \"X does not have valid feature names, but\"\n",
      "C:\\Users\\nkele\\.conda\\envs\\tfgpu\\lib\\site-packages\\sklearn\\base.py:446: UserWarning: X does not have valid feature names, but StandardScaler was fitted with feature names\n",
      "  \"X does not have valid feature names, but\"\n"
     ]
    },
    {
     "name": "stdout",
     "output_type": "stream",
     "text": [
      "fist_wave [0.83 0.17]\n",
      "fist_wave [0.82 0.18]\n",
      "fist_wave [0.79 0.21]\n"
     ]
    },
    {
     "name": "stderr",
     "output_type": "stream",
     "text": [
      "C:\\Users\\nkele\\.conda\\envs\\tfgpu\\lib\\site-packages\\sklearn\\base.py:446: UserWarning: X does not have valid feature names, but StandardScaler was fitted with feature names\n",
      "  \"X does not have valid feature names, but\"\n",
      "C:\\Users\\nkele\\.conda\\envs\\tfgpu\\lib\\site-packages\\sklearn\\base.py:446: UserWarning: X does not have valid feature names, but StandardScaler was fitted with feature names\n",
      "  \"X does not have valid feature names, but\"\n",
      "C:\\Users\\nkele\\.conda\\envs\\tfgpu\\lib\\site-packages\\sklearn\\base.py:446: UserWarning: X does not have valid feature names, but StandardScaler was fitted with feature names\n",
      "  \"X does not have valid feature names, but\"\n",
      "C:\\Users\\nkele\\.conda\\envs\\tfgpu\\lib\\site-packages\\sklearn\\base.py:446: UserWarning: X does not have valid feature names, but StandardScaler was fitted with feature names\n",
      "  \"X does not have valid feature names, but\"\n"
     ]
    },
    {
     "name": "stdout",
     "output_type": "stream",
     "text": [
      "fist_wave [0.79 0.21]\n"
     ]
    },
    {
     "name": "stderr",
     "output_type": "stream",
     "text": [
      "C:\\Users\\nkele\\.conda\\envs\\tfgpu\\lib\\site-packages\\sklearn\\base.py:446: UserWarning: X does not have valid feature names, but StandardScaler was fitted with feature names\n",
      "  \"X does not have valid feature names, but\"\n",
      "C:\\Users\\nkele\\.conda\\envs\\tfgpu\\lib\\site-packages\\sklearn\\base.py:446: UserWarning: X does not have valid feature names, but StandardScaler was fitted with feature names\n",
      "  \"X does not have valid feature names, but\"\n",
      "C:\\Users\\nkele\\.conda\\envs\\tfgpu\\lib\\site-packages\\sklearn\\base.py:446: UserWarning: X does not have valid feature names, but StandardScaler was fitted with feature names\n",
      "  \"X does not have valid feature names, but\"\n",
      "C:\\Users\\nkele\\.conda\\envs\\tfgpu\\lib\\site-packages\\sklearn\\base.py:446: UserWarning: X does not have valid feature names, but StandardScaler was fitted with feature names\n",
      "  \"X does not have valid feature names, but\"\n"
     ]
    },
    {
     "name": "stdout",
     "output_type": "stream",
     "text": [
      "fist_wave [0.79 0.21]\n"
     ]
    },
    {
     "name": "stderr",
     "output_type": "stream",
     "text": [
      "C:\\Users\\nkele\\.conda\\envs\\tfgpu\\lib\\site-packages\\sklearn\\base.py:446: UserWarning: X does not have valid feature names, but StandardScaler was fitted with feature names\n",
      "  \"X does not have valid feature names, but\"\n",
      "C:\\Users\\nkele\\.conda\\envs\\tfgpu\\lib\\site-packages\\sklearn\\base.py:446: UserWarning: X does not have valid feature names, but StandardScaler was fitted with feature names\n",
      "  \"X does not have valid feature names, but\"\n",
      "C:\\Users\\nkele\\.conda\\envs\\tfgpu\\lib\\site-packages\\sklearn\\base.py:446: UserWarning: X does not have valid feature names, but StandardScaler was fitted with feature names\n",
      "  \"X does not have valid feature names, but\"\n",
      "C:\\Users\\nkele\\.conda\\envs\\tfgpu\\lib\\site-packages\\sklearn\\base.py:446: UserWarning: X does not have valid feature names, but StandardScaler was fitted with feature names\n",
      "  \"X does not have valid feature names, but\"\n"
     ]
    },
    {
     "name": "stdout",
     "output_type": "stream",
     "text": [
      "fist_wave [0.78 0.22]\n",
      "fist_wave [0.79 0.21]\n",
      "fist_wave [0.78 0.22]\n"
     ]
    },
    {
     "name": "stderr",
     "output_type": "stream",
     "text": [
      "C:\\Users\\nkele\\.conda\\envs\\tfgpu\\lib\\site-packages\\sklearn\\base.py:446: UserWarning: X does not have valid feature names, but StandardScaler was fitted with feature names\n",
      "  \"X does not have valid feature names, but\"\n",
      "C:\\Users\\nkele\\.conda\\envs\\tfgpu\\lib\\site-packages\\sklearn\\base.py:446: UserWarning: X does not have valid feature names, but StandardScaler was fitted with feature names\n",
      "  \"X does not have valid feature names, but\"\n"
     ]
    },
    {
     "name": "stdout",
     "output_type": "stream",
     "text": [
      "fist_wave [0.78 0.22]\n",
      "fist_wave [0.78 0.22]\n"
     ]
    },
    {
     "name": "stderr",
     "output_type": "stream",
     "text": [
      "C:\\Users\\nkele\\.conda\\envs\\tfgpu\\lib\\site-packages\\sklearn\\base.py:446: UserWarning: X does not have valid feature names, but StandardScaler was fitted with feature names\n",
      "  \"X does not have valid feature names, but\"\n",
      "C:\\Users\\nkele\\.conda\\envs\\tfgpu\\lib\\site-packages\\sklearn\\base.py:446: UserWarning: X does not have valid feature names, but StandardScaler was fitted with feature names\n",
      "  \"X does not have valid feature names, but\"\n",
      "C:\\Users\\nkele\\.conda\\envs\\tfgpu\\lib\\site-packages\\sklearn\\base.py:446: UserWarning: X does not have valid feature names, but StandardScaler was fitted with feature names\n",
      "  \"X does not have valid feature names, but\"\n",
      "C:\\Users\\nkele\\.conda\\envs\\tfgpu\\lib\\site-packages\\sklearn\\base.py:446: UserWarning: X does not have valid feature names, but StandardScaler was fitted with feature names\n",
      "  \"X does not have valid feature names, but\"\n",
      "C:\\Users\\nkele\\.conda\\envs\\tfgpu\\lib\\site-packages\\sklearn\\base.py:446: UserWarning: X does not have valid feature names, but StandardScaler was fitted with feature names\n",
      "  \"X does not have valid feature names, but\"\n",
      "C:\\Users\\nkele\\.conda\\envs\\tfgpu\\lib\\site-packages\\sklearn\\base.py:446: UserWarning: X does not have valid feature names, but StandardScaler was fitted with feature names\n",
      "  \"X does not have valid feature names, but\"\n"
     ]
    },
    {
     "name": "stdout",
     "output_type": "stream",
     "text": [
      "fist_wave [0.79 0.21]\n",
      "fist_wave [0.79 0.21]\n"
     ]
    },
    {
     "name": "stderr",
     "output_type": "stream",
     "text": [
      "C:\\Users\\nkele\\.conda\\envs\\tfgpu\\lib\\site-packages\\sklearn\\base.py:446: UserWarning: X does not have valid feature names, but StandardScaler was fitted with feature names\n",
      "  \"X does not have valid feature names, but\"\n",
      "C:\\Users\\nkele\\.conda\\envs\\tfgpu\\lib\\site-packages\\sklearn\\base.py:446: UserWarning: X does not have valid feature names, but StandardScaler was fitted with feature names\n",
      "  \"X does not have valid feature names, but\"\n",
      "C:\\Users\\nkele\\.conda\\envs\\tfgpu\\lib\\site-packages\\sklearn\\base.py:446: UserWarning: X does not have valid feature names, but StandardScaler was fitted with feature names\n",
      "  \"X does not have valid feature names, but\"\n",
      "C:\\Users\\nkele\\.conda\\envs\\tfgpu\\lib\\site-packages\\sklearn\\base.py:446: UserWarning: X does not have valid feature names, but StandardScaler was fitted with feature names\n",
      "  \"X does not have valid feature names, but\"\n",
      "C:\\Users\\nkele\\.conda\\envs\\tfgpu\\lib\\site-packages\\sklearn\\base.py:446: UserWarning: X does not have valid feature names, but StandardScaler was fitted with feature names\n",
      "  \"X does not have valid feature names, but\"\n"
     ]
    },
    {
     "name": "stdout",
     "output_type": "stream",
     "text": [
      "fist_wave [0.79 0.21]\n",
      "fist_wave [0.8 0.2]\n"
     ]
    },
    {
     "name": "stderr",
     "output_type": "stream",
     "text": [
      "C:\\Users\\nkele\\.conda\\envs\\tfgpu\\lib\\site-packages\\sklearn\\base.py:446: UserWarning: X does not have valid feature names, but StandardScaler was fitted with feature names\n",
      "  \"X does not have valid feature names, but\"\n",
      "C:\\Users\\nkele\\.conda\\envs\\tfgpu\\lib\\site-packages\\sklearn\\base.py:446: UserWarning: X does not have valid feature names, but StandardScaler was fitted with feature names\n",
      "  \"X does not have valid feature names, but\"\n",
      "C:\\Users\\nkele\\.conda\\envs\\tfgpu\\lib\\site-packages\\sklearn\\base.py:446: UserWarning: X does not have valid feature names, but StandardScaler was fitted with feature names\n",
      "  \"X does not have valid feature names, but\"\n",
      "C:\\Users\\nkele\\.conda\\envs\\tfgpu\\lib\\site-packages\\sklearn\\base.py:446: UserWarning: X does not have valid feature names, but StandardScaler was fitted with feature names\n",
      "  \"X does not have valid feature names, but\"\n",
      "C:\\Users\\nkele\\.conda\\envs\\tfgpu\\lib\\site-packages\\sklearn\\base.py:446: UserWarning: X does not have valid feature names, but StandardScaler was fitted with feature names\n",
      "  \"X does not have valid feature names, but\"\n"
     ]
    },
    {
     "name": "stdout",
     "output_type": "stream",
     "text": [
      "fist_wave [0.82 0.18]\n",
      "fist_wave [0.83 0.17]\n",
      "fist_wave [0.84 0.16]\n"
     ]
    },
    {
     "name": "stderr",
     "output_type": "stream",
     "text": [
      "C:\\Users\\nkele\\.conda\\envs\\tfgpu\\lib\\site-packages\\sklearn\\base.py:446: UserWarning: X does not have valid feature names, but StandardScaler was fitted with feature names\n",
      "  \"X does not have valid feature names, but\"\n",
      "C:\\Users\\nkele\\.conda\\envs\\tfgpu\\lib\\site-packages\\sklearn\\base.py:446: UserWarning: X does not have valid feature names, but StandardScaler was fitted with feature names\n",
      "  \"X does not have valid feature names, but\"\n",
      "C:\\Users\\nkele\\.conda\\envs\\tfgpu\\lib\\site-packages\\sklearn\\base.py:446: UserWarning: X does not have valid feature names, but StandardScaler was fitted with feature names\n",
      "  \"X does not have valid feature names, but\"\n",
      "C:\\Users\\nkele\\.conda\\envs\\tfgpu\\lib\\site-packages\\sklearn\\base.py:446: UserWarning: X does not have valid feature names, but StandardScaler was fitted with feature names\n",
      "  \"X does not have valid feature names, but\"\n"
     ]
    },
    {
     "name": "stdout",
     "output_type": "stream",
     "text": [
      "fist_wave [0.85 0.15]\n",
      "fist_wave [0.85 0.15]\n"
     ]
    },
    {
     "name": "stderr",
     "output_type": "stream",
     "text": [
      "C:\\Users\\nkele\\.conda\\envs\\tfgpu\\lib\\site-packages\\sklearn\\base.py:446: UserWarning: X does not have valid feature names, but StandardScaler was fitted with feature names\n",
      "  \"X does not have valid feature names, but\"\n",
      "C:\\Users\\nkele\\.conda\\envs\\tfgpu\\lib\\site-packages\\sklearn\\base.py:446: UserWarning: X does not have valid feature names, but StandardScaler was fitted with feature names\n",
      "  \"X does not have valid feature names, but\"\n",
      "C:\\Users\\nkele\\.conda\\envs\\tfgpu\\lib\\site-packages\\sklearn\\base.py:446: UserWarning: X does not have valid feature names, but StandardScaler was fitted with feature names\n",
      "  \"X does not have valid feature names, but\"\n",
      "C:\\Users\\nkele\\.conda\\envs\\tfgpu\\lib\\site-packages\\sklearn\\base.py:446: UserWarning: X does not have valid feature names, but StandardScaler was fitted with feature names\n",
      "  \"X does not have valid feature names, but\"\n"
     ]
    },
    {
     "name": "stdout",
     "output_type": "stream",
     "text": [
      "fist_wave [0.85 0.15]\n",
      "fist_wave [0.85 0.15]\n"
     ]
    },
    {
     "name": "stderr",
     "output_type": "stream",
     "text": [
      "C:\\Users\\nkele\\.conda\\envs\\tfgpu\\lib\\site-packages\\sklearn\\base.py:446: UserWarning: X does not have valid feature names, but StandardScaler was fitted with feature names\n",
      "  \"X does not have valid feature names, but\"\n",
      "C:\\Users\\nkele\\.conda\\envs\\tfgpu\\lib\\site-packages\\sklearn\\base.py:446: UserWarning: X does not have valid feature names, but StandardScaler was fitted with feature names\n",
      "  \"X does not have valid feature names, but\"\n",
      "C:\\Users\\nkele\\.conda\\envs\\tfgpu\\lib\\site-packages\\sklearn\\base.py:446: UserWarning: X does not have valid feature names, but StandardScaler was fitted with feature names\n",
      "  \"X does not have valid feature names, but\"\n",
      "C:\\Users\\nkele\\.conda\\envs\\tfgpu\\lib\\site-packages\\sklearn\\base.py:446: UserWarning: X does not have valid feature names, but StandardScaler was fitted with feature names\n",
      "  \"X does not have valid feature names, but\"\n"
     ]
    },
    {
     "name": "stdout",
     "output_type": "stream",
     "text": [
      "fist_wave [0.86 0.14]\n",
      "fist_wave [0.86 0.14]\n"
     ]
    },
    {
     "name": "stderr",
     "output_type": "stream",
     "text": [
      "C:\\Users\\nkele\\.conda\\envs\\tfgpu\\lib\\site-packages\\sklearn\\base.py:446: UserWarning: X does not have valid feature names, but StandardScaler was fitted with feature names\n",
      "  \"X does not have valid feature names, but\"\n",
      "C:\\Users\\nkele\\.conda\\envs\\tfgpu\\lib\\site-packages\\sklearn\\base.py:446: UserWarning: X does not have valid feature names, but StandardScaler was fitted with feature names\n",
      "  \"X does not have valid feature names, but\"\n",
      "C:\\Users\\nkele\\.conda\\envs\\tfgpu\\lib\\site-packages\\sklearn\\base.py:446: UserWarning: X does not have valid feature names, but StandardScaler was fitted with feature names\n",
      "  \"X does not have valid feature names, but\"\n",
      "C:\\Users\\nkele\\.conda\\envs\\tfgpu\\lib\\site-packages\\sklearn\\base.py:446: UserWarning: X does not have valid feature names, but StandardScaler was fitted with feature names\n",
      "  \"X does not have valid feature names, but\"\n",
      "C:\\Users\\nkele\\.conda\\envs\\tfgpu\\lib\\site-packages\\sklearn\\base.py:446: UserWarning: X does not have valid feature names, but StandardScaler was fitted with feature names\n",
      "  \"X does not have valid feature names, but\"\n",
      "C:\\Users\\nkele\\.conda\\envs\\tfgpu\\lib\\site-packages\\sklearn\\base.py:446: UserWarning: X does not have valid feature names, but StandardScaler was fitted with feature names\n",
      "  \"X does not have valid feature names, but\"\n"
     ]
    },
    {
     "name": "stdout",
     "output_type": "stream",
     "text": [
      "fist_wave [0.87 0.13]\n",
      "fist_wave [0.87 0.13]\n"
     ]
    },
    {
     "name": "stderr",
     "output_type": "stream",
     "text": [
      "C:\\Users\\nkele\\.conda\\envs\\tfgpu\\lib\\site-packages\\sklearn\\base.py:446: UserWarning: X does not have valid feature names, but StandardScaler was fitted with feature names\n",
      "  \"X does not have valid feature names, but\"\n",
      "C:\\Users\\nkele\\.conda\\envs\\tfgpu\\lib\\site-packages\\sklearn\\base.py:446: UserWarning: X does not have valid feature names, but StandardScaler was fitted with feature names\n",
      "  \"X does not have valid feature names, but\"\n"
     ]
    },
    {
     "name": "stdout",
     "output_type": "stream",
     "text": [
      "fist_wave [0.87 0.13]\n",
      "fist_wave [0.87 0.13]\n"
     ]
    },
    {
     "name": "stderr",
     "output_type": "stream",
     "text": [
      "C:\\Users\\nkele\\.conda\\envs\\tfgpu\\lib\\site-packages\\sklearn\\base.py:446: UserWarning: X does not have valid feature names, but StandardScaler was fitted with feature names\n",
      "  \"X does not have valid feature names, but\"\n",
      "C:\\Users\\nkele\\.conda\\envs\\tfgpu\\lib\\site-packages\\sklearn\\base.py:446: UserWarning: X does not have valid feature names, but StandardScaler was fitted with feature names\n",
      "  \"X does not have valid feature names, but\"\n",
      "C:\\Users\\nkele\\.conda\\envs\\tfgpu\\lib\\site-packages\\sklearn\\base.py:446: UserWarning: X does not have valid feature names, but StandardScaler was fitted with feature names\n",
      "  \"X does not have valid feature names, but\"\n",
      "C:\\Users\\nkele\\.conda\\envs\\tfgpu\\lib\\site-packages\\sklearn\\base.py:446: UserWarning: X does not have valid feature names, but StandardScaler was fitted with feature names\n",
      "  \"X does not have valid feature names, but\"\n",
      "C:\\Users\\nkele\\.conda\\envs\\tfgpu\\lib\\site-packages\\sklearn\\base.py:446: UserWarning: X does not have valid feature names, but StandardScaler was fitted with feature names\n",
      "  \"X does not have valid feature names, but\"\n",
      "C:\\Users\\nkele\\.conda\\envs\\tfgpu\\lib\\site-packages\\sklearn\\base.py:446: UserWarning: X does not have valid feature names, but StandardScaler was fitted with feature names\n",
      "  \"X does not have valid feature names, but\"\n"
     ]
    },
    {
     "name": "stdout",
     "output_type": "stream",
     "text": [
      "fist_wave [0.87 0.13]\n",
      "fist_wave [0.86 0.14]\n"
     ]
    },
    {
     "name": "stderr",
     "output_type": "stream",
     "text": [
      "C:\\Users\\nkele\\.conda\\envs\\tfgpu\\lib\\site-packages\\sklearn\\base.py:446: UserWarning: X does not have valid feature names, but StandardScaler was fitted with feature names\n",
      "  \"X does not have valid feature names, but\"\n",
      "C:\\Users\\nkele\\.conda\\envs\\tfgpu\\lib\\site-packages\\sklearn\\base.py:446: UserWarning: X does not have valid feature names, but StandardScaler was fitted with feature names\n",
      "  \"X does not have valid feature names, but\"\n",
      "C:\\Users\\nkele\\.conda\\envs\\tfgpu\\lib\\site-packages\\sklearn\\base.py:446: UserWarning: X does not have valid feature names, but StandardScaler was fitted with feature names\n",
      "  \"X does not have valid feature names, but\"\n",
      "C:\\Users\\nkele\\.conda\\envs\\tfgpu\\lib\\site-packages\\sklearn\\base.py:446: UserWarning: X does not have valid feature names, but StandardScaler was fitted with feature names\n",
      "  \"X does not have valid feature names, but\"\n"
     ]
    },
    {
     "name": "stdout",
     "output_type": "stream",
     "text": [
      "fist_wave [0.86 0.14]\n",
      "fist_wave [0.85 0.15]\n"
     ]
    },
    {
     "name": "stderr",
     "output_type": "stream",
     "text": [
      "C:\\Users\\nkele\\.conda\\envs\\tfgpu\\lib\\site-packages\\sklearn\\base.py:446: UserWarning: X does not have valid feature names, but StandardScaler was fitted with feature names\n",
      "  \"X does not have valid feature names, but\"\n",
      "C:\\Users\\nkele\\.conda\\envs\\tfgpu\\lib\\site-packages\\sklearn\\base.py:446: UserWarning: X does not have valid feature names, but StandardScaler was fitted with feature names\n",
      "  \"X does not have valid feature names, but\"\n",
      "C:\\Users\\nkele\\.conda\\envs\\tfgpu\\lib\\site-packages\\sklearn\\base.py:446: UserWarning: X does not have valid feature names, but StandardScaler was fitted with feature names\n",
      "  \"X does not have valid feature names, but\"\n",
      "C:\\Users\\nkele\\.conda\\envs\\tfgpu\\lib\\site-packages\\sklearn\\base.py:446: UserWarning: X does not have valid feature names, but StandardScaler was fitted with feature names\n",
      "  \"X does not have valid feature names, but\"\n"
     ]
    },
    {
     "name": "stdout",
     "output_type": "stream",
     "text": [
      "fist_wave [0.85 0.15]\n",
      "fist_wave [0.85 0.15]\n",
      "fist_wave [0.84 0.16]\n"
     ]
    },
    {
     "name": "stderr",
     "output_type": "stream",
     "text": [
      "C:\\Users\\nkele\\.conda\\envs\\tfgpu\\lib\\site-packages\\sklearn\\base.py:446: UserWarning: X does not have valid feature names, but StandardScaler was fitted with feature names\n",
      "  \"X does not have valid feature names, but\"\n",
      "C:\\Users\\nkele\\.conda\\envs\\tfgpu\\lib\\site-packages\\sklearn\\base.py:446: UserWarning: X does not have valid feature names, but StandardScaler was fitted with feature names\n",
      "  \"X does not have valid feature names, but\"\n",
      "C:\\Users\\nkele\\.conda\\envs\\tfgpu\\lib\\site-packages\\sklearn\\base.py:446: UserWarning: X does not have valid feature names, but StandardScaler was fitted with feature names\n",
      "  \"X does not have valid feature names, but\"\n",
      "C:\\Users\\nkele\\.conda\\envs\\tfgpu\\lib\\site-packages\\sklearn\\base.py:446: UserWarning: X does not have valid feature names, but StandardScaler was fitted with feature names\n",
      "  \"X does not have valid feature names, but\"\n"
     ]
    },
    {
     "name": "stdout",
     "output_type": "stream",
     "text": [
      "fist_wave [0.84 0.16]\n",
      "fist_wave [0.85 0.15]\n"
     ]
    },
    {
     "name": "stderr",
     "output_type": "stream",
     "text": [
      "C:\\Users\\nkele\\.conda\\envs\\tfgpu\\lib\\site-packages\\sklearn\\base.py:446: UserWarning: X does not have valid feature names, but StandardScaler was fitted with feature names\n",
      "  \"X does not have valid feature names, but\"\n",
      "C:\\Users\\nkele\\.conda\\envs\\tfgpu\\lib\\site-packages\\sklearn\\base.py:446: UserWarning: X does not have valid feature names, but StandardScaler was fitted with feature names\n",
      "  \"X does not have valid feature names, but\"\n",
      "C:\\Users\\nkele\\.conda\\envs\\tfgpu\\lib\\site-packages\\sklearn\\base.py:446: UserWarning: X does not have valid feature names, but StandardScaler was fitted with feature names\n",
      "  \"X does not have valid feature names, but\"\n",
      "C:\\Users\\nkele\\.conda\\envs\\tfgpu\\lib\\site-packages\\sklearn\\base.py:446: UserWarning: X does not have valid feature names, but StandardScaler was fitted with feature names\n",
      "  \"X does not have valid feature names, but\"\n"
     ]
    },
    {
     "name": "stdout",
     "output_type": "stream",
     "text": [
      "fist_wave [0.83 0.17]\n"
     ]
    },
    {
     "name": "stderr",
     "output_type": "stream",
     "text": [
      "C:\\Users\\nkele\\.conda\\envs\\tfgpu\\lib\\site-packages\\sklearn\\base.py:446: UserWarning: X does not have valid feature names, but StandardScaler was fitted with feature names\n",
      "  \"X does not have valid feature names, but\"\n",
      "C:\\Users\\nkele\\.conda\\envs\\tfgpu\\lib\\site-packages\\sklearn\\base.py:446: UserWarning: X does not have valid feature names, but StandardScaler was fitted with feature names\n",
      "  \"X does not have valid feature names, but\"\n",
      "C:\\Users\\nkele\\.conda\\envs\\tfgpu\\lib\\site-packages\\sklearn\\base.py:446: UserWarning: X does not have valid feature names, but StandardScaler was fitted with feature names\n",
      "  \"X does not have valid feature names, but\"\n",
      "C:\\Users\\nkele\\.conda\\envs\\tfgpu\\lib\\site-packages\\sklearn\\base.py:446: UserWarning: X does not have valid feature names, but StandardScaler was fitted with feature names\n",
      "  \"X does not have valid feature names, but\"\n"
     ]
    },
    {
     "name": "stdout",
     "output_type": "stream",
     "text": [
      "fist_wave [0.83 0.17]\n",
      "fist_wave [0.83 0.17]\n"
     ]
    },
    {
     "name": "stderr",
     "output_type": "stream",
     "text": [
      "C:\\Users\\nkele\\.conda\\envs\\tfgpu\\lib\\site-packages\\sklearn\\base.py:446: UserWarning: X does not have valid feature names, but StandardScaler was fitted with feature names\n",
      "  \"X does not have valid feature names, but\"\n",
      "C:\\Users\\nkele\\.conda\\envs\\tfgpu\\lib\\site-packages\\sklearn\\base.py:446: UserWarning: X does not have valid feature names, but StandardScaler was fitted with feature names\n",
      "  \"X does not have valid feature names, but\"\n",
      "C:\\Users\\nkele\\.conda\\envs\\tfgpu\\lib\\site-packages\\sklearn\\base.py:446: UserWarning: X does not have valid feature names, but StandardScaler was fitted with feature names\n",
      "  \"X does not have valid feature names, but\"\n",
      "C:\\Users\\nkele\\.conda\\envs\\tfgpu\\lib\\site-packages\\sklearn\\base.py:446: UserWarning: X does not have valid feature names, but StandardScaler was fitted with feature names\n",
      "  \"X does not have valid feature names, but\"\n"
     ]
    },
    {
     "name": "stdout",
     "output_type": "stream",
     "text": [
      "fist_wave [0.83 0.17]\n",
      "fist_wave [0.83 0.17]\n",
      "fist_wave [0.82 0.18]\n"
     ]
    },
    {
     "name": "stderr",
     "output_type": "stream",
     "text": [
      "C:\\Users\\nkele\\.conda\\envs\\tfgpu\\lib\\site-packages\\sklearn\\base.py:446: UserWarning: X does not have valid feature names, but StandardScaler was fitted with feature names\n",
      "  \"X does not have valid feature names, but\"\n",
      "C:\\Users\\nkele\\.conda\\envs\\tfgpu\\lib\\site-packages\\sklearn\\base.py:446: UserWarning: X does not have valid feature names, but StandardScaler was fitted with feature names\n",
      "  \"X does not have valid feature names, but\"\n",
      "C:\\Users\\nkele\\.conda\\envs\\tfgpu\\lib\\site-packages\\sklearn\\base.py:446: UserWarning: X does not have valid feature names, but StandardScaler was fitted with feature names\n",
      "  \"X does not have valid feature names, but\"\n",
      "C:\\Users\\nkele\\.conda\\envs\\tfgpu\\lib\\site-packages\\sklearn\\base.py:446: UserWarning: X does not have valid feature names, but StandardScaler was fitted with feature names\n",
      "  \"X does not have valid feature names, but\"\n"
     ]
    },
    {
     "name": "stdout",
     "output_type": "stream",
     "text": [
      "fist_wave [0.82 0.18]\n",
      "fist_wave [0.82 0.18]\n"
     ]
    },
    {
     "name": "stderr",
     "output_type": "stream",
     "text": [
      "C:\\Users\\nkele\\.conda\\envs\\tfgpu\\lib\\site-packages\\sklearn\\base.py:446: UserWarning: X does not have valid feature names, but StandardScaler was fitted with feature names\n",
      "  \"X does not have valid feature names, but\"\n",
      "C:\\Users\\nkele\\.conda\\envs\\tfgpu\\lib\\site-packages\\sklearn\\base.py:446: UserWarning: X does not have valid feature names, but StandardScaler was fitted with feature names\n",
      "  \"X does not have valid feature names, but\"\n",
      "C:\\Users\\nkele\\.conda\\envs\\tfgpu\\lib\\site-packages\\sklearn\\base.py:446: UserWarning: X does not have valid feature names, but StandardScaler was fitted with feature names\n",
      "  \"X does not have valid feature names, but\"\n",
      "C:\\Users\\nkele\\.conda\\envs\\tfgpu\\lib\\site-packages\\sklearn\\base.py:446: UserWarning: X does not have valid feature names, but StandardScaler was fitted with feature names\n",
      "  \"X does not have valid feature names, but\"\n"
     ]
    },
    {
     "name": "stdout",
     "output_type": "stream",
     "text": [
      "fist_wave [0.82 0.18]\n",
      "fist_wave [0.8 0.2]\n"
     ]
    },
    {
     "name": "stderr",
     "output_type": "stream",
     "text": [
      "C:\\Users\\nkele\\.conda\\envs\\tfgpu\\lib\\site-packages\\sklearn\\base.py:446: UserWarning: X does not have valid feature names, but StandardScaler was fitted with feature names\n",
      "  \"X does not have valid feature names, but\"\n",
      "C:\\Users\\nkele\\.conda\\envs\\tfgpu\\lib\\site-packages\\sklearn\\base.py:446: UserWarning: X does not have valid feature names, but StandardScaler was fitted with feature names\n",
      "  \"X does not have valid feature names, but\"\n",
      "C:\\Users\\nkele\\.conda\\envs\\tfgpu\\lib\\site-packages\\sklearn\\base.py:446: UserWarning: X does not have valid feature names, but StandardScaler was fitted with feature names\n",
      "  \"X does not have valid feature names, but\"\n",
      "C:\\Users\\nkele\\.conda\\envs\\tfgpu\\lib\\site-packages\\sklearn\\base.py:446: UserWarning: X does not have valid feature names, but StandardScaler was fitted with feature names\n",
      "  \"X does not have valid feature names, but\"\n"
     ]
    },
    {
     "name": "stdout",
     "output_type": "stream",
     "text": [
      "fist_wave [0.8 0.2]\n",
      "fist_wave [0.79 0.21]\n"
     ]
    },
    {
     "name": "stderr",
     "output_type": "stream",
     "text": [
      "C:\\Users\\nkele\\.conda\\envs\\tfgpu\\lib\\site-packages\\sklearn\\base.py:446: UserWarning: X does not have valid feature names, but StandardScaler was fitted with feature names\n",
      "  \"X does not have valid feature names, but\"\n",
      "C:\\Users\\nkele\\.conda\\envs\\tfgpu\\lib\\site-packages\\sklearn\\base.py:446: UserWarning: X does not have valid feature names, but StandardScaler was fitted with feature names\n",
      "  \"X does not have valid feature names, but\"\n",
      "C:\\Users\\nkele\\.conda\\envs\\tfgpu\\lib\\site-packages\\sklearn\\base.py:446: UserWarning: X does not have valid feature names, but StandardScaler was fitted with feature names\n",
      "  \"X does not have valid feature names, but\"\n",
      "C:\\Users\\nkele\\.conda\\envs\\tfgpu\\lib\\site-packages\\sklearn\\base.py:446: UserWarning: X does not have valid feature names, but StandardScaler was fitted with feature names\n",
      "  \"X does not have valid feature names, but\"\n"
     ]
    },
    {
     "name": "stdout",
     "output_type": "stream",
     "text": [
      "fist_wave [0.78 0.22]\n",
      "fist_wave [0.78 0.22]\n"
     ]
    },
    {
     "name": "stderr",
     "output_type": "stream",
     "text": [
      "C:\\Users\\nkele\\.conda\\envs\\tfgpu\\lib\\site-packages\\sklearn\\base.py:446: UserWarning: X does not have valid feature names, but StandardScaler was fitted with feature names\n",
      "  \"X does not have valid feature names, but\"\n",
      "C:\\Users\\nkele\\.conda\\envs\\tfgpu\\lib\\site-packages\\sklearn\\base.py:446: UserWarning: X does not have valid feature names, but StandardScaler was fitted with feature names\n",
      "  \"X does not have valid feature names, but\"\n",
      "C:\\Users\\nkele\\.conda\\envs\\tfgpu\\lib\\site-packages\\sklearn\\base.py:446: UserWarning: X does not have valid feature names, but StandardScaler was fitted with feature names\n",
      "  \"X does not have valid feature names, but\"\n",
      "C:\\Users\\nkele\\.conda\\envs\\tfgpu\\lib\\site-packages\\sklearn\\base.py:446: UserWarning: X does not have valid feature names, but StandardScaler was fitted with feature names\n",
      "  \"X does not have valid feature names, but\"\n"
     ]
    },
    {
     "name": "stdout",
     "output_type": "stream",
     "text": [
      "fist_wave [0.78 0.22]\n",
      "fist_wave [0.78 0.22]\n"
     ]
    },
    {
     "name": "stderr",
     "output_type": "stream",
     "text": [
      "C:\\Users\\nkele\\.conda\\envs\\tfgpu\\lib\\site-packages\\sklearn\\base.py:446: UserWarning: X does not have valid feature names, but StandardScaler was fitted with feature names\n",
      "  \"X does not have valid feature names, but\"\n",
      "C:\\Users\\nkele\\.conda\\envs\\tfgpu\\lib\\site-packages\\sklearn\\base.py:446: UserWarning: X does not have valid feature names, but StandardScaler was fitted with feature names\n",
      "  \"X does not have valid feature names, but\"\n"
     ]
    },
    {
     "name": "stdout",
     "output_type": "stream",
     "text": [
      "fist_wave [0.78 0.22]\n",
      "fist_wave [0.78 0.22]\n"
     ]
    },
    {
     "name": "stderr",
     "output_type": "stream",
     "text": [
      "C:\\Users\\nkele\\.conda\\envs\\tfgpu\\lib\\site-packages\\sklearn\\base.py:446: UserWarning: X does not have valid feature names, but StandardScaler was fitted with feature names\n",
      "  \"X does not have valid feature names, but\"\n",
      "C:\\Users\\nkele\\.conda\\envs\\tfgpu\\lib\\site-packages\\sklearn\\base.py:446: UserWarning: X does not have valid feature names, but StandardScaler was fitted with feature names\n",
      "  \"X does not have valid feature names, but\"\n",
      "C:\\Users\\nkele\\.conda\\envs\\tfgpu\\lib\\site-packages\\sklearn\\base.py:446: UserWarning: X does not have valid feature names, but StandardScaler was fitted with feature names\n",
      "  \"X does not have valid feature names, but\"\n",
      "C:\\Users\\nkele\\.conda\\envs\\tfgpu\\lib\\site-packages\\sklearn\\base.py:446: UserWarning: X does not have valid feature names, but StandardScaler was fitted with feature names\n",
      "  \"X does not have valid feature names, but\"\n"
     ]
    },
    {
     "name": "stdout",
     "output_type": "stream",
     "text": [
      "fist_wave [0.78 0.22]\n",
      "fist_wave [0.78 0.22]\n"
     ]
    },
    {
     "name": "stderr",
     "output_type": "stream",
     "text": [
      "C:\\Users\\nkele\\.conda\\envs\\tfgpu\\lib\\site-packages\\sklearn\\base.py:446: UserWarning: X does not have valid feature names, but StandardScaler was fitted with feature names\n",
      "  \"X does not have valid feature names, but\"\n",
      "C:\\Users\\nkele\\.conda\\envs\\tfgpu\\lib\\site-packages\\sklearn\\base.py:446: UserWarning: X does not have valid feature names, but StandardScaler was fitted with feature names\n",
      "  \"X does not have valid feature names, but\"\n",
      "C:\\Users\\nkele\\.conda\\envs\\tfgpu\\lib\\site-packages\\sklearn\\base.py:446: UserWarning: X does not have valid feature names, but StandardScaler was fitted with feature names\n",
      "  \"X does not have valid feature names, but\"\n",
      "C:\\Users\\nkele\\.conda\\envs\\tfgpu\\lib\\site-packages\\sklearn\\base.py:446: UserWarning: X does not have valid feature names, but StandardScaler was fitted with feature names\n",
      "  \"X does not have valid feature names, but\"\n"
     ]
    },
    {
     "name": "stdout",
     "output_type": "stream",
     "text": [
      "fist_wave [0.78 0.22]\n",
      "fist_wave [0.77 0.23]\n"
     ]
    },
    {
     "name": "stderr",
     "output_type": "stream",
     "text": [
      "C:\\Users\\nkele\\.conda\\envs\\tfgpu\\lib\\site-packages\\sklearn\\base.py:446: UserWarning: X does not have valid feature names, but StandardScaler was fitted with feature names\n",
      "  \"X does not have valid feature names, but\"\n",
      "C:\\Users\\nkele\\.conda\\envs\\tfgpu\\lib\\site-packages\\sklearn\\base.py:446: UserWarning: X does not have valid feature names, but StandardScaler was fitted with feature names\n",
      "  \"X does not have valid feature names, but\"\n",
      "C:\\Users\\nkele\\.conda\\envs\\tfgpu\\lib\\site-packages\\sklearn\\base.py:446: UserWarning: X does not have valid feature names, but StandardScaler was fitted with feature names\n",
      "  \"X does not have valid feature names, but\"\n",
      "C:\\Users\\nkele\\.conda\\envs\\tfgpu\\lib\\site-packages\\sklearn\\base.py:446: UserWarning: X does not have valid feature names, but StandardScaler was fitted with feature names\n",
      "  \"X does not have valid feature names, but\"\n"
     ]
    },
    {
     "name": "stdout",
     "output_type": "stream",
     "text": [
      "fist_wave [0.79 0.21]\n",
      "fist_wave [0.79 0.21]\n"
     ]
    },
    {
     "name": "stderr",
     "output_type": "stream",
     "text": [
      "C:\\Users\\nkele\\.conda\\envs\\tfgpu\\lib\\site-packages\\sklearn\\base.py:446: UserWarning: X does not have valid feature names, but StandardScaler was fitted with feature names\n",
      "  \"X does not have valid feature names, but\"\n",
      "C:\\Users\\nkele\\.conda\\envs\\tfgpu\\lib\\site-packages\\sklearn\\base.py:446: UserWarning: X does not have valid feature names, but StandardScaler was fitted with feature names\n",
      "  \"X does not have valid feature names, but\"\n",
      "C:\\Users\\nkele\\.conda\\envs\\tfgpu\\lib\\site-packages\\sklearn\\base.py:446: UserWarning: X does not have valid feature names, but StandardScaler was fitted with feature names\n",
      "  \"X does not have valid feature names, but\"\n",
      "C:\\Users\\nkele\\.conda\\envs\\tfgpu\\lib\\site-packages\\sklearn\\base.py:446: UserWarning: X does not have valid feature names, but StandardScaler was fitted with feature names\n",
      "  \"X does not have valid feature names, but\"\n",
      "C:\\Users\\nkele\\.conda\\envs\\tfgpu\\lib\\site-packages\\sklearn\\base.py:446: UserWarning: X does not have valid feature names, but StandardScaler was fitted with feature names\n",
      "  \"X does not have valid feature names, but\"\n",
      "C:\\Users\\nkele\\.conda\\envs\\tfgpu\\lib\\site-packages\\sklearn\\base.py:446: UserWarning: X does not have valid feature names, but StandardScaler was fitted with feature names\n",
      "  \"X does not have valid feature names, but\"\n",
      "C:\\Users\\nkele\\.conda\\envs\\tfgpu\\lib\\site-packages\\sklearn\\base.py:446: UserWarning: X does not have valid feature names, but StandardScaler was fitted with feature names\n",
      "  \"X does not have valid feature names, but\"\n",
      "C:\\Users\\nkele\\.conda\\envs\\tfgpu\\lib\\site-packages\\sklearn\\base.py:446: UserWarning: X does not have valid feature names, but StandardScaler was fitted with feature names\n",
      "  \"X does not have valid feature names, but\"\n"
     ]
    },
    {
     "name": "stdout",
     "output_type": "stream",
     "text": [
      "fist_wave [0.79 0.21]\n",
      "fist_wave [0.78 0.22]\n"
     ]
    },
    {
     "name": "stderr",
     "output_type": "stream",
     "text": [
      "C:\\Users\\nkele\\.conda\\envs\\tfgpu\\lib\\site-packages\\sklearn\\base.py:446: UserWarning: X does not have valid feature names, but StandardScaler was fitted with feature names\n",
      "  \"X does not have valid feature names, but\"\n",
      "C:\\Users\\nkele\\.conda\\envs\\tfgpu\\lib\\site-packages\\sklearn\\base.py:446: UserWarning: X does not have valid feature names, but StandardScaler was fitted with feature names\n",
      "  \"X does not have valid feature names, but\"\n"
     ]
    },
    {
     "name": "stdout",
     "output_type": "stream",
     "text": [
      "fist_wave [0.79 0.21]\n",
      "fist_wave [0.77 0.23]\n"
     ]
    },
    {
     "name": "stderr",
     "output_type": "stream",
     "text": [
      "C:\\Users\\nkele\\.conda\\envs\\tfgpu\\lib\\site-packages\\sklearn\\base.py:446: UserWarning: X does not have valid feature names, but StandardScaler was fitted with feature names\n",
      "  \"X does not have valid feature names, but\"\n",
      "C:\\Users\\nkele\\.conda\\envs\\tfgpu\\lib\\site-packages\\sklearn\\base.py:446: UserWarning: X does not have valid feature names, but StandardScaler was fitted with feature names\n",
      "  \"X does not have valid feature names, but\"\n",
      "C:\\Users\\nkele\\.conda\\envs\\tfgpu\\lib\\site-packages\\sklearn\\base.py:446: UserWarning: X does not have valid feature names, but StandardScaler was fitted with feature names\n",
      "  \"X does not have valid feature names, but\"\n"
     ]
    },
    {
     "name": "stdout",
     "output_type": "stream",
     "text": [
      "fist_wave [0.77 0.23]\n",
      "fist_wave [0.77 0.23]\n"
     ]
    },
    {
     "name": "stderr",
     "output_type": "stream",
     "text": [
      "C:\\Users\\nkele\\.conda\\envs\\tfgpu\\lib\\site-packages\\sklearn\\base.py:446: UserWarning: X does not have valid feature names, but StandardScaler was fitted with feature names\n",
      "  \"X does not have valid feature names, but\"\n",
      "C:\\Users\\nkele\\.conda\\envs\\tfgpu\\lib\\site-packages\\sklearn\\base.py:446: UserWarning: X does not have valid feature names, but StandardScaler was fitted with feature names\n",
      "  \"X does not have valid feature names, but\"\n",
      "C:\\Users\\nkele\\.conda\\envs\\tfgpu\\lib\\site-packages\\sklearn\\base.py:446: UserWarning: X does not have valid feature names, but StandardScaler was fitted with feature names\n",
      "  \"X does not have valid feature names, but\"\n"
     ]
    },
    {
     "name": "stdout",
     "output_type": "stream",
     "text": [
      "fist_wave [0.78 0.22]\n"
     ]
    },
    {
     "name": "stderr",
     "output_type": "stream",
     "text": [
      "C:\\Users\\nkele\\.conda\\envs\\tfgpu\\lib\\site-packages\\sklearn\\base.py:446: UserWarning: X does not have valid feature names, but StandardScaler was fitted with feature names\n",
      "  \"X does not have valid feature names, but\"\n",
      "C:\\Users\\nkele\\.conda\\envs\\tfgpu\\lib\\site-packages\\sklearn\\base.py:446: UserWarning: X does not have valid feature names, but StandardScaler was fitted with feature names\n",
      "  \"X does not have valid feature names, but\"\n",
      "C:\\Users\\nkele\\.conda\\envs\\tfgpu\\lib\\site-packages\\sklearn\\base.py:446: UserWarning: X does not have valid feature names, but StandardScaler was fitted with feature names\n",
      "  \"X does not have valid feature names, but\"\n",
      "C:\\Users\\nkele\\.conda\\envs\\tfgpu\\lib\\site-packages\\sklearn\\base.py:446: UserWarning: X does not have valid feature names, but StandardScaler was fitted with feature names\n",
      "  \"X does not have valid feature names, but\"\n"
     ]
    },
    {
     "name": "stdout",
     "output_type": "stream",
     "text": [
      "fist_wave [0.8 0.2]\n",
      "fist_wave [0.82 0.18]\n"
     ]
    },
    {
     "name": "stderr",
     "output_type": "stream",
     "text": [
      "C:\\Users\\nkele\\.conda\\envs\\tfgpu\\lib\\site-packages\\sklearn\\base.py:446: UserWarning: X does not have valid feature names, but StandardScaler was fitted with feature names\n",
      "  \"X does not have valid feature names, but\"\n",
      "C:\\Users\\nkele\\.conda\\envs\\tfgpu\\lib\\site-packages\\sklearn\\base.py:446: UserWarning: X does not have valid feature names, but StandardScaler was fitted with feature names\n",
      "  \"X does not have valid feature names, but\"\n",
      "C:\\Users\\nkele\\.conda\\envs\\tfgpu\\lib\\site-packages\\sklearn\\base.py:446: UserWarning: X does not have valid feature names, but StandardScaler was fitted with feature names\n",
      "  \"X does not have valid feature names, but\"\n",
      "C:\\Users\\nkele\\.conda\\envs\\tfgpu\\lib\\site-packages\\sklearn\\base.py:446: UserWarning: X does not have valid feature names, but StandardScaler was fitted with feature names\n",
      "  \"X does not have valid feature names, but\"\n"
     ]
    },
    {
     "name": "stdout",
     "output_type": "stream",
     "text": [
      "fist_wave [0.82 0.18]\n",
      "fist_wave [0.83 0.17]\n"
     ]
    },
    {
     "name": "stderr",
     "output_type": "stream",
     "text": [
      "C:\\Users\\nkele\\.conda\\envs\\tfgpu\\lib\\site-packages\\sklearn\\base.py:446: UserWarning: X does not have valid feature names, but StandardScaler was fitted with feature names\n",
      "  \"X does not have valid feature names, but\"\n",
      "C:\\Users\\nkele\\.conda\\envs\\tfgpu\\lib\\site-packages\\sklearn\\base.py:446: UserWarning: X does not have valid feature names, but StandardScaler was fitted with feature names\n",
      "  \"X does not have valid feature names, but\"\n",
      "C:\\Users\\nkele\\.conda\\envs\\tfgpu\\lib\\site-packages\\sklearn\\base.py:446: UserWarning: X does not have valid feature names, but StandardScaler was fitted with feature names\n",
      "  \"X does not have valid feature names, but\"\n",
      "C:\\Users\\nkele\\.conda\\envs\\tfgpu\\lib\\site-packages\\sklearn\\base.py:446: UserWarning: X does not have valid feature names, but StandardScaler was fitted with feature names\n",
      "  \"X does not have valid feature names, but\"\n",
      "C:\\Users\\nkele\\.conda\\envs\\tfgpu\\lib\\site-packages\\sklearn\\base.py:446: UserWarning: X does not have valid feature names, but StandardScaler was fitted with feature names\n",
      "  \"X does not have valid feature names, but\"\n",
      "C:\\Users\\nkele\\.conda\\envs\\tfgpu\\lib\\site-packages\\sklearn\\base.py:446: UserWarning: X does not have valid feature names, but StandardScaler was fitted with feature names\n",
      "  \"X does not have valid feature names, but\"\n"
     ]
    },
    {
     "name": "stdout",
     "output_type": "stream",
     "text": [
      "fist_wave [0.84 0.16]\n",
      "fist_wave [0.86 0.14]\n"
     ]
    },
    {
     "name": "stderr",
     "output_type": "stream",
     "text": [
      "C:\\Users\\nkele\\.conda\\envs\\tfgpu\\lib\\site-packages\\sklearn\\base.py:446: UserWarning: X does not have valid feature names, but StandardScaler was fitted with feature names\n",
      "  \"X does not have valid feature names, but\"\n",
      "C:\\Users\\nkele\\.conda\\envs\\tfgpu\\lib\\site-packages\\sklearn\\base.py:446: UserWarning: X does not have valid feature names, but StandardScaler was fitted with feature names\n",
      "  \"X does not have valid feature names, but\"\n"
     ]
    },
    {
     "name": "stdout",
     "output_type": "stream",
     "text": [
      "fist_wave [0.87 0.13]\n",
      "fist_wave [0.9 0.1]\n"
     ]
    },
    {
     "name": "stderr",
     "output_type": "stream",
     "text": [
      "C:\\Users\\nkele\\.conda\\envs\\tfgpu\\lib\\site-packages\\sklearn\\base.py:446: UserWarning: X does not have valid feature names, but StandardScaler was fitted with feature names\n",
      "  \"X does not have valid feature names, but\"\n",
      "C:\\Users\\nkele\\.conda\\envs\\tfgpu\\lib\\site-packages\\sklearn\\base.py:446: UserWarning: X does not have valid feature names, but StandardScaler was fitted with feature names\n",
      "  \"X does not have valid feature names, but\"\n",
      "C:\\Users\\nkele\\.conda\\envs\\tfgpu\\lib\\site-packages\\sklearn\\base.py:446: UserWarning: X does not have valid feature names, but StandardScaler was fitted with feature names\n",
      "  \"X does not have valid feature names, but\"\n",
      "C:\\Users\\nkele\\.conda\\envs\\tfgpu\\lib\\site-packages\\sklearn\\base.py:446: UserWarning: X does not have valid feature names, but StandardScaler was fitted with feature names\n",
      "  \"X does not have valid feature names, but\"\n"
     ]
    },
    {
     "name": "stdout",
     "output_type": "stream",
     "text": [
      "fist_wave [0.91 0.09]\n",
      "fist_wave [0.91 0.09]\n"
     ]
    },
    {
     "name": "stderr",
     "output_type": "stream",
     "text": [
      "C:\\Users\\nkele\\.conda\\envs\\tfgpu\\lib\\site-packages\\sklearn\\base.py:446: UserWarning: X does not have valid feature names, but StandardScaler was fitted with feature names\n",
      "  \"X does not have valid feature names, but\"\n",
      "C:\\Users\\nkele\\.conda\\envs\\tfgpu\\lib\\site-packages\\sklearn\\base.py:446: UserWarning: X does not have valid feature names, but StandardScaler was fitted with feature names\n",
      "  \"X does not have valid feature names, but\"\n",
      "C:\\Users\\nkele\\.conda\\envs\\tfgpu\\lib\\site-packages\\sklearn\\base.py:446: UserWarning: X does not have valid feature names, but StandardScaler was fitted with feature names\n",
      "  \"X does not have valid feature names, but\"\n"
     ]
    },
    {
     "name": "stdout",
     "output_type": "stream",
     "text": [
      "fist_wave [0.91 0.09]\n"
     ]
    },
    {
     "name": "stderr",
     "output_type": "stream",
     "text": [
      "C:\\Users\\nkele\\.conda\\envs\\tfgpu\\lib\\site-packages\\sklearn\\base.py:446: UserWarning: X does not have valid feature names, but StandardScaler was fitted with feature names\n",
      "  \"X does not have valid feature names, but\"\n",
      "C:\\Users\\nkele\\.conda\\envs\\tfgpu\\lib\\site-packages\\sklearn\\base.py:446: UserWarning: X does not have valid feature names, but StandardScaler was fitted with feature names\n",
      "  \"X does not have valid feature names, but\"\n",
      "C:\\Users\\nkele\\.conda\\envs\\tfgpu\\lib\\site-packages\\sklearn\\base.py:446: UserWarning: X does not have valid feature names, but StandardScaler was fitted with feature names\n",
      "  \"X does not have valid feature names, but\"\n"
     ]
    },
    {
     "name": "stdout",
     "output_type": "stream",
     "text": [
      "fist_wave [0.91 0.09]\n",
      "fist_wave [0.91 0.09]\n"
     ]
    },
    {
     "name": "stderr",
     "output_type": "stream",
     "text": [
      "C:\\Users\\nkele\\.conda\\envs\\tfgpu\\lib\\site-packages\\sklearn\\base.py:446: UserWarning: X does not have valid feature names, but StandardScaler was fitted with feature names\n",
      "  \"X does not have valid feature names, but\"\n",
      "C:\\Users\\nkele\\.conda\\envs\\tfgpu\\lib\\site-packages\\sklearn\\base.py:446: UserWarning: X does not have valid feature names, but StandardScaler was fitted with feature names\n",
      "  \"X does not have valid feature names, but\"\n",
      "C:\\Users\\nkele\\.conda\\envs\\tfgpu\\lib\\site-packages\\sklearn\\base.py:446: UserWarning: X does not have valid feature names, but StandardScaler was fitted with feature names\n",
      "  \"X does not have valid feature names, but\"\n",
      "C:\\Users\\nkele\\.conda\\envs\\tfgpu\\lib\\site-packages\\sklearn\\base.py:446: UserWarning: X does not have valid feature names, but StandardScaler was fitted with feature names\n",
      "  \"X does not have valid feature names, but\"\n"
     ]
    },
    {
     "name": "stdout",
     "output_type": "stream",
     "text": [
      "fist_wave [0.91 0.09]\n",
      "fist_wave [0.91 0.09]\n"
     ]
    },
    {
     "name": "stderr",
     "output_type": "stream",
     "text": [
      "C:\\Users\\nkele\\.conda\\envs\\tfgpu\\lib\\site-packages\\sklearn\\base.py:446: UserWarning: X does not have valid feature names, but StandardScaler was fitted with feature names\n",
      "  \"X does not have valid feature names, but\"\n",
      "C:\\Users\\nkele\\.conda\\envs\\tfgpu\\lib\\site-packages\\sklearn\\base.py:446: UserWarning: X does not have valid feature names, but StandardScaler was fitted with feature names\n",
      "  \"X does not have valid feature names, but\"\n",
      "C:\\Users\\nkele\\.conda\\envs\\tfgpu\\lib\\site-packages\\sklearn\\base.py:446: UserWarning: X does not have valid feature names, but StandardScaler was fitted with feature names\n",
      "  \"X does not have valid feature names, but\"\n",
      "C:\\Users\\nkele\\.conda\\envs\\tfgpu\\lib\\site-packages\\sklearn\\base.py:446: UserWarning: X does not have valid feature names, but StandardScaler was fitted with feature names\n",
      "  \"X does not have valid feature names, but\"\n"
     ]
    },
    {
     "name": "stdout",
     "output_type": "stream",
     "text": [
      "fist_wave [0.91 0.09]\n",
      "fist_wave [0.92 0.08]\n"
     ]
    },
    {
     "name": "stderr",
     "output_type": "stream",
     "text": [
      "C:\\Users\\nkele\\.conda\\envs\\tfgpu\\lib\\site-packages\\sklearn\\base.py:446: UserWarning: X does not have valid feature names, but StandardScaler was fitted with feature names\n",
      "  \"X does not have valid feature names, but\"\n",
      "C:\\Users\\nkele\\.conda\\envs\\tfgpu\\lib\\site-packages\\sklearn\\base.py:446: UserWarning: X does not have valid feature names, but StandardScaler was fitted with feature names\n",
      "  \"X does not have valid feature names, but\"\n",
      "C:\\Users\\nkele\\.conda\\envs\\tfgpu\\lib\\site-packages\\sklearn\\base.py:446: UserWarning: X does not have valid feature names, but StandardScaler was fitted with feature names\n",
      "  \"X does not have valid feature names, but\"\n",
      "C:\\Users\\nkele\\.conda\\envs\\tfgpu\\lib\\site-packages\\sklearn\\base.py:446: UserWarning: X does not have valid feature names, but StandardScaler was fitted with feature names\n",
      "  \"X does not have valid feature names, but\"\n"
     ]
    },
    {
     "name": "stdout",
     "output_type": "stream",
     "text": [
      "fist_wave [0.91 0.09]\n"
     ]
    },
    {
     "name": "stderr",
     "output_type": "stream",
     "text": [
      "C:\\Users\\nkele\\.conda\\envs\\tfgpu\\lib\\site-packages\\sklearn\\base.py:446: UserWarning: X does not have valid feature names, but StandardScaler was fitted with feature names\n",
      "  \"X does not have valid feature names, but\"\n",
      "C:\\Users\\nkele\\.conda\\envs\\tfgpu\\lib\\site-packages\\sklearn\\base.py:446: UserWarning: X does not have valid feature names, but StandardScaler was fitted with feature names\n",
      "  \"X does not have valid feature names, but\"\n",
      "C:\\Users\\nkele\\.conda\\envs\\tfgpu\\lib\\site-packages\\sklearn\\base.py:446: UserWarning: X does not have valid feature names, but StandardScaler was fitted with feature names\n",
      "  \"X does not have valid feature names, but\"\n",
      "C:\\Users\\nkele\\.conda\\envs\\tfgpu\\lib\\site-packages\\sklearn\\base.py:446: UserWarning: X does not have valid feature names, but StandardScaler was fitted with feature names\n",
      "  \"X does not have valid feature names, but\"\n"
     ]
    },
    {
     "name": "stdout",
     "output_type": "stream",
     "text": [
      "fist_wave [0.89 0.11]\n",
      "fist_wave [0.88 0.12]\n"
     ]
    },
    {
     "name": "stderr",
     "output_type": "stream",
     "text": [
      "C:\\Users\\nkele\\.conda\\envs\\tfgpu\\lib\\site-packages\\sklearn\\base.py:446: UserWarning: X does not have valid feature names, but StandardScaler was fitted with feature names\n",
      "  \"X does not have valid feature names, but\"\n",
      "C:\\Users\\nkele\\.conda\\envs\\tfgpu\\lib\\site-packages\\sklearn\\base.py:446: UserWarning: X does not have valid feature names, but StandardScaler was fitted with feature names\n",
      "  \"X does not have valid feature names, but\"\n",
      "C:\\Users\\nkele\\.conda\\envs\\tfgpu\\lib\\site-packages\\sklearn\\base.py:446: UserWarning: X does not have valid feature names, but StandardScaler was fitted with feature names\n",
      "  \"X does not have valid feature names, but\"\n",
      "C:\\Users\\nkele\\.conda\\envs\\tfgpu\\lib\\site-packages\\sklearn\\base.py:446: UserWarning: X does not have valid feature names, but StandardScaler was fitted with feature names\n",
      "  \"X does not have valid feature names, but\"\n"
     ]
    },
    {
     "name": "stdout",
     "output_type": "stream",
     "text": [
      "fist_wave [0.89 0.11]\n",
      "fist_wave [0.91 0.09]\n",
      "fist_wave"
     ]
    },
    {
     "name": "stderr",
     "output_type": "stream",
     "text": [
      "C:\\Users\\nkele\\.conda\\envs\\tfgpu\\lib\\site-packages\\sklearn\\base.py:446: UserWarning: X does not have valid feature names, but StandardScaler was fitted with feature names\n",
      "  \"X does not have valid feature names, but\"\n",
      "C:\\Users\\nkele\\.conda\\envs\\tfgpu\\lib\\site-packages\\sklearn\\base.py:446: UserWarning: X does not have valid feature names, but StandardScaler was fitted with feature names\n",
      "  \"X does not have valid feature names, but\"\n"
     ]
    },
    {
     "name": "stdout",
     "output_type": "stream",
     "text": [
      " [0.9 0.1]\n",
      "fist_wave [0.88 0.12]\n",
      "fist_wave [0.88 0.12]\n"
     ]
    },
    {
     "name": "stderr",
     "output_type": "stream",
     "text": [
      "C:\\Users\\nkele\\.conda\\envs\\tfgpu\\lib\\site-packages\\sklearn\\base.py:446: UserWarning: X does not have valid feature names, but StandardScaler was fitted with feature names\n",
      "  \"X does not have valid feature names, but\"\n",
      "C:\\Users\\nkele\\.conda\\envs\\tfgpu\\lib\\site-packages\\sklearn\\base.py:446: UserWarning: X does not have valid feature names, but StandardScaler was fitted with feature names\n",
      "  \"X does not have valid feature names, but\"\n",
      "C:\\Users\\nkele\\.conda\\envs\\tfgpu\\lib\\site-packages\\sklearn\\base.py:446: UserWarning: X does not have valid feature names, but StandardScaler was fitted with feature names\n",
      "  \"X does not have valid feature names, but\"\n",
      "C:\\Users\\nkele\\.conda\\envs\\tfgpu\\lib\\site-packages\\sklearn\\base.py:446: UserWarning: X does not have valid feature names, but StandardScaler was fitted with feature names\n",
      "  \"X does not have valid feature names, but\"\n"
     ]
    },
    {
     "name": "stdout",
     "output_type": "stream",
     "text": [
      "fist_wave [0.88 0.12]\n",
      "fist_wave [0.89 0.11]\n"
     ]
    },
    {
     "name": "stderr",
     "output_type": "stream",
     "text": [
      "C:\\Users\\nkele\\.conda\\envs\\tfgpu\\lib\\site-packages\\sklearn\\base.py:446: UserWarning: X does not have valid feature names, but StandardScaler was fitted with feature names\n",
      "  \"X does not have valid feature names, but\"\n",
      "C:\\Users\\nkele\\.conda\\envs\\tfgpu\\lib\\site-packages\\sklearn\\base.py:446: UserWarning: X does not have valid feature names, but StandardScaler was fitted with feature names\n",
      "  \"X does not have valid feature names, but\"\n",
      "C:\\Users\\nkele\\.conda\\envs\\tfgpu\\lib\\site-packages\\sklearn\\base.py:446: UserWarning: X does not have valid feature names, but StandardScaler was fitted with feature names\n",
      "  \"X does not have valid feature names, but\"\n",
      "C:\\Users\\nkele\\.conda\\envs\\tfgpu\\lib\\site-packages\\sklearn\\base.py:446: UserWarning: X does not have valid feature names, but StandardScaler was fitted with feature names\n",
      "  \"X does not have valid feature names, but\"\n",
      "C:\\Users\\nkele\\.conda\\envs\\tfgpu\\lib\\site-packages\\sklearn\\base.py:446: UserWarning: X does not have valid feature names, but StandardScaler was fitted with feature names\n",
      "  \"X does not have valid feature names, but\"\n",
      "C:\\Users\\nkele\\.conda\\envs\\tfgpu\\lib\\site-packages\\sklearn\\base.py:446: UserWarning: X does not have valid feature names, but StandardScaler was fitted with feature names\n",
      "  \"X does not have valid feature names, but\"\n"
     ]
    },
    {
     "name": "stdout",
     "output_type": "stream",
     "text": [
      "fist_wave [0.87 0.13]\n",
      "fist_wave [0.88 0.12]\n"
     ]
    },
    {
     "name": "stderr",
     "output_type": "stream",
     "text": [
      "C:\\Users\\nkele\\.conda\\envs\\tfgpu\\lib\\site-packages\\sklearn\\base.py:446: UserWarning: X does not have valid feature names, but StandardScaler was fitted with feature names\n",
      "  \"X does not have valid feature names, but\"\n",
      "C:\\Users\\nkele\\.conda\\envs\\tfgpu\\lib\\site-packages\\sklearn\\base.py:446: UserWarning: X does not have valid feature names, but StandardScaler was fitted with feature names\n",
      "  \"X does not have valid feature names, but\"\n"
     ]
    },
    {
     "name": "stdout",
     "output_type": "stream",
     "text": [
      "fist_wave [0.9 0.1]\n",
      "fist_wave [0.88 0.12]\n"
     ]
    },
    {
     "name": "stderr",
     "output_type": "stream",
     "text": [
      "C:\\Users\\nkele\\.conda\\envs\\tfgpu\\lib\\site-packages\\sklearn\\base.py:446: UserWarning: X does not have valid feature names, but StandardScaler was fitted with feature names\n",
      "  \"X does not have valid feature names, but\"\n",
      "C:\\Users\\nkele\\.conda\\envs\\tfgpu\\lib\\site-packages\\sklearn\\base.py:446: UserWarning: X does not have valid feature names, but StandardScaler was fitted with feature names\n",
      "  \"X does not have valid feature names, but\"\n",
      "C:\\Users\\nkele\\.conda\\envs\\tfgpu\\lib\\site-packages\\sklearn\\base.py:446: UserWarning: X does not have valid feature names, but StandardScaler was fitted with feature names\n",
      "  \"X does not have valid feature names, but\"\n",
      "C:\\Users\\nkele\\.conda\\envs\\tfgpu\\lib\\site-packages\\sklearn\\base.py:446: UserWarning: X does not have valid feature names, but StandardScaler was fitted with feature names\n",
      "  \"X does not have valid feature names, but\"\n"
     ]
    },
    {
     "name": "stdout",
     "output_type": "stream",
     "text": [
      "fist_wave [0.88 0.12]\n",
      "fist_wave [0.88 0.12]\n"
     ]
    },
    {
     "name": "stderr",
     "output_type": "stream",
     "text": [
      "C:\\Users\\nkele\\.conda\\envs\\tfgpu\\lib\\site-packages\\sklearn\\base.py:446: UserWarning: X does not have valid feature names, but StandardScaler was fitted with feature names\n",
      "  \"X does not have valid feature names, but\"\n",
      "C:\\Users\\nkele\\.conda\\envs\\tfgpu\\lib\\site-packages\\sklearn\\base.py:446: UserWarning: X does not have valid feature names, but StandardScaler was fitted with feature names\n",
      "  \"X does not have valid feature names, but\"\n"
     ]
    }
   ],
   "source": [
    "cap = cv2.VideoCapture(\"wave_test.mp4\")\n",
    "# Initiate holistic model\n",
    "with mp_holistic.Holistic(min_detection_confidence=0.5, min_tracking_confidence=0.5) as holistic:\n",
    "    \n",
    "    while cap.isOpened():\n",
    "        ret, frame = cap.read()\n",
    "        \n",
    "        # Recolor Feed\n",
    "        image = cv2.cvtColor(frame, cv2.COLOR_BGR2RGB)\n",
    "        image.flags.writeable = False        \n",
    "        \n",
    "        # Make Detections\n",
    "        results = holistic.process(image)\n",
    "        # print(results.face_landmarks)\n",
    "        \n",
    "        # face_landmarks, pose_landmarks, left_hand_landmarks, right_hand_landmarks\n",
    "        \n",
    "        # Recolor image back to BGR for rendering\n",
    "        image.flags.writeable = True   \n",
    "        image = cv2.cvtColor(image, cv2.COLOR_RGB2BGR)\n",
    "        \n",
    "        # 1. Draw face landmarks\n",
    "#         mp_drawing.draw_landmarks(image, results.face_landmarks, mp_holistic.FACE_CONNECTIONS, \n",
    "#                                  mp_drawing.DrawingSpec(color=(80,110,10), thickness=1, circle_radius=1),\n",
    "#                                  mp_drawing.DrawingSpec(color=(80,256,121), thickness=1, circle_radius=1)\n",
    "#                                  )\n",
    "        \n",
    "        # 2. Right hand\n",
    "        mp_drawing.draw_landmarks(image, results.right_hand_landmarks, mp_holistic.HAND_CONNECTIONS, \n",
    "                                 mp_drawing.DrawingSpec(color=(80,22,10), thickness=2, circle_radius=4),\n",
    "                                 mp_drawing.DrawingSpec(color=(80,44,121), thickness=2, circle_radius=2)\n",
    "                                 )\n",
    "\n",
    "        # 3. Left Hand\n",
    "        mp_drawing.draw_landmarks(image, results.left_hand_landmarks, mp_holistic.HAND_CONNECTIONS, \n",
    "                                 mp_drawing.DrawingSpec(color=(121,22,76), thickness=2, circle_radius=4),\n",
    "                                 mp_drawing.DrawingSpec(color=(121,44,250), thickness=2, circle_radius=2)\n",
    "                                 )\n",
    "\n",
    "        # 4. Pose Detections\n",
    "        mp_drawing.draw_landmarks(image, results.pose_landmarks, mp_holistic.POSE_CONNECTIONS, \n",
    "                                 mp_drawing.DrawingSpec(color=(245,117,66), thickness=2, circle_radius=4),\n",
    "                                 mp_drawing.DrawingSpec(color=(245,66,230), thickness=2, circle_radius=2)\n",
    "                                 )\n",
    "        # Export coordinates\n",
    "        try:\n",
    "            # Extract Pose landmarks\n",
    "            pose = results.pose_landmarks.landmark\n",
    "            pose_row = list(np.array([[landmark.x, landmark.y, landmark.z, landmark.visibility] for landmark in pose]).flatten())\n",
    "            \n",
    "            # Extract Face landmarks\n",
    "#             face = results.face_landmarks.landmark\n",
    "#             face_row = list(np.array([[landmark.x, landmark.y, landmark.z, landmark.visibility] for landmark in face]).flatten())\n",
    "            \n",
    "            # Concate rows\n",
    "#             row = pose_row+face_row\n",
    "            row = pose_row\n",
    "            \n",
    "#             # Append class name \n",
    "#             row.insert(0, class_name)\n",
    "            \n",
    "#             # Export to CSV\n",
    "#             with open('coords.csv', mode='a', newline='') as f:\n",
    "#                 csv_writer = csv.writer(f, delimiter=',', quotechar='\"', quoting=csv.QUOTE_MINIMAL)\n",
    "#                 csv_writer.writerow(row) \n",
    "\n",
    "            # Make Detections\n",
    "            X = pd.DataFrame([row])\n",
    "            body_language_class = model.predict(X)[0]\n",
    "            body_language_prob = model.predict_proba(X)[0]\n",
    "            print(body_language_class, body_language_prob)\n",
    "            \n",
    "            # Grab ear coords\n",
    "            coords = tuple(np.multiply(\n",
    "                            np.array(\n",
    "                                (results.pose_landmarks.landmark[mp_holistic.PoseLandmark.LEFT_EAR].x, \n",
    "                                 results.pose_landmarks.landmark[mp_holistic.PoseLandmark.LEFT_EAR].y))\n",
    "                        , [640,480]).astype(int))\n",
    "            \n",
    "            cv2.rectangle(image, \n",
    "                          (coords[0], coords[1]+5), \n",
    "                          (coords[0]+len(body_language_class)*20, coords[1]-30), \n",
    "                          (245, 117, 16), -1)\n",
    "            cv2.putText(image, body_language_class, coords, \n",
    "                        cv2.FONT_HERSHEY_SIMPLEX, 1, (255, 255, 255), 2, cv2.LINE_AA)\n",
    "            \n",
    "            # Get status box\n",
    "            cv2.rectangle(image, (0,0), (250, 60), (245, 117, 16), -1)\n",
    "            \n",
    "            # Display Class\n",
    "            cv2.putText(image, 'CLASS'\n",
    "                        , (95,12), cv2.FONT_HERSHEY_SIMPLEX, 0.5, (0, 0, 0), 1, cv2.LINE_AA)\n",
    "            cv2.putText(image, body_language_class.split(' ')[0]\n",
    "                        , (90,40), cv2.FONT_HERSHEY_SIMPLEX, 1, (255, 255, 255), 2, cv2.LINE_AA)\n",
    "            \n",
    "            # Display Probability\n",
    "            cv2.putText(image, 'PROB'\n",
    "                        , (15,12), cv2.FONT_HERSHEY_SIMPLEX, 0.5, (0, 0, 0), 1, cv2.LINE_AA)\n",
    "            cv2.putText(image, str(round(body_language_prob[np.argmax(body_language_prob)],2))\n",
    "                        , (10,40), cv2.FONT_HERSHEY_SIMPLEX, 1, (255, 255, 255), 2, cv2.LINE_AA)\n",
    "            \n",
    "        except:\n",
    "            pass\n",
    "                        \n",
    "        cv2.imshow('Raw Webcam Feed', image)\n",
    "\n",
    "        if cv2.waitKey(1) & 0xFF == ord('q'):\n",
    "            break\n",
    "\n",
    "cap.release()\n",
    "cv2.destroyAllWindows()"
   ]
  },
  {
   "cell_type": "code",
   "execution_count": null,
   "metadata": {},
   "outputs": [],
   "source": []
  }
 ],
 "metadata": {
  "kernelspec": {
   "display_name": "tfgpu",
   "language": "python",
   "name": "tfgpu"
  },
  "language_info": {
   "codemirror_mode": {
    "name": "ipython",
    "version": 3
   },
   "file_extension": ".py",
   "mimetype": "text/x-python",
   "name": "python",
   "nbconvert_exporter": "python",
   "pygments_lexer": "ipython3",
   "version": "3.7.11"
  }
 },
 "nbformat": 4,
 "nbformat_minor": 4
}
